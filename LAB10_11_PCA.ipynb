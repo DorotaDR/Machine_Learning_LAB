{
  "nbformat": 4,
  "nbformat_minor": 0,
  "metadata": {
    "colab": {
      "name": "LAB10_11_PCA.ipynb",
      "provenance": [],
      "collapsed_sections": [],
      "toc_visible": true
    },
    "kernelspec": {
      "name": "python3",
      "display_name": "Python 3"
    }
  },
  "cells": [
    {
      "cell_type": "markdown",
      "metadata": {
        "id": "hjFTByO43Ldv"
      },
      "source": [
        "# PCA\r\n",
        "\r\n",
        "Author: Dorota Lączak, ISZ"
      ]
    },
    {
      "cell_type": "markdown",
      "metadata": {
        "id": "aSVTiG5g38lz"
      },
      "source": [
        "## EX. 1"
      ]
    },
    {
      "cell_type": "code",
      "metadata": {
        "id": "EL3-PYQx3Oo1"
      },
      "source": [
        "import pandas as pd\r\n",
        "import numpy as np\r\n",
        "import matplotlib as mpl\r\n",
        "import matplotlib.pyplot as plt\r\n",
        "%matplotlib inline"
      ],
      "execution_count": 2,
      "outputs": []
    },
    {
      "cell_type": "markdown",
      "metadata": {
        "id": "sFHvJ7Nm68fD"
      },
      "source": [
        "#### usarrests.csv  Data Example"
      ]
    },
    {
      "cell_type": "code",
      "metadata": {
        "colab": {
          "base_uri": "https://localhost:8080/",
          "height": 204
        },
        "id": "AN293AL74APi",
        "outputId": "bb1af62e-e5c7-445e-fbdb-66117ef843d2"
      },
      "source": [
        "df = pd.read_csv('usarrests.csv', index_col=0)\r\n",
        "df.head()"
      ],
      "execution_count": 5,
      "outputs": [
        {
          "output_type": "execute_result",
          "data": {
            "text/html": [
              "<div>\n",
              "<style scoped>\n",
              "    .dataframe tbody tr th:only-of-type {\n",
              "        vertical-align: middle;\n",
              "    }\n",
              "\n",
              "    .dataframe tbody tr th {\n",
              "        vertical-align: top;\n",
              "    }\n",
              "\n",
              "    .dataframe thead th {\n",
              "        text-align: right;\n",
              "    }\n",
              "</style>\n",
              "<table border=\"1\" class=\"dataframe\">\n",
              "  <thead>\n",
              "    <tr style=\"text-align: right;\">\n",
              "      <th></th>\n",
              "      <th>Murder</th>\n",
              "      <th>Assault</th>\n",
              "      <th>UrbanPop</th>\n",
              "      <th>Rape</th>\n",
              "    </tr>\n",
              "  </thead>\n",
              "  <tbody>\n",
              "    <tr>\n",
              "      <th>Alabama</th>\n",
              "      <td>13.2</td>\n",
              "      <td>236</td>\n",
              "      <td>58</td>\n",
              "      <td>21.2</td>\n",
              "    </tr>\n",
              "    <tr>\n",
              "      <th>Alaska</th>\n",
              "      <td>10.0</td>\n",
              "      <td>263</td>\n",
              "      <td>48</td>\n",
              "      <td>44.5</td>\n",
              "    </tr>\n",
              "    <tr>\n",
              "      <th>Arizona</th>\n",
              "      <td>8.1</td>\n",
              "      <td>294</td>\n",
              "      <td>80</td>\n",
              "      <td>31.0</td>\n",
              "    </tr>\n",
              "    <tr>\n",
              "      <th>Arkansas</th>\n",
              "      <td>8.8</td>\n",
              "      <td>190</td>\n",
              "      <td>50</td>\n",
              "      <td>19.5</td>\n",
              "    </tr>\n",
              "    <tr>\n",
              "      <th>California</th>\n",
              "      <td>9.0</td>\n",
              "      <td>276</td>\n",
              "      <td>91</td>\n",
              "      <td>40.6</td>\n",
              "    </tr>\n",
              "  </tbody>\n",
              "</table>\n",
              "</div>"
            ],
            "text/plain": [
              "            Murder  Assault  UrbanPop  Rape\n",
              "Alabama       13.2      236        58  21.2\n",
              "Alaska        10.0      263        48  44.5\n",
              "Arizona        8.1      294        80  31.0\n",
              "Arkansas       8.8      190        50  19.5\n",
              "California     9.0      276        91  40.6"
            ]
          },
          "metadata": {
            "tags": []
          },
          "execution_count": 5
        }
      ]
    },
    {
      "cell_type": "code",
      "metadata": {
        "colab": {
          "base_uri": "https://localhost:8080/"
        },
        "id": "L_ByXLwk4DUh",
        "outputId": "a68698a8-17ed-480c-f21b-95a995079356"
      },
      "source": [
        "df.info()\r\n"
      ],
      "execution_count": 6,
      "outputs": [
        {
          "output_type": "stream",
          "text": [
            "<class 'pandas.core.frame.DataFrame'>\n",
            "Index: 50 entries, Alabama to Wyoming\n",
            "Data columns (total 4 columns):\n",
            " #   Column    Non-Null Count  Dtype  \n",
            "---  ------    --------------  -----  \n",
            " 0   Murder    50 non-null     float64\n",
            " 1   Assault   50 non-null     int64  \n",
            " 2   UrbanPop  50 non-null     int64  \n",
            " 3   Rape      50 non-null     float64\n",
            "dtypes: float64(2), int64(2)\n",
            "memory usage: 2.0+ KB\n"
          ],
          "name": "stdout"
        }
      ]
    },
    {
      "cell_type": "code",
      "metadata": {
        "colab": {
          "base_uri": "https://localhost:8080/"
        },
        "id": "-w7kmTWX4UxY",
        "outputId": "12589d75-f6d7-490e-9d9e-e882d6b26211"
      },
      "source": [
        "df.mean()"
      ],
      "execution_count": 7,
      "outputs": [
        {
          "output_type": "execute_result",
          "data": {
            "text/plain": [
              "Murder        7.788\n",
              "Assault     170.760\n",
              "UrbanPop     65.540\n",
              "Rape         21.232\n",
              "dtype: float64"
            ]
          },
          "metadata": {
            "tags": []
          },
          "execution_count": 7
        }
      ]
    },
    {
      "cell_type": "code",
      "metadata": {
        "colab": {
          "base_uri": "https://localhost:8080/"
        },
        "id": "L2jWg3f84WK6",
        "outputId": "84865fac-1392-4db4-ce66-9ef7b1004817"
      },
      "source": [
        "df.var()"
      ],
      "execution_count": 8,
      "outputs": [
        {
          "output_type": "execute_result",
          "data": {
            "text/plain": [
              "Murder        18.970465\n",
              "Assault     6945.165714\n",
              "UrbanPop     209.518776\n",
              "Rape          87.729159\n",
              "dtype: float64"
            ]
          },
          "metadata": {
            "tags": []
          },
          "execution_count": 8
        }
      ]
    },
    {
      "cell_type": "code",
      "metadata": {
        "id": "ip4mAue14Xug"
      },
      "source": [
        "from sklearn.preprocessing import scale\r\n",
        "X = pd.DataFrame(scale(df), index=df.index, columns=df.columns)"
      ],
      "execution_count": 10,
      "outputs": []
    },
    {
      "cell_type": "code",
      "metadata": {
        "colab": {
          "base_uri": "https://localhost:8080/",
          "height": 173
        },
        "id": "hE7PyiOu4ZuQ",
        "outputId": "b8c83587-f629-4a8f-e78e-16cf63c8e65f"
      },
      "source": [
        "from sklearn.decomposition import PCA\r\n",
        "pca_loadings = pd.DataFrame(PCA().fit(X).components_.T, index=df.columns, columns=['V1', 'V2', 'V3', 'V4'])\r\n",
        "pca_loadings"
      ],
      "execution_count": 12,
      "outputs": [
        {
          "output_type": "execute_result",
          "data": {
            "text/html": [
              "<div>\n",
              "<style scoped>\n",
              "    .dataframe tbody tr th:only-of-type {\n",
              "        vertical-align: middle;\n",
              "    }\n",
              "\n",
              "    .dataframe tbody tr th {\n",
              "        vertical-align: top;\n",
              "    }\n",
              "\n",
              "    .dataframe thead th {\n",
              "        text-align: right;\n",
              "    }\n",
              "</style>\n",
              "<table border=\"1\" class=\"dataframe\">\n",
              "  <thead>\n",
              "    <tr style=\"text-align: right;\">\n",
              "      <th></th>\n",
              "      <th>V1</th>\n",
              "      <th>V2</th>\n",
              "      <th>V3</th>\n",
              "      <th>V4</th>\n",
              "    </tr>\n",
              "  </thead>\n",
              "  <tbody>\n",
              "    <tr>\n",
              "      <th>Murder</th>\n",
              "      <td>0.535899</td>\n",
              "      <td>0.418181</td>\n",
              "      <td>-0.341233</td>\n",
              "      <td>0.649228</td>\n",
              "    </tr>\n",
              "    <tr>\n",
              "      <th>Assault</th>\n",
              "      <td>0.583184</td>\n",
              "      <td>0.187986</td>\n",
              "      <td>-0.268148</td>\n",
              "      <td>-0.743407</td>\n",
              "    </tr>\n",
              "    <tr>\n",
              "      <th>UrbanPop</th>\n",
              "      <td>0.278191</td>\n",
              "      <td>-0.872806</td>\n",
              "      <td>-0.378016</td>\n",
              "      <td>0.133878</td>\n",
              "    </tr>\n",
              "    <tr>\n",
              "      <th>Rape</th>\n",
              "      <td>0.543432</td>\n",
              "      <td>-0.167319</td>\n",
              "      <td>0.817778</td>\n",
              "      <td>0.089024</td>\n",
              "    </tr>\n",
              "  </tbody>\n",
              "</table>\n",
              "</div>"
            ],
            "text/plain": [
              "                V1        V2        V3        V4\n",
              "Murder    0.535899  0.418181 -0.341233  0.649228\n",
              "Assault   0.583184  0.187986 -0.268148 -0.743407\n",
              "UrbanPop  0.278191 -0.872806 -0.378016  0.133878\n",
              "Rape      0.543432 -0.167319  0.817778  0.089024"
            ]
          },
          "metadata": {
            "tags": []
          },
          "execution_count": 12
        }
      ]
    },
    {
      "cell_type": "code",
      "metadata": {
        "colab": {
          "base_uri": "https://localhost:8080/",
          "height": 204
        },
        "id": "6--rePcX4dMQ",
        "outputId": "cb7210ae-aa3e-4c99-d7d6-44e124df3dcf"
      },
      "source": [
        "# Fit the PCA model and transform X to get the principal components\r\n",
        "pca = PCA()\r\n",
        "df_plot = pd.DataFrame(pca.fit_transform(X), columns=['PC1', 'PC2', 'PC3', 'PC4'], index=X.index)\r\n",
        "df_plot.head()"
      ],
      "execution_count": 14,
      "outputs": [
        {
          "output_type": "execute_result",
          "data": {
            "text/html": [
              "<div>\n",
              "<style scoped>\n",
              "    .dataframe tbody tr th:only-of-type {\n",
              "        vertical-align: middle;\n",
              "    }\n",
              "\n",
              "    .dataframe tbody tr th {\n",
              "        vertical-align: top;\n",
              "    }\n",
              "\n",
              "    .dataframe thead th {\n",
              "        text-align: right;\n",
              "    }\n",
              "</style>\n",
              "<table border=\"1\" class=\"dataframe\">\n",
              "  <thead>\n",
              "    <tr style=\"text-align: right;\">\n",
              "      <th></th>\n",
              "      <th>PC1</th>\n",
              "      <th>PC2</th>\n",
              "      <th>PC3</th>\n",
              "      <th>PC4</th>\n",
              "    </tr>\n",
              "  </thead>\n",
              "  <tbody>\n",
              "    <tr>\n",
              "      <th>Alabama</th>\n",
              "      <td>0.985566</td>\n",
              "      <td>1.133392</td>\n",
              "      <td>-0.444269</td>\n",
              "      <td>0.156267</td>\n",
              "    </tr>\n",
              "    <tr>\n",
              "      <th>Alaska</th>\n",
              "      <td>1.950138</td>\n",
              "      <td>1.073213</td>\n",
              "      <td>2.040003</td>\n",
              "      <td>-0.438583</td>\n",
              "    </tr>\n",
              "    <tr>\n",
              "      <th>Arizona</th>\n",
              "      <td>1.763164</td>\n",
              "      <td>-0.745957</td>\n",
              "      <td>0.054781</td>\n",
              "      <td>-0.834653</td>\n",
              "    </tr>\n",
              "    <tr>\n",
              "      <th>Arkansas</th>\n",
              "      <td>-0.141420</td>\n",
              "      <td>1.119797</td>\n",
              "      <td>0.114574</td>\n",
              "      <td>-0.182811</td>\n",
              "    </tr>\n",
              "    <tr>\n",
              "      <th>California</th>\n",
              "      <td>2.523980</td>\n",
              "      <td>-1.542934</td>\n",
              "      <td>0.598557</td>\n",
              "      <td>-0.341996</td>\n",
              "    </tr>\n",
              "  </tbody>\n",
              "</table>\n",
              "</div>"
            ],
            "text/plain": [
              "                 PC1       PC2       PC3       PC4\n",
              "Alabama     0.985566  1.133392 -0.444269  0.156267\n",
              "Alaska      1.950138  1.073213  2.040003 -0.438583\n",
              "Arizona     1.763164 -0.745957  0.054781 -0.834653\n",
              "Arkansas   -0.141420  1.119797  0.114574 -0.182811\n",
              "California  2.523980 -1.542934  0.598557 -0.341996"
            ]
          },
          "metadata": {
            "tags": []
          },
          "execution_count": 14
        }
      ]
    },
    {
      "cell_type": "code",
      "metadata": {
        "colab": {
          "base_uri": "https://localhost:8080/",
          "height": 488
        },
        "id": "3XN2JaSz4nc5",
        "outputId": "c34c73e2-6344-4f57-f9fc-5fe2309f9353"
      },
      "source": [
        "fig , ax1 = plt.subplots(figsize=(9,7))\r\n",
        "ax1.set_xlim(-3.5,3.5)\r\n",
        "ax1.set_ylim(-3.5,3.5)\r\n",
        "# Plot Principal Components 1 and 2\r\n",
        "for i in df_plot.index:\r\n",
        "  ax1.annotate(i, (-df_plot.PC1.loc[i], -df_plot.PC2.loc[i]), ha='center')\r\n",
        "# Plot reference lines\r\n",
        "ax1.hlines(0,-3.5,3.5, linestyles='dotted', colors='grey')\r\n",
        "ax1.vlines(0,-3.5,3.5, linestyles='dotted', colors='grey')\r\n",
        "ax1.set_xlabel('First Principal Component')\r\n",
        "ax1.set_ylabel('Second Principal Component')\r\n",
        "# Plot Principal Component loading vectors, using a second y-axis.\r\n",
        "ax2 = ax1.twinx().twiny()\r\n",
        "ax2.set_ylim(-1,1)\r\n",
        "ax2.set_xlim(-1,1)\r\n",
        "ax2.set_xlabel('Principal Component loading vectors', color='red')\r\n",
        "# Plot labels for vectors. Variable 'a' is a small offset parameter to separate arrow tip and text.\r\n",
        "a = 1.07\r\n",
        "for i in pca_loadings[['V1', 'V2']].index:\r\n",
        "  ax2.annotate(i, (-pca_loadings.V1.loc[i]*a, -pca_loadings.V2.loc[i]*a), color='red')\r\n",
        "# Plot vectors\r\n",
        "ax2.arrow(0,0,-pca_loadings.V1[0], -pca_loadings.V2[0])\r\n",
        "ax2.arrow(0,0,-pca_loadings.V1[1], -pca_loadings.V2[1])\r\n",
        "ax2.arrow(0,0,-pca_loadings.V1[2], -pca_loadings.V2[2])\r\n",
        "ax2.arrow(0,0,-pca_loadings.V1[3], -pca_loadings.V2[3])"
      ],
      "execution_count": 17,
      "outputs": [
        {
          "output_type": "execute_result",
          "data": {
            "text/plain": [
              "<matplotlib.patches.FancyArrow at 0x7f3d1a8bcb70>"
            ]
          },
          "metadata": {
            "tags": []
          },
          "execution_count": 17
        },
        {
          "output_type": "display_data",
          "data": {
            "image/png": "[encoded data removed]",
            "text/plain": [
              "<Figure size 648x504 with 3 Axes>"
            ]
          },
          "metadata": {
            "tags": [],
            "needs_background": "light"
          }
        }
      ]
    },
    {
      "cell_type": "code",
      "metadata": {
        "colab": {
          "base_uri": "https://localhost:8080/"
        },
        "id": "xcMCa1eZ4tAQ",
        "outputId": "a0a8f2b2-2f7b-49b3-ab73-c82d13145e7d"
      },
      "source": [
        "pca.explained_variance_ratio_"
      ],
      "execution_count": 18,
      "outputs": [
        {
          "output_type": "execute_result",
          "data": {
            "text/plain": [
              "array([0.62006039, 0.24744129, 0.0891408 , 0.04335752])"
            ]
          },
          "metadata": {
            "tags": []
          },
          "execution_count": 18
        }
      ]
    },
    {
      "cell_type": "code",
      "metadata": {
        "colab": {
          "base_uri": "https://localhost:8080/",
          "height": 419
        },
        "id": "ZshTs_XA45nX",
        "outputId": "2d88470e-4e4b-4bf5-9ee9-4ebd33885dbd"
      },
      "source": [
        "plt.figure(figsize=(7,5))\r\n",
        "plt.plot([1,2,3,4], pca.explained_variance_ratio_, '-o')\r\n",
        "plt.ylabel('Proportion of Variance Explained')\r\n",
        "plt.xlabel('Principal Component')\r\n",
        "plt.xlim(0.75,4.25)\r\n",
        "plt.ylim(0,1.05)\r\n",
        "plt.xticks([1,2,3,4])"
      ],
      "execution_count": 20,
      "outputs": [
        {
          "output_type": "execute_result",
          "data": {
            "text/plain": [
              "([<matplotlib.axis.XTick at 0x7f3d2e2e2f98>,\n",
              "  <matplotlib.axis.XTick at 0x7f3d2e2e23c8>,\n",
              "  <matplotlib.axis.XTick at 0x7f3d120566d8>,\n",
              "  <matplotlib.axis.XTick at 0x7f3d1039dba8>],\n",
              " <a list of 4 Text major ticklabel objects>)"
            ]
          },
          "metadata": {
            "tags": []
          },
          "execution_count": 20
        },
        {
          "output_type": "display_data",
          "data": {
            "image/png": "[encoded data removed]",
            "text/plain": [
              "<Figure size 504x360 with 1 Axes>"
            ]
          },
          "metadata": {
            "tags": [],
            "needs_background": "light"
          }
        }
      ]
    },
    {
      "cell_type": "code",
      "metadata": {
        "colab": {
          "base_uri": "https://localhost:8080/",
          "height": 419
        },
        "id": "czjHlnqJ47W_",
        "outputId": "662a9f0b-2fa6-41bd-b45c-9f3ddb7bb7af"
      },
      "source": [
        "plt.figure(figsize=(7,5))\r\n",
        "plt.plot([1,2,3,4], np.cumsum(pca.explained_variance_ratio_), '-s')\r\n",
        "plt.ylabel('Proportion of Variance Explained')\r\n",
        "plt.xlabel('Principal Component')\r\n",
        "plt.xlim(0.75,4.25)\r\n",
        "plt.ylim(0,1.05)\r\n",
        "plt.xticks([1,2,3,4])"
      ],
      "execution_count": 21,
      "outputs": [
        {
          "output_type": "execute_result",
          "data": {
            "text/plain": [
              "([<matplotlib.axis.XTick at 0x7f3d1034e0f0>,\n",
              "  <matplotlib.axis.XTick at 0x7f3d1034e0b8>,\n",
              "  <matplotlib.axis.XTick at 0x7f3d10338ef0>,\n",
              "  <matplotlib.axis.XTick at 0x7f3d102f2940>],\n",
              " <a list of 4 Text major ticklabel objects>)"
            ]
          },
          "metadata": {
            "tags": []
          },
          "execution_count": 21
        },
        {
          "output_type": "display_data",
          "data": {
            "image/png": "[encoded data removed]",
            "text/plain": [
              "<Figure size 504x360 with 1 Axes>"
            ]
          },
          "metadata": {
            "tags": [],
            "needs_background": "light"
          }
        }
      ]
    },
    {
      "cell_type": "markdown",
      "metadata": {
        "id": "prWksxC05AkN"
      },
      "source": [
        "###  NCI60 Data Example"
      ]
    },
    {
      "cell_type": "code",
      "metadata": {
        "colab": {
          "base_uri": "https://localhost:8080/"
        },
        "id": "ZAiGanvx5Bhv",
        "outputId": "ca38bda5-6f25-4927-afdf-d7018ae8af72"
      },
      "source": [
        "df2 = pd.read_csv('nci60.csv').drop('Unnamed: 0', axis=1)\r\n",
        "df2.columns = np.arange(df2.columns.size)\r\n",
        "df2.info()"
      ],
      "execution_count": 26,
      "outputs": [
        {
          "output_type": "stream",
          "text": [
            "<class 'pandas.core.frame.DataFrame'>\n",
            "RangeIndex: 64 entries, 0 to 63\n",
            "Columns: 6830 entries, 0 to 6829\n",
            "dtypes: float64(6830)\n",
            "memory usage: 3.3 MB\n"
          ],
          "name": "stdout"
        }
      ]
    },
    {
      "cell_type": "code",
      "metadata": {
        "id": "3842zQyP5G6S"
      },
      "source": [
        "# Read in the labels to check our work later\r\n",
        "y = pd.read_csv('nci60_y.csv', usecols=[1], skiprows=1, names=['type'])"
      ],
      "execution_count": 27,
      "outputs": []
    },
    {
      "cell_type": "code",
      "metadata": {
        "id": "VL-BzGYo5Kdu"
      },
      "source": [
        "# Scale the data\r\n",
        "X = pd.DataFrame(scale(df2))\r\n",
        "X.shape\r\n",
        "# Fit the PCA model and transform X to get the principal components\r\n",
        "pca2 = PCA()\r\n",
        "df2_plot = pd.DataFrame(pca2.fit_transform(X))\r\n"
      ],
      "execution_count": 28,
      "outputs": []
    },
    {
      "cell_type": "code",
      "metadata": {
        "colab": {
          "base_uri": "https://localhost:8080/",
          "height": 408
        },
        "id": "4sTm3HVs5NJ6",
        "outputId": "d0aeee08-d3ae-4216-a7e9-682650d32737"
      },
      "source": [
        "fig, (ax1, ax2) = plt.subplots(1,2, figsize=(15,6))\r\n",
        "color_idx = pd.factorize(y.type)[0]\r\n",
        "cmap = mpl.cm.hsv\r\n",
        "# Left plot\r\n",
        "ax1.scatter(df2_plot.iloc[:,0], df2_plot.iloc[:,1], c=color_idx, cmap=cmap, alpha=0.5, s=50)\r\n",
        "ax1.set_ylabel('Principal Component 2')\r\n",
        "# Right plot\r\n",
        "ax2.scatter(df2_plot.iloc[:,0], df2_plot.iloc[:,2], c=color_idx, cmap=cmap, alpha=0.5, s=50)\r\n",
        "ax2.set_ylabel('Principal Component 3')\r\n",
        "# Custom legend for the classes (y) since we do not create scatter plots per class (which could have their own labels).\r\n",
        "handles = []\r\n",
        "labels = pd.factorize(y.type.unique())\r\n",
        "norm = mpl.colors.Normalize(vmin=0.0, vmax=14.0)\r\n",
        "for i, v in zip(labels[0], labels[1]):\r\n",
        "  handles.append(mpl.patches.Patch(color=cmap(norm(i)), label=v, alpha=0.5))\r\n",
        "\r\n",
        "ax2.legend(handles=handles, bbox_to_anchor=(1.05, 1), loc=2, borderaxespad=0.)\r\n",
        "# xlabel for both plots\r\n",
        "for ax in fig.axes:\r\n",
        "  ax.set_xlabel('Principal Component 1')"
      ],
      "execution_count": 29,
      "outputs": [
        {
          "output_type": "display_data",
          "data": {
            "image/png": "[encoded data removed]",
            "text/plain": [
              "<Figure size 1080x432 with 2 Axes>"
            ]
          },
          "metadata": {
            "tags": [],
            "needs_background": "light"
          }
        }
      ]
    },
    {
      "cell_type": "code",
      "metadata": {
        "colab": {
          "base_uri": "https://localhost:8080/",
          "height": 142
        },
        "id": "ITcANbIE5RtX",
        "outputId": "208f4cf4-ca5b-4565-e7a0-dfeb89f0bc08"
      },
      "source": [
        "pd.DataFrame([df2_plot.iloc[:,:5].std(axis=0, ddof=0).values,\r\n",
        "              pca2.explained_variance_ratio_[:5],\r\n",
        "              np.cumsum(pca2.explained_variance_ratio_[:5])],\r\n",
        "              index=['Standard Deviation', 'Proportion of Variance', 'Cumulative Proportion'],\r\n",
        "              columns=['PC1', 'PC2', 'PC3', 'PC4', 'PC5'])"
      ],
      "execution_count": 39,
      "outputs": [
        {
          "output_type": "execute_result",
          "data": {
            "text/html": [
              "<div>\n",
              "<style scoped>\n",
              "    .dataframe tbody tr th:only-of-type {\n",
              "        vertical-align: middle;\n",
              "    }\n",
              "\n",
              "    .dataframe tbody tr th {\n",
              "        vertical-align: top;\n",
              "    }\n",
              "\n",
              "    .dataframe thead th {\n",
              "        text-align: right;\n",
              "    }\n",
              "</style>\n",
              "<table border=\"1\" class=\"dataframe\">\n",
              "  <thead>\n",
              "    <tr style=\"text-align: right;\">\n",
              "      <th></th>\n",
              "      <th>PC1</th>\n",
              "      <th>PC2</th>\n",
              "      <th>PC3</th>\n",
              "      <th>PC4</th>\n",
              "      <th>PC5</th>\n",
              "    </tr>\n",
              "  </thead>\n",
              "  <tbody>\n",
              "    <tr>\n",
              "      <th>Standard Deviation</th>\n",
              "      <td>27.853469</td>\n",
              "      <td>21.481355</td>\n",
              "      <td>19.820465</td>\n",
              "      <td>17.032556</td>\n",
              "      <td>15.971807</td>\n",
              "    </tr>\n",
              "    <tr>\n",
              "      <th>Proportion of Variance</th>\n",
              "      <td>0.113589</td>\n",
              "      <td>0.067562</td>\n",
              "      <td>0.057518</td>\n",
              "      <td>0.042476</td>\n",
              "      <td>0.037350</td>\n",
              "    </tr>\n",
              "    <tr>\n",
              "      <th>Cumulative Proportion</th>\n",
              "      <td>0.113589</td>\n",
              "      <td>0.181151</td>\n",
              "      <td>0.238670</td>\n",
              "      <td>0.281145</td>\n",
              "      <td>0.318495</td>\n",
              "    </tr>\n",
              "  </tbody>\n",
              "</table>\n",
              "</div>"
            ],
            "text/plain": [
              "                              PC1        PC2        PC3        PC4        PC5\n",
              "Standard Deviation      27.853469  21.481355  19.820465  17.032556  15.971807\n",
              "Proportion of Variance   0.113589   0.067562   0.057518   0.042476   0.037350\n",
              "Cumulative Proportion    0.113589   0.181151   0.238670   0.281145   0.318495"
            ]
          },
          "metadata": {
            "tags": []
          },
          "execution_count": 39
        }
      ]
    },
    {
      "cell_type": "code",
      "metadata": {
        "colab": {
          "base_uri": "https://localhost:8080/",
          "height": 282
        },
        "id": "CwDvmha55Vte",
        "outputId": "938a639f-c55d-40ea-eeea-9da62e37c280"
      },
      "source": [
        "df2_plot.iloc[:,:10].var(axis=0, ddof=0).plot(kind='bar', rot=0)\r\n",
        "plt.ylabel('Variances')"
      ],
      "execution_count": 40,
      "outputs": [
        {
          "output_type": "execute_result",
          "data": {
            "text/plain": [
              "Text(0, 0.5, 'Variances')"
            ]
          },
          "metadata": {
            "tags": []
          },
          "execution_count": 40
        },
        {
          "output_type": "display_data",
          "data": {
            "image/png": "[encoded data removed]",
            "text/plain": [
              "<Figure size 432x288 with 1 Axes>"
            ]
          },
          "metadata": {
            "tags": [],
            "needs_background": "light"
          }
        }
      ]
    },
    {
      "cell_type": "code",
      "metadata": {
        "colab": {
          "base_uri": "https://localhost:8080/",
          "height": 261
        },
        "id": "MvuajMpr5aBu",
        "outputId": "c6e675d2-db8c-45b7-ce0b-0c08a4167101"
      },
      "source": [
        "fig , (ax1,ax2) = plt.subplots(1,2, figsize=(15,5))\r\n",
        "# Left plot\r\n",
        "ax1.plot(pca2.explained_variance_ratio_, '-o')\r\n",
        "ax1.set_ylabel('Proportion of Variance Explained')\r\n",
        "ax1.set_ylim(ymin=-0.01)\r\n",
        "\r\n",
        "# Right plot\r\n",
        "ax2.plot(np.cumsum(pca2.explained_variance_ratio_), '-ro')\r\n",
        "ax2.set_ylabel('Cumulative Proportion of Variance Explained')\r\n",
        "ax2.set_ylim(ymax=1.05)\r\n",
        "for ax in fig.axes:\r\n",
        "  ax.set_xlabel('Principal Component')\r\n",
        "  ax.set_xlim(-1,30)"
      ],
      "execution_count": 43,
      "outputs": [
        {
          "output_type": "display_data",
          "data": {
            "image/png": "[encoded data removed]",
            "text/plain": [
              "<Figure size 1080x360 with 2 Axes>"
            ]
          },
          "metadata": {
            "tags": [],
            "needs_background": "light"
          }
        }
      ]
    },
    {
      "cell_type": "markdown",
      "metadata": {
        "id": "m3iHwYyG7ELj"
      },
      "source": [
        "## EX. 2"
      ]
    },
    {
      "cell_type": "code",
      "metadata": {
        "id": "cFu6zkub5j0T"
      },
      "source": [
        "from sklearn.datasets import  load_wine"
      ],
      "execution_count": 44,
      "outputs": []
    },
    {
      "cell_type": "code",
      "metadata": {
        "colab": {
          "base_uri": "https://localhost:8080/"
        },
        "id": "P6axSEn37f6e",
        "outputId": "7ed4eebe-c187-4c8d-b421-e7946bd9fc3d"
      },
      "source": [
        "data_wine = load_wine()\r\n",
        "print(data_wine.DESCR)"
      ],
      "execution_count": 47,
      "outputs": [
        {
          "output_type": "stream",
          "text": [
            ".. _wine_dataset:\n",
            "\n",
            "Wine recognition dataset\n",
            "------------------------\n",
            "\n",
            "**Data Set Characteristics:**\n",
            "\n",
            "    :Number of Instances: 178 (50 in each of three classes)\n",
            "    :Number of Attributes: 13 numeric, predictive attributes and the class\n",
            "    :Attribute Information:\n",
            " \t\t- Alcohol\n",
            " \t\t- Malic acid\n",
            " \t\t- Ash\n",
            "\t\t- Alcalinity of ash  \n",
            " \t\t- Magnesium\n",
            "\t\t- Total phenols\n",
            " \t\t- Flavanoids\n",
            " \t\t- Nonflavanoid phenols\n",
            " \t\t- Proanthocyanins\n",
            "\t\t- Color intensity\n",
            " \t\t- Hue\n",
            " \t\t- OD280/OD315 of diluted wines\n",
            " \t\t- Proline\n",
            "\n",
            "    - class:\n",
            "            - class_0\n",
            "            - class_1\n",
            "            - class_2\n",
            "\t\t\n",
            "    :Summary Statistics:\n",
            "    \n",
            "    ============================= ==== ===== ======= =====\n",
            "                                   Min   Max   Mean     SD\n",
            "    ============================= ==== ===== ======= =====\n",
            "    Alcohol:                      11.0  14.8    13.0   0.8\n",
            "    Malic Acid:                   0.74  5.80    2.34  1.12\n",
            "    Ash:                          1.36  3.23    2.36  0.27\n",
            "    Alcalinity of Ash:            10.6  30.0    19.5   3.3\n",
            "    Magnesium:                    70.0 162.0    99.7  14.3\n",
            "    Total Phenols:                0.98  3.88    2.29  0.63\n",
            "    Flavanoids:                   0.34  5.08    2.03  1.00\n",
            "    Nonflavanoid Phenols:         0.13  0.66    0.36  0.12\n",
            "    Proanthocyanins:              0.41  3.58    1.59  0.57\n",
            "    Colour Intensity:              1.3  13.0     5.1   2.3\n",
            "    Hue:                          0.48  1.71    0.96  0.23\n",
            "    OD280/OD315 of diluted wines: 1.27  4.00    2.61  0.71\n",
            "    Proline:                       278  1680     746   315\n",
            "    ============================= ==== ===== ======= =====\n",
            "\n",
            "    :Missing Attribute Values: None\n",
            "    :Class Distribution: class_0 (59), class_1 (71), class_2 (48)\n",
            "    :Creator: R.A. Fisher\n",
            "    :Donor: Michael Marshall (MARSHALL%PLU@io.arc.nasa.gov)\n",
            "    :Date: July, 1988\n",
            "\n",
            "This is a copy of UCI ML Wine recognition datasets.\n",
            "https://archive.ics.uci.edu/ml/machine-learning-databases/wine/wine.data\n",
            "\n",
            "The data is the results of a chemical analysis of wines grown in the same\n",
            "region in Italy by three different cultivators. There are thirteen different\n",
            "measurements taken for different constituents found in the three types of\n",
            "wine.\n",
            "\n",
            "Original Owners: \n",
            "\n",
            "Forina, M. et al, PARVUS - \n",
            "An Extendible Package for Data Exploration, Classification and Correlation. \n",
            "Institute of Pharmaceutical and Food Analysis and Technologies,\n",
            "Via Brigata Salerno, 16147 Genoa, Italy.\n",
            "\n",
            "Citation:\n",
            "\n",
            "Lichman, M. (2013). UCI Machine Learning Repository\n",
            "[https://archive.ics.uci.edu/ml]. Irvine, CA: University of California,\n",
            "School of Information and Computer Science. \n",
            "\n",
            ".. topic:: References\n",
            "\n",
            "  (1) S. Aeberhard, D. Coomans and O. de Vel, \n",
            "  Comparison of Classifiers in High Dimensional Settings, \n",
            "  Tech. Rep. no. 92-02, (1992), Dept. of Computer Science and Dept. of  \n",
            "  Mathematics and Statistics, James Cook University of North Queensland. \n",
            "  (Also submitted to Technometrics). \n",
            "\n",
            "  The data was used with many others for comparing various \n",
            "  classifiers. The classes are separable, though only RDA \n",
            "  has achieved 100% correct classification. \n",
            "  (RDA : 100%, QDA 99.4%, LDA 98.9%, 1NN 96.1% (z-transformed data)) \n",
            "  (All results using the leave-one-out technique) \n",
            "\n",
            "  (2) S. Aeberhard, D. Coomans and O. de Vel, \n",
            "  \"THE CLASSIFICATION PERFORMANCE OF RDA\" \n",
            "  Tech. Rep. no. 92-01, (1992), Dept. of Computer Science and Dept. of \n",
            "  Mathematics and Statistics, James Cook University of North Queensland. \n",
            "  (Also submitted to Journal of Chemometrics).\n",
            "\n"
          ],
          "name": "stdout"
        }
      ]
    },
    {
      "cell_type": "code",
      "metadata": {
        "colab": {
          "base_uri": "https://localhost:8080/",
          "height": 204
        },
        "id": "6Ed99RsP7mwa",
        "outputId": "2a240863-fa1a-47d8-ee73-0bcd9cb86b4d"
      },
      "source": [
        "df = pd.DataFrame(data_wine.data)\r\n",
        "df.head()"
      ],
      "execution_count": 48,
      "outputs": [
        {
          "output_type": "execute_result",
          "data": {
            "text/html": [
              "<div>\n",
              "<style scoped>\n",
              "    .dataframe tbody tr th:only-of-type {\n",
              "        vertical-align: middle;\n",
              "    }\n",
              "\n",
              "    .dataframe tbody tr th {\n",
              "        vertical-align: top;\n",
              "    }\n",
              "\n",
              "    .dataframe thead th {\n",
              "        text-align: right;\n",
              "    }\n",
              "</style>\n",
              "<table border=\"1\" class=\"dataframe\">\n",
              "  <thead>\n",
              "    <tr style=\"text-align: right;\">\n",
              "      <th></th>\n",
              "      <th>0</th>\n",
              "      <th>1</th>\n",
              "      <th>2</th>\n",
              "      <th>3</th>\n",
              "      <th>4</th>\n",
              "      <th>5</th>\n",
              "      <th>6</th>\n",
              "      <th>7</th>\n",
              "      <th>8</th>\n",
              "      <th>9</th>\n",
              "      <th>10</th>\n",
              "      <th>11</th>\n",
              "      <th>12</th>\n",
              "    </tr>\n",
              "  </thead>\n",
              "  <tbody>\n",
              "    <tr>\n",
              "      <th>0</th>\n",
              "      <td>14.23</td>\n",
              "      <td>1.71</td>\n",
              "      <td>2.43</td>\n",
              "      <td>15.6</td>\n",
              "      <td>127.0</td>\n",
              "      <td>2.80</td>\n",
              "      <td>3.06</td>\n",
              "      <td>0.28</td>\n",
              "      <td>2.29</td>\n",
              "      <td>5.64</td>\n",
              "      <td>1.04</td>\n",
              "      <td>3.92</td>\n",
              "      <td>1065.0</td>\n",
              "    </tr>\n",
              "    <tr>\n",
              "      <th>1</th>\n",
              "      <td>13.20</td>\n",
              "      <td>1.78</td>\n",
              "      <td>2.14</td>\n",
              "      <td>11.2</td>\n",
              "      <td>100.0</td>\n",
              "      <td>2.65</td>\n",
              "      <td>2.76</td>\n",
              "      <td>0.26</td>\n",
              "      <td>1.28</td>\n",
              "      <td>4.38</td>\n",
              "      <td>1.05</td>\n",
              "      <td>3.40</td>\n",
              "      <td>1050.0</td>\n",
              "    </tr>\n",
              "    <tr>\n",
              "      <th>2</th>\n",
              "      <td>13.16</td>\n",
              "      <td>2.36</td>\n",
              "      <td>2.67</td>\n",
              "      <td>18.6</td>\n",
              "      <td>101.0</td>\n",
              "      <td>2.80</td>\n",
              "      <td>3.24</td>\n",
              "      <td>0.30</td>\n",
              "      <td>2.81</td>\n",
              "      <td>5.68</td>\n",
              "      <td>1.03</td>\n",
              "      <td>3.17</td>\n",
              "      <td>1185.0</td>\n",
              "    </tr>\n",
              "    <tr>\n",
              "      <th>3</th>\n",
              "      <td>14.37</td>\n",
              "      <td>1.95</td>\n",
              "      <td>2.50</td>\n",
              "      <td>16.8</td>\n",
              "      <td>113.0</td>\n",
              "      <td>3.85</td>\n",
              "      <td>3.49</td>\n",
              "      <td>0.24</td>\n",
              "      <td>2.18</td>\n",
              "      <td>7.80</td>\n",
              "      <td>0.86</td>\n",
              "      <td>3.45</td>\n",
              "      <td>1480.0</td>\n",
              "    </tr>\n",
              "    <tr>\n",
              "      <th>4</th>\n",
              "      <td>13.24</td>\n",
              "      <td>2.59</td>\n",
              "      <td>2.87</td>\n",
              "      <td>21.0</td>\n",
              "      <td>118.0</td>\n",
              "      <td>2.80</td>\n",
              "      <td>2.69</td>\n",
              "      <td>0.39</td>\n",
              "      <td>1.82</td>\n",
              "      <td>4.32</td>\n",
              "      <td>1.04</td>\n",
              "      <td>2.93</td>\n",
              "      <td>735.0</td>\n",
              "    </tr>\n",
              "  </tbody>\n",
              "</table>\n",
              "</div>"
            ],
            "text/plain": [
              "      0     1     2     3      4     5   ...    7     8     9     10    11      12\n",
              "0  14.23  1.71  2.43  15.6  127.0  2.80  ...  0.28  2.29  5.64  1.04  3.92  1065.0\n",
              "1  13.20  1.78  2.14  11.2  100.0  2.65  ...  0.26  1.28  4.38  1.05  3.40  1050.0\n",
              "2  13.16  2.36  2.67  18.6  101.0  2.80  ...  0.30  2.81  5.68  1.03  3.17  1185.0\n",
              "3  14.37  1.95  2.50  16.8  113.0  3.85  ...  0.24  2.18  7.80  0.86  3.45  1480.0\n",
              "4  13.24  2.59  2.87  21.0  118.0  2.80  ...  0.39  1.82  4.32  1.04  2.93   735.0\n",
              "\n",
              "[5 rows x 13 columns]"
            ]
          },
          "metadata": {
            "tags": []
          },
          "execution_count": 48
        }
      ]
    },
    {
      "cell_type": "markdown",
      "metadata": {
        "id": "FkWuA26h8-aX"
      },
      "source": [
        "### 2.1 Data standarization"
      ]
    },
    {
      "cell_type": "code",
      "metadata": {
        "colab": {
          "base_uri": "https://localhost:8080/",
          "height": 317
        },
        "id": "KJbz3baN8FTh",
        "outputId": "17fdabba-0010-4ff4-b518-747f51b8d4a7"
      },
      "source": [
        "df.describe()"
      ],
      "execution_count": 51,
      "outputs": [
        {
          "output_type": "execute_result",
          "data": {
            "text/html": [
              "<div>\n",
              "<style scoped>\n",
              "    .dataframe tbody tr th:only-of-type {\n",
              "        vertical-align: middle;\n",
              "    }\n",
              "\n",
              "    .dataframe tbody tr th {\n",
              "        vertical-align: top;\n",
              "    }\n",
              "\n",
              "    .dataframe thead th {\n",
              "        text-align: right;\n",
              "    }\n",
              "</style>\n",
              "<table border=\"1\" class=\"dataframe\">\n",
              "  <thead>\n",
              "    <tr style=\"text-align: right;\">\n",
              "      <th></th>\n",
              "      <th>0</th>\n",
              "      <th>1</th>\n",
              "      <th>2</th>\n",
              "      <th>3</th>\n",
              "      <th>4</th>\n",
              "      <th>5</th>\n",
              "      <th>6</th>\n",
              "      <th>7</th>\n",
              "      <th>8</th>\n",
              "      <th>9</th>\n",
              "      <th>10</th>\n",
              "      <th>11</th>\n",
              "      <th>12</th>\n",
              "    </tr>\n",
              "  </thead>\n",
              "  <tbody>\n",
              "    <tr>\n",
              "      <th>count</th>\n",
              "      <td>178.000000</td>\n",
              "      <td>178.000000</td>\n",
              "      <td>178.000000</td>\n",
              "      <td>178.000000</td>\n",
              "      <td>178.000000</td>\n",
              "      <td>178.000000</td>\n",
              "      <td>178.000000</td>\n",
              "      <td>178.000000</td>\n",
              "      <td>178.000000</td>\n",
              "      <td>178.000000</td>\n",
              "      <td>178.000000</td>\n",
              "      <td>178.000000</td>\n",
              "      <td>178.000000</td>\n",
              "    </tr>\n",
              "    <tr>\n",
              "      <th>mean</th>\n",
              "      <td>13.000618</td>\n",
              "      <td>2.336348</td>\n",
              "      <td>2.366517</td>\n",
              "      <td>19.494944</td>\n",
              "      <td>99.741573</td>\n",
              "      <td>2.295112</td>\n",
              "      <td>2.029270</td>\n",
              "      <td>0.361854</td>\n",
              "      <td>1.590899</td>\n",
              "      <td>5.058090</td>\n",
              "      <td>0.957449</td>\n",
              "      <td>2.611685</td>\n",
              "      <td>746.893258</td>\n",
              "    </tr>\n",
              "    <tr>\n",
              "      <th>std</th>\n",
              "      <td>0.811827</td>\n",
              "      <td>1.117146</td>\n",
              "      <td>0.274344</td>\n",
              "      <td>3.339564</td>\n",
              "      <td>14.282484</td>\n",
              "      <td>0.625851</td>\n",
              "      <td>0.998859</td>\n",
              "      <td>0.124453</td>\n",
              "      <td>0.572359</td>\n",
              "      <td>2.318286</td>\n",
              "      <td>0.228572</td>\n",
              "      <td>0.709990</td>\n",
              "      <td>314.907474</td>\n",
              "    </tr>\n",
              "    <tr>\n",
              "      <th>min</th>\n",
              "      <td>11.030000</td>\n",
              "      <td>0.740000</td>\n",
              "      <td>1.360000</td>\n",
              "      <td>10.600000</td>\n",
              "      <td>70.000000</td>\n",
              "      <td>0.980000</td>\n",
              "      <td>0.340000</td>\n",
              "      <td>0.130000</td>\n",
              "      <td>0.410000</td>\n",
              "      <td>1.280000</td>\n",
              "      <td>0.480000</td>\n",
              "      <td>1.270000</td>\n",
              "      <td>278.000000</td>\n",
              "    </tr>\n",
              "    <tr>\n",
              "      <th>25%</th>\n",
              "      <td>12.362500</td>\n",
              "      <td>1.602500</td>\n",
              "      <td>2.210000</td>\n",
              "      <td>17.200000</td>\n",
              "      <td>88.000000</td>\n",
              "      <td>1.742500</td>\n",
              "      <td>1.205000</td>\n",
              "      <td>0.270000</td>\n",
              "      <td>1.250000</td>\n",
              "      <td>3.220000</td>\n",
              "      <td>0.782500</td>\n",
              "      <td>1.937500</td>\n",
              "      <td>500.500000</td>\n",
              "    </tr>\n",
              "    <tr>\n",
              "      <th>50%</th>\n",
              "      <td>13.050000</td>\n",
              "      <td>1.865000</td>\n",
              "      <td>2.360000</td>\n",
              "      <td>19.500000</td>\n",
              "      <td>98.000000</td>\n",
              "      <td>2.355000</td>\n",
              "      <td>2.135000</td>\n",
              "      <td>0.340000</td>\n",
              "      <td>1.555000</td>\n",
              "      <td>4.690000</td>\n",
              "      <td>0.965000</td>\n",
              "      <td>2.780000</td>\n",
              "      <td>673.500000</td>\n",
              "    </tr>\n",
              "    <tr>\n",
              "      <th>75%</th>\n",
              "      <td>13.677500</td>\n",
              "      <td>3.082500</td>\n",
              "      <td>2.557500</td>\n",
              "      <td>21.500000</td>\n",
              "      <td>107.000000</td>\n",
              "      <td>2.800000</td>\n",
              "      <td>2.875000</td>\n",
              "      <td>0.437500</td>\n",
              "      <td>1.950000</td>\n",
              "      <td>6.200000</td>\n",
              "      <td>1.120000</td>\n",
              "      <td>3.170000</td>\n",
              "      <td>985.000000</td>\n",
              "    </tr>\n",
              "    <tr>\n",
              "      <th>max</th>\n",
              "      <td>14.830000</td>\n",
              "      <td>5.800000</td>\n",
              "      <td>3.230000</td>\n",
              "      <td>30.000000</td>\n",
              "      <td>162.000000</td>\n",
              "      <td>3.880000</td>\n",
              "      <td>5.080000</td>\n",
              "      <td>0.660000</td>\n",
              "      <td>3.580000</td>\n",
              "      <td>13.000000</td>\n",
              "      <td>1.710000</td>\n",
              "      <td>4.000000</td>\n",
              "      <td>1680.000000</td>\n",
              "    </tr>\n",
              "  </tbody>\n",
              "</table>\n",
              "</div>"
            ],
            "text/plain": [
              "               0           1           2   ...          10          11           12\n",
              "count  178.000000  178.000000  178.000000  ...  178.000000  178.000000   178.000000\n",
              "mean    13.000618    2.336348    2.366517  ...    0.957449    2.611685   746.893258\n",
              "std      0.811827    1.117146    0.274344  ...    0.228572    0.709990   314.907474\n",
              "min     11.030000    0.740000    1.360000  ...    0.480000    1.270000   278.000000\n",
              "25%     12.362500    1.602500    2.210000  ...    0.782500    1.937500   500.500000\n",
              "50%     13.050000    1.865000    2.360000  ...    0.965000    2.780000   673.500000\n",
              "75%     13.677500    3.082500    2.557500  ...    1.120000    3.170000   985.000000\n",
              "max     14.830000    5.800000    3.230000  ...    1.710000    4.000000  1680.000000\n",
              "\n",
              "[8 rows x 13 columns]"
            ]
          },
          "metadata": {
            "tags": []
          },
          "execution_count": 51
        }
      ]
    },
    {
      "cell_type": "markdown",
      "metadata": {
        "id": "83dJOoPU8IZT"
      },
      "source": [
        "No inf's found in dataset (max values)"
      ]
    },
    {
      "cell_type": "code",
      "metadata": {
        "colab": {
          "base_uri": "https://localhost:8080/"
        },
        "id": "6mk3UNt774nx",
        "outputId": "c72c7ee9-d862-4562-c609-bc12775832cc"
      },
      "source": [
        "df.isna().sum()"
      ],
      "execution_count": 50,
      "outputs": [
        {
          "output_type": "execute_result",
          "data": {
            "text/plain": [
              "0     0\n",
              "1     0\n",
              "2     0\n",
              "3     0\n",
              "4     0\n",
              "5     0\n",
              "6     0\n",
              "7     0\n",
              "8     0\n",
              "9     0\n",
              "10    0\n",
              "11    0\n",
              "12    0\n",
              "dtype: int64"
            ]
          },
          "metadata": {
            "tags": []
          },
          "execution_count": 50
        }
      ]
    },
    {
      "cell_type": "markdown",
      "metadata": {
        "id": "75FzSXI_8OFQ"
      },
      "source": [
        "No NaN's, empty cells found in dataset"
      ]
    },
    {
      "cell_type": "code",
      "metadata": {
        "colab": {
          "base_uri": "https://localhost:8080/"
        },
        "id": "RYSXb1--78qx",
        "outputId": "0cafd622-a29d-4b1b-ac08-f18eefed367f"
      },
      "source": [
        "### keep only numeric features\r\n",
        "df.dtypes"
      ],
      "execution_count": 52,
      "outputs": [
        {
          "output_type": "execute_result",
          "data": {
            "text/plain": [
              "0     float64\n",
              "1     float64\n",
              "2     float64\n",
              "3     float64\n",
              "4     float64\n",
              "5     float64\n",
              "6     float64\n",
              "7     float64\n",
              "8     float64\n",
              "9     float64\n",
              "10    float64\n",
              "11    float64\n",
              "12    float64\n",
              "dtype: object"
            ]
          },
          "metadata": {
            "tags": []
          },
          "execution_count": 52
        }
      ]
    },
    {
      "cell_type": "markdown",
      "metadata": {
        "id": "JH_zfONg8iEn"
      },
      "source": [
        "All features are numeric"
      ]
    },
    {
      "cell_type": "code",
      "metadata": {
        "colab": {
          "base_uri": "https://localhost:8080/",
          "height": 224
        },
        "id": "SvPrHNH-8e-Q",
        "outputId": "86efc2b2-4c0a-48bf-90da-1e0a9a3edb29"
      },
      "source": [
        "X = pd.DataFrame(scale(df), index=df.index, columns=df.columns)\r\n",
        "X.head()"
      ],
      "execution_count": 53,
      "outputs": [
        {
          "output_type": "execute_result",
          "data": {
            "text/html": [
              "<div>\n",
              "<style scoped>\n",
              "    .dataframe tbody tr th:only-of-type {\n",
              "        vertical-align: middle;\n",
              "    }\n",
              "\n",
              "    .dataframe tbody tr th {\n",
              "        vertical-align: top;\n",
              "    }\n",
              "\n",
              "    .dataframe thead th {\n",
              "        text-align: right;\n",
              "    }\n",
              "</style>\n",
              "<table border=\"1\" class=\"dataframe\">\n",
              "  <thead>\n",
              "    <tr style=\"text-align: right;\">\n",
              "      <th></th>\n",
              "      <th>0</th>\n",
              "      <th>1</th>\n",
              "      <th>2</th>\n",
              "      <th>3</th>\n",
              "      <th>4</th>\n",
              "      <th>5</th>\n",
              "      <th>6</th>\n",
              "      <th>7</th>\n",
              "      <th>8</th>\n",
              "      <th>9</th>\n",
              "      <th>10</th>\n",
              "      <th>11</th>\n",
              "      <th>12</th>\n",
              "    </tr>\n",
              "  </thead>\n",
              "  <tbody>\n",
              "    <tr>\n",
              "      <th>0</th>\n",
              "      <td>1.518613</td>\n",
              "      <td>-0.562250</td>\n",
              "      <td>0.232053</td>\n",
              "      <td>-1.169593</td>\n",
              "      <td>1.913905</td>\n",
              "      <td>0.808997</td>\n",
              "      <td>1.034819</td>\n",
              "      <td>-0.659563</td>\n",
              "      <td>1.224884</td>\n",
              "      <td>0.251717</td>\n",
              "      <td>0.362177</td>\n",
              "      <td>1.847920</td>\n",
              "      <td>1.013009</td>\n",
              "    </tr>\n",
              "    <tr>\n",
              "      <th>1</th>\n",
              "      <td>0.246290</td>\n",
              "      <td>-0.499413</td>\n",
              "      <td>-0.827996</td>\n",
              "      <td>-2.490847</td>\n",
              "      <td>0.018145</td>\n",
              "      <td>0.568648</td>\n",
              "      <td>0.733629</td>\n",
              "      <td>-0.820719</td>\n",
              "      <td>-0.544721</td>\n",
              "      <td>-0.293321</td>\n",
              "      <td>0.406051</td>\n",
              "      <td>1.113449</td>\n",
              "      <td>0.965242</td>\n",
              "    </tr>\n",
              "    <tr>\n",
              "      <th>2</th>\n",
              "      <td>0.196879</td>\n",
              "      <td>0.021231</td>\n",
              "      <td>1.109334</td>\n",
              "      <td>-0.268738</td>\n",
              "      <td>0.088358</td>\n",
              "      <td>0.808997</td>\n",
              "      <td>1.215533</td>\n",
              "      <td>-0.498407</td>\n",
              "      <td>2.135968</td>\n",
              "      <td>0.269020</td>\n",
              "      <td>0.318304</td>\n",
              "      <td>0.788587</td>\n",
              "      <td>1.395148</td>\n",
              "    </tr>\n",
              "    <tr>\n",
              "      <th>3</th>\n",
              "      <td>1.691550</td>\n",
              "      <td>-0.346811</td>\n",
              "      <td>0.487926</td>\n",
              "      <td>-0.809251</td>\n",
              "      <td>0.930918</td>\n",
              "      <td>2.491446</td>\n",
              "      <td>1.466525</td>\n",
              "      <td>-0.981875</td>\n",
              "      <td>1.032155</td>\n",
              "      <td>1.186068</td>\n",
              "      <td>-0.427544</td>\n",
              "      <td>1.184071</td>\n",
              "      <td>2.334574</td>\n",
              "    </tr>\n",
              "    <tr>\n",
              "      <th>4</th>\n",
              "      <td>0.295700</td>\n",
              "      <td>0.227694</td>\n",
              "      <td>1.840403</td>\n",
              "      <td>0.451946</td>\n",
              "      <td>1.281985</td>\n",
              "      <td>0.808997</td>\n",
              "      <td>0.663351</td>\n",
              "      <td>0.226796</td>\n",
              "      <td>0.401404</td>\n",
              "      <td>-0.319276</td>\n",
              "      <td>0.362177</td>\n",
              "      <td>0.449601</td>\n",
              "      <td>-0.037874</td>\n",
              "    </tr>\n",
              "  </tbody>\n",
              "</table>\n",
              "</div>"
            ],
            "text/plain": [
              "         0         1         2   ...        10        11        12\n",
              "0  1.518613 -0.562250  0.232053  ...  0.362177  1.847920  1.013009\n",
              "1  0.246290 -0.499413 -0.827996  ...  0.406051  1.113449  0.965242\n",
              "2  0.196879  0.021231  1.109334  ...  0.318304  0.788587  1.395148\n",
              "3  1.691550 -0.346811  0.487926  ... -0.427544  1.184071  2.334574\n",
              "4  0.295700  0.227694  1.840403  ...  0.362177  0.449601 -0.037874\n",
              "\n",
              "[5 rows x 13 columns]"
            ]
          },
          "metadata": {
            "tags": []
          },
          "execution_count": 53
        }
      ]
    },
    {
      "cell_type": "code",
      "metadata": {
        "colab": {
          "base_uri": "https://localhost:8080/",
          "height": 204
        },
        "id": "J7xmjNyA9ljP",
        "outputId": "76fbcaf0-c7dc-49ed-8e96-850994718511"
      },
      "source": [
        "y = pd.DataFrame(data_wine.target)\r\n",
        "y.head()"
      ],
      "execution_count": 55,
      "outputs": [
        {
          "output_type": "execute_result",
          "data": {
            "text/html": [
              "<div>\n",
              "<style scoped>\n",
              "    .dataframe tbody tr th:only-of-type {\n",
              "        vertical-align: middle;\n",
              "    }\n",
              "\n",
              "    .dataframe tbody tr th {\n",
              "        vertical-align: top;\n",
              "    }\n",
              "\n",
              "    .dataframe thead th {\n",
              "        text-align: right;\n",
              "    }\n",
              "</style>\n",
              "<table border=\"1\" class=\"dataframe\">\n",
              "  <thead>\n",
              "    <tr style=\"text-align: right;\">\n",
              "      <th></th>\n",
              "      <th>0</th>\n",
              "    </tr>\n",
              "  </thead>\n",
              "  <tbody>\n",
              "    <tr>\n",
              "      <th>0</th>\n",
              "      <td>0</td>\n",
              "    </tr>\n",
              "    <tr>\n",
              "      <th>1</th>\n",
              "      <td>0</td>\n",
              "    </tr>\n",
              "    <tr>\n",
              "      <th>2</th>\n",
              "      <td>0</td>\n",
              "    </tr>\n",
              "    <tr>\n",
              "      <th>3</th>\n",
              "      <td>0</td>\n",
              "    </tr>\n",
              "    <tr>\n",
              "      <th>4</th>\n",
              "      <td>0</td>\n",
              "    </tr>\n",
              "  </tbody>\n",
              "</table>\n",
              "</div>"
            ],
            "text/plain": [
              "   0\n",
              "0  0\n",
              "1  0\n",
              "2  0\n",
              "3  0\n",
              "4  0"
            ]
          },
          "metadata": {
            "tags": []
          },
          "execution_count": 55
        }
      ]
    },
    {
      "cell_type": "markdown",
      "metadata": {
        "id": "vA7WzlRv9Fe-"
      },
      "source": [
        "### 2.1a train test split"
      ]
    },
    {
      "cell_type": "code",
      "metadata": {
        "id": "sH8F1A3H816H"
      },
      "source": [
        "from sklearn.model_selection import train_test_split"
      ],
      "execution_count": 54,
      "outputs": []
    },
    {
      "cell_type": "code",
      "metadata": {
        "id": "pCy5DBIT9XUH"
      },
      "source": [
        "X_train, X_test, y_train, y_test = train_test_split(X.values, y.values, test_size=0.25, random_state=42)"
      ],
      "execution_count": 56,
      "outputs": []
    },
    {
      "cell_type": "markdown",
      "metadata": {
        "id": "W0j698Gb91Bx"
      },
      "source": [
        "### 2.2 Covariance Matrixes"
      ]
    },
    {
      "cell_type": "code",
      "metadata": {
        "id": "LSrKu55S9wvY"
      },
      "source": [
        "cov_matrix = np.cov(X_train)\r\n"
      ],
      "execution_count": 57,
      "outputs": []
    },
    {
      "cell_type": "code",
      "metadata": {
        "colab": {
          "base_uri": "https://localhost:8080/",
          "height": 439
        },
        "id": "tBYPjG0K-Hk9",
        "outputId": "be8488ab-b2f4-482b-c3ea-e1a900454da8"
      },
      "source": [
        "pd.DataFrame(cov_matrix)"
      ],
      "execution_count": 61,
      "outputs": [
        {
          "output_type": "execute_result",
          "data": {
            "text/html": [
              "<div>\n",
              "<style scoped>\n",
              "    .dataframe tbody tr th:only-of-type {\n",
              "        vertical-align: middle;\n",
              "    }\n",
              "\n",
              "    .dataframe tbody tr th {\n",
              "        vertical-align: top;\n",
              "    }\n",
              "\n",
              "    .dataframe thead th {\n",
              "        text-align: right;\n",
              "    }\n",
              "</style>\n",
              "<table border=\"1\" class=\"dataframe\">\n",
              "  <thead>\n",
              "    <tr style=\"text-align: right;\">\n",
              "      <th></th>\n",
              "      <th>0</th>\n",
              "      <th>1</th>\n",
              "      <th>2</th>\n",
              "      <th>3</th>\n",
              "      <th>4</th>\n",
              "      <th>5</th>\n",
              "      <th>6</th>\n",
              "      <th>7</th>\n",
              "      <th>8</th>\n",
              "      <th>9</th>\n",
              "      <th>10</th>\n",
              "      <th>11</th>\n",
              "      <th>12</th>\n",
              "      <th>13</th>\n",
              "      <th>14</th>\n",
              "      <th>15</th>\n",
              "      <th>16</th>\n",
              "      <th>17</th>\n",
              "      <th>18</th>\n",
              "      <th>19</th>\n",
              "      <th>20</th>\n",
              "      <th>21</th>\n",
              "      <th>22</th>\n",
              "      <th>23</th>\n",
              "      <th>24</th>\n",
              "      <th>25</th>\n",
              "      <th>26</th>\n",
              "      <th>27</th>\n",
              "      <th>28</th>\n",
              "      <th>29</th>\n",
              "      <th>30</th>\n",
              "      <th>31</th>\n",
              "      <th>32</th>\n",
              "      <th>33</th>\n",
              "      <th>34</th>\n",
              "      <th>35</th>\n",
              "      <th>36</th>\n",
              "      <th>37</th>\n",
              "      <th>38</th>\n",
              "      <th>39</th>\n",
              "      <th>...</th>\n",
              "      <th>93</th>\n",
              "      <th>94</th>\n",
              "      <th>95</th>\n",
              "      <th>96</th>\n",
              "      <th>97</th>\n",
              "      <th>98</th>\n",
              "      <th>99</th>\n",
              "      <th>100</th>\n",
              "      <th>101</th>\n",
              "      <th>102</th>\n",
              "      <th>103</th>\n",
              "      <th>104</th>\n",
              "      <th>105</th>\n",
              "      <th>106</th>\n",
              "      <th>107</th>\n",
              "      <th>108</th>\n",
              "      <th>109</th>\n",
              "      <th>110</th>\n",
              "      <th>111</th>\n",
              "      <th>112</th>\n",
              "      <th>113</th>\n",
              "      <th>114</th>\n",
              "      <th>115</th>\n",
              "      <th>116</th>\n",
              "      <th>117</th>\n",
              "      <th>118</th>\n",
              "      <th>119</th>\n",
              "      <th>120</th>\n",
              "      <th>121</th>\n",
              "      <th>122</th>\n",
              "      <th>123</th>\n",
              "      <th>124</th>\n",
              "      <th>125</th>\n",
              "      <th>126</th>\n",
              "      <th>127</th>\n",
              "      <th>128</th>\n",
              "      <th>129</th>\n",
              "      <th>130</th>\n",
              "      <th>131</th>\n",
              "      <th>132</th>\n",
              "    </tr>\n",
              "  </thead>\n",
              "  <tbody>\n",
              "    <tr>\n",
              "      <th>0</th>\n",
              "      <td>0.551221</td>\n",
              "      <td>0.017281</td>\n",
              "      <td>-0.215189</td>\n",
              "      <td>-0.309836</td>\n",
              "      <td>0.512375</td>\n",
              "      <td>0.019690</td>\n",
              "      <td>0.286732</td>\n",
              "      <td>0.307517</td>\n",
              "      <td>-0.298057</td>\n",
              "      <td>-0.536611</td>\n",
              "      <td>0.023909</td>\n",
              "      <td>0.266092</td>\n",
              "      <td>0.181777</td>\n",
              "      <td>0.170413</td>\n",
              "      <td>0.287668</td>\n",
              "      <td>-0.551574</td>\n",
              "      <td>0.180214</td>\n",
              "      <td>0.202645</td>\n",
              "      <td>-0.348649</td>\n",
              "      <td>0.242771</td>\n",
              "      <td>0.390435</td>\n",
              "      <td>0.197530</td>\n",
              "      <td>-0.217183</td>\n",
              "      <td>0.062790</td>\n",
              "      <td>0.158317</td>\n",
              "      <td>0.340957</td>\n",
              "      <td>-0.365430</td>\n",
              "      <td>-0.137997</td>\n",
              "      <td>0.481462</td>\n",
              "      <td>-0.443705</td>\n",
              "      <td>-0.023235</td>\n",
              "      <td>0.365080</td>\n",
              "      <td>-0.562814</td>\n",
              "      <td>0.093212</td>\n",
              "      <td>-0.240978</td>\n",
              "      <td>0.298238</td>\n",
              "      <td>0.047445</td>\n",
              "      <td>0.169522</td>\n",
              "      <td>0.311049</td>\n",
              "      <td>-0.202967</td>\n",
              "      <td>...</td>\n",
              "      <td>-0.255652</td>\n",
              "      <td>0.126176</td>\n",
              "      <td>-0.195888</td>\n",
              "      <td>-0.477936</td>\n",
              "      <td>-0.235599</td>\n",
              "      <td>-0.331808</td>\n",
              "      <td>-0.329653</td>\n",
              "      <td>0.288456</td>\n",
              "      <td>0.241561</td>\n",
              "      <td>-0.148366</td>\n",
              "      <td>0.715798</td>\n",
              "      <td>-0.404218</td>\n",
              "      <td>0.522350</td>\n",
              "      <td>0.297493</td>\n",
              "      <td>-0.077014</td>\n",
              "      <td>0.218576</td>\n",
              "      <td>0.339863</td>\n",
              "      <td>-0.306281</td>\n",
              "      <td>-0.148873</td>\n",
              "      <td>0.205172</td>\n",
              "      <td>-0.493492</td>\n",
              "      <td>-0.259405</td>\n",
              "      <td>0.291164</td>\n",
              "      <td>0.400714</td>\n",
              "      <td>-0.383006</td>\n",
              "      <td>-0.122388</td>\n",
              "      <td>-0.226790</td>\n",
              "      <td>-0.064599</td>\n",
              "      <td>0.232211</td>\n",
              "      <td>0.032848</td>\n",
              "      <td>-0.136940</td>\n",
              "      <td>0.328013</td>\n",
              "      <td>0.090209</td>\n",
              "      <td>-0.506085</td>\n",
              "      <td>0.271897</td>\n",
              "      <td>0.129605</td>\n",
              "      <td>0.044143</td>\n",
              "      <td>0.728972</td>\n",
              "      <td>-0.194060</td>\n",
              "      <td>-0.033299</td>\n",
              "    </tr>\n",
              "    <tr>\n",
              "      <th>1</th>\n",
              "      <td>0.017281</td>\n",
              "      <td>0.790757</td>\n",
              "      <td>-0.175682</td>\n",
              "      <td>-0.339985</td>\n",
              "      <td>0.161634</td>\n",
              "      <td>0.547142</td>\n",
              "      <td>0.136069</td>\n",
              "      <td>-0.049176</td>\n",
              "      <td>-0.538564</td>\n",
              "      <td>-0.278956</td>\n",
              "      <td>0.435090</td>\n",
              "      <td>0.412837</td>\n",
              "      <td>-0.134279</td>\n",
              "      <td>0.404985</td>\n",
              "      <td>0.310054</td>\n",
              "      <td>-0.500013</td>\n",
              "      <td>0.544538</td>\n",
              "      <td>0.813301</td>\n",
              "      <td>-0.361379</td>\n",
              "      <td>0.179079</td>\n",
              "      <td>0.075501</td>\n",
              "      <td>0.266171</td>\n",
              "      <td>-0.160536</td>\n",
              "      <td>-0.193026</td>\n",
              "      <td>0.210967</td>\n",
              "      <td>0.419735</td>\n",
              "      <td>-0.306605</td>\n",
              "      <td>0.486158</td>\n",
              "      <td>0.372653</td>\n",
              "      <td>-0.564836</td>\n",
              "      <td>0.128771</td>\n",
              "      <td>0.191751</td>\n",
              "      <td>-0.521984</td>\n",
              "      <td>-0.041468</td>\n",
              "      <td>0.184512</td>\n",
              "      <td>0.307573</td>\n",
              "      <td>-0.132204</td>\n",
              "      <td>0.005152</td>\n",
              "      <td>0.174823</td>\n",
              "      <td>-0.288794</td>\n",
              "      <td>...</td>\n",
              "      <td>-0.315241</td>\n",
              "      <td>-0.043750</td>\n",
              "      <td>0.030424</td>\n",
              "      <td>-0.514575</td>\n",
              "      <td>-0.301822</td>\n",
              "      <td>-0.552005</td>\n",
              "      <td>-0.335724</td>\n",
              "      <td>0.479486</td>\n",
              "      <td>0.183252</td>\n",
              "      <td>-0.101724</td>\n",
              "      <td>0.490684</td>\n",
              "      <td>-0.427195</td>\n",
              "      <td>0.029841</td>\n",
              "      <td>0.054570</td>\n",
              "      <td>0.023665</td>\n",
              "      <td>0.051852</td>\n",
              "      <td>-0.000039</td>\n",
              "      <td>-0.653842</td>\n",
              "      <td>-0.070522</td>\n",
              "      <td>0.051953</td>\n",
              "      <td>-0.625330</td>\n",
              "      <td>-0.628044</td>\n",
              "      <td>0.411387</td>\n",
              "      <td>0.179068</td>\n",
              "      <td>-0.487813</td>\n",
              "      <td>-0.206781</td>\n",
              "      <td>-0.591954</td>\n",
              "      <td>0.361468</td>\n",
              "      <td>0.531305</td>\n",
              "      <td>0.386898</td>\n",
              "      <td>0.185976</td>\n",
              "      <td>0.326823</td>\n",
              "      <td>-0.280210</td>\n",
              "      <td>-0.859018</td>\n",
              "      <td>0.310672</td>\n",
              "      <td>0.103658</td>\n",
              "      <td>0.259299</td>\n",
              "      <td>0.264467</td>\n",
              "      <td>-0.107198</td>\n",
              "      <td>-0.008178</td>\n",
              "    </tr>\n",
              "    <tr>\n",
              "      <th>2</th>\n",
              "      <td>-0.215189</td>\n",
              "      <td>-0.175682</td>\n",
              "      <td>1.114522</td>\n",
              "      <td>-0.145172</td>\n",
              "      <td>-0.487935</td>\n",
              "      <td>-0.419466</td>\n",
              "      <td>-0.590849</td>\n",
              "      <td>-0.348563</td>\n",
              "      <td>-0.164258</td>\n",
              "      <td>0.170778</td>\n",
              "      <td>0.093900</td>\n",
              "      <td>-0.395474</td>\n",
              "      <td>-0.216853</td>\n",
              "      <td>0.336306</td>\n",
              "      <td>-0.307015</td>\n",
              "      <td>0.473560</td>\n",
              "      <td>-0.140359</td>\n",
              "      <td>-0.319218</td>\n",
              "      <td>-0.068284</td>\n",
              "      <td>-0.601346</td>\n",
              "      <td>-0.609941</td>\n",
              "      <td>-0.463220</td>\n",
              "      <td>0.011470</td>\n",
              "      <td>0.241015</td>\n",
              "      <td>-0.306132</td>\n",
              "      <td>-0.167333</td>\n",
              "      <td>0.299703</td>\n",
              "      <td>-0.048062</td>\n",
              "      <td>-0.672014</td>\n",
              "      <td>0.433527</td>\n",
              "      <td>0.738856</td>\n",
              "      <td>-0.543187</td>\n",
              "      <td>0.556542</td>\n",
              "      <td>0.272964</td>\n",
              "      <td>0.227883</td>\n",
              "      <td>-0.353306</td>\n",
              "      <td>0.472007</td>\n",
              "      <td>-0.100170</td>\n",
              "      <td>-0.427182</td>\n",
              "      <td>0.910795</td>\n",
              "      <td>...</td>\n",
              "      <td>0.211652</td>\n",
              "      <td>-0.399120</td>\n",
              "      <td>0.244657</td>\n",
              "      <td>0.374718</td>\n",
              "      <td>-0.125826</td>\n",
              "      <td>0.097585</td>\n",
              "      <td>0.180421</td>\n",
              "      <td>-0.144943</td>\n",
              "      <td>-0.536037</td>\n",
              "      <td>0.358388</td>\n",
              "      <td>-0.882410</td>\n",
              "      <td>-0.064816</td>\n",
              "      <td>-0.680212</td>\n",
              "      <td>-0.424325</td>\n",
              "      <td>0.444280</td>\n",
              "      <td>0.254605</td>\n",
              "      <td>-0.429600</td>\n",
              "      <td>-0.180628</td>\n",
              "      <td>0.722445</td>\n",
              "      <td>-0.249454</td>\n",
              "      <td>0.480347</td>\n",
              "      <td>0.153735</td>\n",
              "      <td>-0.642279</td>\n",
              "      <td>-0.780710</td>\n",
              "      <td>0.148015</td>\n",
              "      <td>-0.108386</td>\n",
              "      <td>0.038985</td>\n",
              "      <td>0.188027</td>\n",
              "      <td>0.249358</td>\n",
              "      <td>0.288812</td>\n",
              "      <td>0.659982</td>\n",
              "      <td>-0.033157</td>\n",
              "      <td>0.835326</td>\n",
              "      <td>0.364035</td>\n",
              "      <td>-0.490731</td>\n",
              "      <td>0.285103</td>\n",
              "      <td>0.160700</td>\n",
              "      <td>-1.113156</td>\n",
              "      <td>0.251182</td>\n",
              "      <td>0.477648</td>\n",
              "    </tr>\n",
              "    <tr>\n",
              "      <th>3</th>\n",
              "      <td>-0.309836</td>\n",
              "      <td>-0.339985</td>\n",
              "      <td>-0.145172</td>\n",
              "      <td>0.942996</td>\n",
              "      <td>-0.494676</td>\n",
              "      <td>-0.199940</td>\n",
              "      <td>-0.237601</td>\n",
              "      <td>-0.323225</td>\n",
              "      <td>1.031661</td>\n",
              "      <td>0.577438</td>\n",
              "      <td>-0.271488</td>\n",
              "      <td>0.154743</td>\n",
              "      <td>-0.286815</td>\n",
              "      <td>-0.575733</td>\n",
              "      <td>-0.535550</td>\n",
              "      <td>0.458053</td>\n",
              "      <td>-0.440324</td>\n",
              "      <td>-0.158213</td>\n",
              "      <td>0.662736</td>\n",
              "      <td>-0.278994</td>\n",
              "      <td>-0.339116</td>\n",
              "      <td>-0.240809</td>\n",
              "      <td>0.505358</td>\n",
              "      <td>-0.174322</td>\n",
              "      <td>-0.200735</td>\n",
              "      <td>0.023636</td>\n",
              "      <td>0.473419</td>\n",
              "      <td>-0.042807</td>\n",
              "      <td>-0.453550</td>\n",
              "      <td>0.589630</td>\n",
              "      <td>-0.377277</td>\n",
              "      <td>-0.317438</td>\n",
              "      <td>0.368438</td>\n",
              "      <td>-0.075723</td>\n",
              "      <td>-0.116401</td>\n",
              "      <td>-0.250177</td>\n",
              "      <td>-0.086418</td>\n",
              "      <td>-0.409003</td>\n",
              "      <td>-0.188895</td>\n",
              "      <td>0.220365</td>\n",
              "      <td>...</td>\n",
              "      <td>0.258274</td>\n",
              "      <td>-0.048046</td>\n",
              "      <td>-0.119145</td>\n",
              "      <td>0.850498</td>\n",
              "      <td>0.643829</td>\n",
              "      <td>0.693213</td>\n",
              "      <td>0.450395</td>\n",
              "      <td>-0.601809</td>\n",
              "      <td>-0.225514</td>\n",
              "      <td>0.233830</td>\n",
              "      <td>-0.400241</td>\n",
              "      <td>0.886164</td>\n",
              "      <td>-0.344436</td>\n",
              "      <td>-0.144088</td>\n",
              "      <td>0.010243</td>\n",
              "      <td>-0.443118</td>\n",
              "      <td>-0.311677</td>\n",
              "      <td>0.724029</td>\n",
              "      <td>-0.065225</td>\n",
              "      <td>-0.267269</td>\n",
              "      <td>0.900072</td>\n",
              "      <td>0.650008</td>\n",
              "      <td>-0.469812</td>\n",
              "      <td>-0.364450</td>\n",
              "      <td>0.707950</td>\n",
              "      <td>0.246598</td>\n",
              "      <td>0.710572</td>\n",
              "      <td>-0.094531</td>\n",
              "      <td>-0.475222</td>\n",
              "      <td>-0.219915</td>\n",
              "      <td>-0.229952</td>\n",
              "      <td>-0.502818</td>\n",
              "      <td>-0.177628</td>\n",
              "      <td>0.810407</td>\n",
              "      <td>-0.379241</td>\n",
              "      <td>-0.660146</td>\n",
              "      <td>-0.133501</td>\n",
              "      <td>-0.387679</td>\n",
              "      <td>0.342066</td>\n",
              "      <td>-0.231370</td>\n",
              "    </tr>\n",
              "    <tr>\n",
              "      <th>4</th>\n",
              "      <td>0.512375</td>\n",
              "      <td>0.161634</td>\n",
              "      <td>-0.487935</td>\n",
              "      <td>-0.494676</td>\n",
              "      <td>0.799276</td>\n",
              "      <td>0.267063</td>\n",
              "      <td>0.404259</td>\n",
              "      <td>0.443235</td>\n",
              "      <td>-0.569955</td>\n",
              "      <td>-0.559868</td>\n",
              "      <td>0.129044</td>\n",
              "      <td>0.136262</td>\n",
              "      <td>0.309636</td>\n",
              "      <td>0.151465</td>\n",
              "      <td>0.544241</td>\n",
              "      <td>-0.594171</td>\n",
              "      <td>0.265061</td>\n",
              "      <td>0.241755</td>\n",
              "      <td>-0.387460</td>\n",
              "      <td>0.604416</td>\n",
              "      <td>0.679206</td>\n",
              "      <td>0.421938</td>\n",
              "      <td>-0.352728</td>\n",
              "      <td>-0.010401</td>\n",
              "      <td>0.318754</td>\n",
              "      <td>0.103940</td>\n",
              "      <td>-0.483989</td>\n",
              "      <td>-0.070199</td>\n",
              "      <td>0.739201</td>\n",
              "      <td>-0.643443</td>\n",
              "      <td>-0.286124</td>\n",
              "      <td>0.528642</td>\n",
              "      <td>-0.532027</td>\n",
              "      <td>-0.121363</td>\n",
              "      <td>-0.121894</td>\n",
              "      <td>0.288045</td>\n",
              "      <td>-0.078459</td>\n",
              "      <td>0.348717</td>\n",
              "      <td>0.291060</td>\n",
              "      <td>-0.502974</td>\n",
              "      <td>...</td>\n",
              "      <td>-0.284607</td>\n",
              "      <td>0.232514</td>\n",
              "      <td>-0.022641</td>\n",
              "      <td>-0.790745</td>\n",
              "      <td>-0.355914</td>\n",
              "      <td>-0.497826</td>\n",
              "      <td>-0.417419</td>\n",
              "      <td>0.333958</td>\n",
              "      <td>0.403351</td>\n",
              "      <td>-0.206848</td>\n",
              "      <td>0.830977</td>\n",
              "      <td>-0.600968</td>\n",
              "      <td>0.609317</td>\n",
              "      <td>0.398889</td>\n",
              "      <td>-0.172614</td>\n",
              "      <td>0.208990</td>\n",
              "      <td>0.461486</td>\n",
              "      <td>-0.295305</td>\n",
              "      <td>-0.369866</td>\n",
              "      <td>0.365057</td>\n",
              "      <td>-0.766604</td>\n",
              "      <td>-0.328957</td>\n",
              "      <td>0.543545</td>\n",
              "      <td>0.507048</td>\n",
              "      <td>-0.580224</td>\n",
              "      <td>-0.120692</td>\n",
              "      <td>-0.426899</td>\n",
              "      <td>-0.171753</td>\n",
              "      <td>0.109312</td>\n",
              "      <td>0.019556</td>\n",
              "      <td>-0.079842</td>\n",
              "      <td>0.314833</td>\n",
              "      <td>-0.297278</td>\n",
              "      <td>-0.701090</td>\n",
              "      <td>0.426587</td>\n",
              "      <td>0.344790</td>\n",
              "      <td>0.083516</td>\n",
              "      <td>0.942653</td>\n",
              "      <td>-0.243405</td>\n",
              "      <td>-0.155186</td>\n",
              "    </tr>\n",
              "    <tr>\n",
              "      <th>...</th>\n",
              "      <td>...</td>\n",
              "      <td>...</td>\n",
              "      <td>...</td>\n",
              "      <td>...</td>\n",
              "      <td>...</td>\n",
              "      <td>...</td>\n",
              "      <td>...</td>\n",
              "      <td>...</td>\n",
              "      <td>...</td>\n",
              "      <td>...</td>\n",
              "      <td>...</td>\n",
              "      <td>...</td>\n",
              "      <td>...</td>\n",
              "      <td>...</td>\n",
              "      <td>...</td>\n",
              "      <td>...</td>\n",
              "      <td>...</td>\n",
              "      <td>...</td>\n",
              "      <td>...</td>\n",
              "      <td>...</td>\n",
              "      <td>...</td>\n",
              "      <td>...</td>\n",
              "      <td>...</td>\n",
              "      <td>...</td>\n",
              "      <td>...</td>\n",
              "      <td>...</td>\n",
              "      <td>...</td>\n",
              "      <td>...</td>\n",
              "      <td>...</td>\n",
              "      <td>...</td>\n",
              "      <td>...</td>\n",
              "      <td>...</td>\n",
              "      <td>...</td>\n",
              "      <td>...</td>\n",
              "      <td>...</td>\n",
              "      <td>...</td>\n",
              "      <td>...</td>\n",
              "      <td>...</td>\n",
              "      <td>...</td>\n",
              "      <td>...</td>\n",
              "      <td>...</td>\n",
              "      <td>...</td>\n",
              "      <td>...</td>\n",
              "      <td>...</td>\n",
              "      <td>...</td>\n",
              "      <td>...</td>\n",
              "      <td>...</td>\n",
              "      <td>...</td>\n",
              "      <td>...</td>\n",
              "      <td>...</td>\n",
              "      <td>...</td>\n",
              "      <td>...</td>\n",
              "      <td>...</td>\n",
              "      <td>...</td>\n",
              "      <td>...</td>\n",
              "      <td>...</td>\n",
              "      <td>...</td>\n",
              "      <td>...</td>\n",
              "      <td>...</td>\n",
              "      <td>...</td>\n",
              "      <td>...</td>\n",
              "      <td>...</td>\n",
              "      <td>...</td>\n",
              "      <td>...</td>\n",
              "      <td>...</td>\n",
              "      <td>...</td>\n",
              "      <td>...</td>\n",
              "      <td>...</td>\n",
              "      <td>...</td>\n",
              "      <td>...</td>\n",
              "      <td>...</td>\n",
              "      <td>...</td>\n",
              "      <td>...</td>\n",
              "      <td>...</td>\n",
              "      <td>...</td>\n",
              "      <td>...</td>\n",
              "      <td>...</td>\n",
              "      <td>...</td>\n",
              "      <td>...</td>\n",
              "      <td>...</td>\n",
              "      <td>...</td>\n",
              "    </tr>\n",
              "    <tr>\n",
              "      <th>128</th>\n",
              "      <td>0.129605</td>\n",
              "      <td>0.103658</td>\n",
              "      <td>0.285103</td>\n",
              "      <td>-0.660146</td>\n",
              "      <td>0.344790</td>\n",
              "      <td>0.291323</td>\n",
              "      <td>0.031332</td>\n",
              "      <td>0.045031</td>\n",
              "      <td>-0.898719</td>\n",
              "      <td>-0.478851</td>\n",
              "      <td>0.287816</td>\n",
              "      <td>-0.381125</td>\n",
              "      <td>0.104393</td>\n",
              "      <td>0.474425</td>\n",
              "      <td>0.248505</td>\n",
              "      <td>-0.425109</td>\n",
              "      <td>0.389767</td>\n",
              "      <td>-0.129046</td>\n",
              "      <td>-0.565377</td>\n",
              "      <td>0.131272</td>\n",
              "      <td>0.023890</td>\n",
              "      <td>-0.033141</td>\n",
              "      <td>-0.782928</td>\n",
              "      <td>0.185573</td>\n",
              "      <td>0.089270</td>\n",
              "      <td>-0.248684</td>\n",
              "      <td>-0.480847</td>\n",
              "      <td>-0.068215</td>\n",
              "      <td>0.162773</td>\n",
              "      <td>-0.556973</td>\n",
              "      <td>0.109688</td>\n",
              "      <td>0.001325</td>\n",
              "      <td>-0.050104</td>\n",
              "      <td>0.295748</td>\n",
              "      <td>0.302703</td>\n",
              "      <td>0.002772</td>\n",
              "      <td>0.057756</td>\n",
              "      <td>0.410825</td>\n",
              "      <td>0.002220</td>\n",
              "      <td>0.333875</td>\n",
              "      <td>...</td>\n",
              "      <td>-0.210581</td>\n",
              "      <td>0.070729</td>\n",
              "      <td>0.508157</td>\n",
              "      <td>-0.811203</td>\n",
              "      <td>-0.434694</td>\n",
              "      <td>-0.470808</td>\n",
              "      <td>-0.556281</td>\n",
              "      <td>0.720788</td>\n",
              "      <td>-0.065442</td>\n",
              "      <td>0.107319</td>\n",
              "      <td>-0.005119</td>\n",
              "      <td>-0.974365</td>\n",
              "      <td>0.090151</td>\n",
              "      <td>0.128915</td>\n",
              "      <td>0.089128</td>\n",
              "      <td>0.156064</td>\n",
              "      <td>0.043590</td>\n",
              "      <td>-0.393449</td>\n",
              "      <td>-0.030571</td>\n",
              "      <td>0.147996</td>\n",
              "      <td>-0.489447</td>\n",
              "      <td>-0.218215</td>\n",
              "      <td>-0.106576</td>\n",
              "      <td>-0.036738</td>\n",
              "      <td>-0.621206</td>\n",
              "      <td>-0.233017</td>\n",
              "      <td>-0.448704</td>\n",
              "      <td>0.145654</td>\n",
              "      <td>0.403320</td>\n",
              "      <td>0.286516</td>\n",
              "      <td>0.621213</td>\n",
              "      <td>0.458234</td>\n",
              "      <td>0.511650</td>\n",
              "      <td>-0.380408</td>\n",
              "      <td>0.158711</td>\n",
              "      <td>1.188805</td>\n",
              "      <td>0.190487</td>\n",
              "      <td>-0.075552</td>\n",
              "      <td>-0.000064</td>\n",
              "      <td>0.226744</td>\n",
              "    </tr>\n",
              "    <tr>\n",
              "      <th>129</th>\n",
              "      <td>0.044143</td>\n",
              "      <td>0.259299</td>\n",
              "      <td>0.160700</td>\n",
              "      <td>-0.133501</td>\n",
              "      <td>0.083516</td>\n",
              "      <td>0.218462</td>\n",
              "      <td>-0.158912</td>\n",
              "      <td>-0.029338</td>\n",
              "      <td>-0.202741</td>\n",
              "      <td>-0.057189</td>\n",
              "      <td>0.347984</td>\n",
              "      <td>-0.023380</td>\n",
              "      <td>-0.144454</td>\n",
              "      <td>0.312503</td>\n",
              "      <td>0.138605</td>\n",
              "      <td>-0.167172</td>\n",
              "      <td>0.282326</td>\n",
              "      <td>0.001926</td>\n",
              "      <td>-0.158702</td>\n",
              "      <td>-0.019481</td>\n",
              "      <td>0.012538</td>\n",
              "      <td>-0.009469</td>\n",
              "      <td>-0.245743</td>\n",
              "      <td>-0.108390</td>\n",
              "      <td>0.074429</td>\n",
              "      <td>-0.146020</td>\n",
              "      <td>-0.110018</td>\n",
              "      <td>0.176532</td>\n",
              "      <td>-0.023253</td>\n",
              "      <td>-0.169783</td>\n",
              "      <td>0.173242</td>\n",
              "      <td>-0.068055</td>\n",
              "      <td>-0.129110</td>\n",
              "      <td>0.187231</td>\n",
              "      <td>0.127481</td>\n",
              "      <td>0.038892</td>\n",
              "      <td>-0.234882</td>\n",
              "      <td>0.007856</td>\n",
              "      <td>-0.028155</td>\n",
              "      <td>0.236891</td>\n",
              "      <td>...</td>\n",
              "      <td>-0.261497</td>\n",
              "      <td>-0.166197</td>\n",
              "      <td>0.130482</td>\n",
              "      <td>-0.168495</td>\n",
              "      <td>-0.042226</td>\n",
              "      <td>-0.236380</td>\n",
              "      <td>-0.229471</td>\n",
              "      <td>0.177752</td>\n",
              "      <td>-0.144688</td>\n",
              "      <td>0.250709</td>\n",
              "      <td>0.104941</td>\n",
              "      <td>-0.406288</td>\n",
              "      <td>-0.221494</td>\n",
              "      <td>-0.047293</td>\n",
              "      <td>0.263380</td>\n",
              "      <td>0.070218</td>\n",
              "      <td>-0.120758</td>\n",
              "      <td>-0.265206</td>\n",
              "      <td>0.167514</td>\n",
              "      <td>-0.058421</td>\n",
              "      <td>-0.143103</td>\n",
              "      <td>-0.254702</td>\n",
              "      <td>0.025898</td>\n",
              "      <td>-0.174023</td>\n",
              "      <td>-0.363342</td>\n",
              "      <td>-0.374745</td>\n",
              "      <td>-0.383698</td>\n",
              "      <td>0.217439</td>\n",
              "      <td>0.403203</td>\n",
              "      <td>0.360758</td>\n",
              "      <td>0.378196</td>\n",
              "      <td>0.012311</td>\n",
              "      <td>0.143857</td>\n",
              "      <td>-0.304267</td>\n",
              "      <td>-0.058792</td>\n",
              "      <td>0.190487</td>\n",
              "      <td>0.380527</td>\n",
              "      <td>-0.082470</td>\n",
              "      <td>0.258460</td>\n",
              "      <td>0.121541</td>\n",
              "    </tr>\n",
              "    <tr>\n",
              "      <th>130</th>\n",
              "      <td>0.728972</td>\n",
              "      <td>0.264467</td>\n",
              "      <td>-1.113156</td>\n",
              "      <td>-0.387679</td>\n",
              "      <td>0.942653</td>\n",
              "      <td>0.459277</td>\n",
              "      <td>0.848419</td>\n",
              "      <td>0.623859</td>\n",
              "      <td>-0.254567</td>\n",
              "      <td>-0.616113</td>\n",
              "      <td>-0.023200</td>\n",
              "      <td>0.600478</td>\n",
              "      <td>0.371563</td>\n",
              "      <td>0.052121</td>\n",
              "      <td>0.642950</td>\n",
              "      <td>-0.802784</td>\n",
              "      <td>0.422023</td>\n",
              "      <td>0.475207</td>\n",
              "      <td>-0.415333</td>\n",
              "      <td>0.793157</td>\n",
              "      <td>1.000095</td>\n",
              "      <td>0.632483</td>\n",
              "      <td>-0.321935</td>\n",
              "      <td>-0.147877</td>\n",
              "      <td>0.505215</td>\n",
              "      <td>0.457057</td>\n",
              "      <td>-0.689001</td>\n",
              "      <td>-0.059957</td>\n",
              "      <td>1.122024</td>\n",
              "      <td>-0.843987</td>\n",
              "      <td>-0.350701</td>\n",
              "      <td>0.883014</td>\n",
              "      <td>-1.071094</td>\n",
              "      <td>-0.162267</td>\n",
              "      <td>-0.446047</td>\n",
              "      <td>0.645521</td>\n",
              "      <td>-0.495604</td>\n",
              "      <td>0.291019</td>\n",
              "      <td>0.723344</td>\n",
              "      <td>-1.144180</td>\n",
              "      <td>...</td>\n",
              "      <td>-0.483405</td>\n",
              "      <td>0.408460</td>\n",
              "      <td>-0.427341</td>\n",
              "      <td>-0.776718</td>\n",
              "      <td>-0.210587</td>\n",
              "      <td>-0.505270</td>\n",
              "      <td>-0.487222</td>\n",
              "      <td>0.464745</td>\n",
              "      <td>0.709321</td>\n",
              "      <td>-0.503660</td>\n",
              "      <td>1.544855</td>\n",
              "      <td>-0.443648</td>\n",
              "      <td>1.081009</td>\n",
              "      <td>0.694659</td>\n",
              "      <td>-0.520951</td>\n",
              "      <td>0.096083</td>\n",
              "      <td>0.695057</td>\n",
              "      <td>-0.264892</td>\n",
              "      <td>-0.670806</td>\n",
              "      <td>0.402753</td>\n",
              "      <td>-1.145145</td>\n",
              "      <td>-0.599280</td>\n",
              "      <td>0.975170</td>\n",
              "      <td>1.140629</td>\n",
              "      <td>-0.624675</td>\n",
              "      <td>-0.120546</td>\n",
              "      <td>-0.514916</td>\n",
              "      <td>-0.165594</td>\n",
              "      <td>0.251076</td>\n",
              "      <td>-0.220219</td>\n",
              "      <td>-0.828176</td>\n",
              "      <td>0.292439</td>\n",
              "      <td>-0.884109</td>\n",
              "      <td>-0.895057</td>\n",
              "      <td>0.771419</td>\n",
              "      <td>-0.075552</td>\n",
              "      <td>-0.082470</td>\n",
              "      <td>1.796475</td>\n",
              "      <td>-0.430592</td>\n",
              "      <td>-0.424967</td>\n",
              "    </tr>\n",
              "    <tr>\n",
              "      <th>131</th>\n",
              "      <td>-0.194060</td>\n",
              "      <td>-0.107198</td>\n",
              "      <td>0.251182</td>\n",
              "      <td>0.342066</td>\n",
              "      <td>-0.243405</td>\n",
              "      <td>-0.003667</td>\n",
              "      <td>-0.490775</td>\n",
              "      <td>-0.220090</td>\n",
              "      <td>0.338313</td>\n",
              "      <td>0.445756</td>\n",
              "      <td>0.077652</td>\n",
              "      <td>-0.093240</td>\n",
              "      <td>-0.210331</td>\n",
              "      <td>-0.039074</td>\n",
              "      <td>-0.282120</td>\n",
              "      <td>0.304967</td>\n",
              "      <td>0.009157</td>\n",
              "      <td>-0.441580</td>\n",
              "      <td>0.114155</td>\n",
              "      <td>-0.176078</td>\n",
              "      <td>-0.253372</td>\n",
              "      <td>-0.202212</td>\n",
              "      <td>-0.197876</td>\n",
              "      <td>-0.094796</td>\n",
              "      <td>0.050822</td>\n",
              "      <td>-0.281906</td>\n",
              "      <td>0.171909</td>\n",
              "      <td>0.117898</td>\n",
              "      <td>-0.392930</td>\n",
              "      <td>0.215905</td>\n",
              "      <td>-0.059630</td>\n",
              "      <td>-0.463652</td>\n",
              "      <td>0.384158</td>\n",
              "      <td>0.119781</td>\n",
              "      <td>0.307790</td>\n",
              "      <td>-0.339638</td>\n",
              "      <td>-0.293551</td>\n",
              "      <td>-0.114329</td>\n",
              "      <td>-0.327668</td>\n",
              "      <td>0.642501</td>\n",
              "      <td>...</td>\n",
              "      <td>-0.065872</td>\n",
              "      <td>-0.146473</td>\n",
              "      <td>0.115739</td>\n",
              "      <td>0.424698</td>\n",
              "      <td>0.479994</td>\n",
              "      <td>0.173784</td>\n",
              "      <td>0.079218</td>\n",
              "      <td>-0.252774</td>\n",
              "      <td>-0.500216</td>\n",
              "      <td>0.524032</td>\n",
              "      <td>-0.414505</td>\n",
              "      <td>-0.056334</td>\n",
              "      <td>-0.586552</td>\n",
              "      <td>-0.151051</td>\n",
              "      <td>0.390736</td>\n",
              "      <td>-0.245966</td>\n",
              "      <td>-0.307601</td>\n",
              "      <td>0.175451</td>\n",
              "      <td>0.248933</td>\n",
              "      <td>-0.138638</td>\n",
              "      <td>0.518539</td>\n",
              "      <td>0.164061</td>\n",
              "      <td>-0.417685</td>\n",
              "      <td>-0.548955</td>\n",
              "      <td>-0.055412</td>\n",
              "      <td>-0.214801</td>\n",
              "      <td>-0.192808</td>\n",
              "      <td>0.159369</td>\n",
              "      <td>0.275121</td>\n",
              "      <td>0.126037</td>\n",
              "      <td>0.399734</td>\n",
              "      <td>-0.440202</td>\n",
              "      <td>0.034253</td>\n",
              "      <td>0.344404</td>\n",
              "      <td>-0.502336</td>\n",
              "      <td>-0.000064</td>\n",
              "      <td>0.258460</td>\n",
              "      <td>-0.430592</td>\n",
              "      <td>0.698182</td>\n",
              "      <td>-0.040580</td>\n",
              "    </tr>\n",
              "    <tr>\n",
              "      <th>132</th>\n",
              "      <td>-0.033299</td>\n",
              "      <td>-0.008178</td>\n",
              "      <td>0.477648</td>\n",
              "      <td>-0.231370</td>\n",
              "      <td>-0.155186</td>\n",
              "      <td>-0.163969</td>\n",
              "      <td>-0.072872</td>\n",
              "      <td>0.017150</td>\n",
              "      <td>-0.333403</td>\n",
              "      <td>-0.151937</td>\n",
              "      <td>0.180667</td>\n",
              "      <td>-0.211755</td>\n",
              "      <td>0.007525</td>\n",
              "      <td>0.262869</td>\n",
              "      <td>0.076763</td>\n",
              "      <td>-0.138581</td>\n",
              "      <td>0.044836</td>\n",
              "      <td>-0.104703</td>\n",
              "      <td>-0.253623</td>\n",
              "      <td>-0.267714</td>\n",
              "      <td>-0.161453</td>\n",
              "      <td>-0.153716</td>\n",
              "      <td>-0.169142</td>\n",
              "      <td>0.175945</td>\n",
              "      <td>-0.126719</td>\n",
              "      <td>-0.077498</td>\n",
              "      <td>-0.020690</td>\n",
              "      <td>-0.080393</td>\n",
              "      <td>-0.247656</td>\n",
              "      <td>-0.014523</td>\n",
              "      <td>0.341024</td>\n",
              "      <td>-0.038451</td>\n",
              "      <td>0.062712</td>\n",
              "      <td>0.296156</td>\n",
              "      <td>0.047836</td>\n",
              "      <td>0.052652</td>\n",
              "      <td>0.158618</td>\n",
              "      <td>0.083958</td>\n",
              "      <td>0.011638</td>\n",
              "      <td>0.348296</td>\n",
              "      <td>...</td>\n",
              "      <td>-0.102499</td>\n",
              "      <td>-0.133729</td>\n",
              "      <td>0.119011</td>\n",
              "      <td>-0.174368</td>\n",
              "      <td>-0.176263</td>\n",
              "      <td>-0.150496</td>\n",
              "      <td>-0.111167</td>\n",
              "      <td>0.159843</td>\n",
              "      <td>-0.085665</td>\n",
              "      <td>0.060562</td>\n",
              "      <td>-0.321527</td>\n",
              "      <td>-0.309379</td>\n",
              "      <td>-0.116685</td>\n",
              "      <td>-0.185231</td>\n",
              "      <td>0.205661</td>\n",
              "      <td>0.185207</td>\n",
              "      <td>-0.084386</td>\n",
              "      <td>-0.291193</td>\n",
              "      <td>0.270682</td>\n",
              "      <td>-0.086098</td>\n",
              "      <td>-0.011119</td>\n",
              "      <td>-0.172959</td>\n",
              "      <td>-0.073232</td>\n",
              "      <td>-0.081025</td>\n",
              "      <td>-0.194904</td>\n",
              "      <td>-0.164436</td>\n",
              "      <td>-0.158954</td>\n",
              "      <td>0.160995</td>\n",
              "      <td>0.109974</td>\n",
              "      <td>0.259457</td>\n",
              "      <td>0.311100</td>\n",
              "      <td>0.242172</td>\n",
              "      <td>0.655318</td>\n",
              "      <td>-0.112534</td>\n",
              "      <td>0.007360</td>\n",
              "      <td>0.226744</td>\n",
              "      <td>0.121541</td>\n",
              "      <td>-0.424967</td>\n",
              "      <td>-0.040580</td>\n",
              "      <td>0.400618</td>\n",
              "    </tr>\n",
              "  </tbody>\n",
              "</table>\n",
              "<p>133 rows × 133 columns</p>\n",
              "</div>"
            ],
            "text/plain": [
              "          0         1         2    ...       130       131       132\n",
              "0    0.551221  0.017281 -0.215189  ...  0.728972 -0.194060 -0.033299\n",
              "1    0.017281  0.790757 -0.175682  ...  0.264467 -0.107198 -0.008178\n",
              "2   -0.215189 -0.175682  1.114522  ... -1.113156  0.251182  0.477648\n",
              "3   -0.309836 -0.339985 -0.145172  ... -0.387679  0.342066 -0.231370\n",
              "4    0.512375  0.161634 -0.487935  ...  0.942653 -0.243405 -0.155186\n",
              "..        ...       ...       ...  ...       ...       ...       ...\n",
              "128  0.129605  0.103658  0.285103  ... -0.075552 -0.000064  0.226744\n",
              "129  0.044143  0.259299  0.160700  ... -0.082470  0.258460  0.121541\n",
              "130  0.728972  0.264467 -1.113156  ...  1.796475 -0.430592 -0.424967\n",
              "131 -0.194060 -0.107198  0.251182  ... -0.430592  0.698182 -0.040580\n",
              "132 -0.033299 -0.008178  0.477648  ... -0.424967 -0.040580  0.400618\n",
              "\n",
              "[133 rows x 133 columns]"
            ]
          },
          "metadata": {
            "tags": []
          },
          "execution_count": 61
        }
      ]
    },
    {
      "cell_type": "markdown",
      "metadata": {
        "id": "kYbOfKRa-MO5"
      },
      "source": [
        "### 2.3"
      ]
    },
    {
      "cell_type": "code",
      "metadata": {
        "id": "OIwQRpbC-Kov"
      },
      "source": [
        "w, v = np.linalg.eig(cov_matrix)"
      ],
      "execution_count": 62,
      "outputs": []
    },
    {
      "cell_type": "code",
      "metadata": {
        "id": "-hu7U1HP_F_s"
      },
      "source": [
        "explained_variances = [w_i/np.sum(w) for w_i in w]"
      ],
      "execution_count": 63,
      "outputs": []
    },
    {
      "cell_type": "code",
      "metadata": {
        "colab": {
          "base_uri": "https://localhost:8080/"
        },
        "id": "vfeZz4Y__ryg",
        "outputId": "7d80cc95-88de-48ec-9483-ba963aa4d789"
      },
      "source": [
        "explained_variances[:5]"
      ],
      "execution_count": 65,
      "outputs": [
        {
          "output_type": "execute_result",
          "data": {
            "text/plain": [
              "[(0.38211344347858733+1.8153621052781995e-33j),\n",
              " (0.18559045244883804+8.8171164932054e-34j),\n",
              " (0.09455886325705266+4.492345925135079e-34j),\n",
              " (0.08246383059797945+3.917729555935963e-34j),\n",
              " (0.07295532290938646+3.4659950035350244e-34j)]"
            ]
          },
          "metadata": {
            "tags": []
          },
          "execution_count": 65
        }
      ]
    },
    {
      "cell_type": "markdown",
      "metadata": {
        "id": "Tp1TDJ7N_6Et"
      },
      "source": [
        "### 2.4 Sort"
      ]
    },
    {
      "cell_type": "code",
      "metadata": {
        "id": "ue4elmZH_tpA"
      },
      "source": [
        "sorted_w_v = sorted(zip(w, v), reverse=True)"
      ],
      "execution_count": 66,
      "outputs": []
    },
    {
      "cell_type": "code",
      "metadata": {
        "id": "sgldGSiHASpA"
      },
      "source": [
        "w_sorted, v_sorted = [ list(storted_touple) for storted_touple in  zip(*sorted_w_v)]"
      ],
      "execution_count": 78,
      "outputs": []
    },
    {
      "cell_type": "markdown",
      "metadata": {
        "id": "lULYR6ASBjaS"
      },
      "source": [
        "### 2.5"
      ]
    },
    {
      "cell_type": "code",
      "metadata": {
        "id": "X_gyBU02Biwg"
      },
      "source": [
        "sorted_explained_variances = [w_i/np.sum(w_sorted) for w_i in w_sorted]"
      ],
      "execution_count": 79,
      "outputs": []
    },
    {
      "cell_type": "code",
      "metadata": {
        "id": "uoFzG-WNAuxH"
      },
      "source": [
        "import matplotlib.pyplot as plt\r\n"
      ],
      "execution_count": 82,
      "outputs": []
    },
    {
      "cell_type": "code",
      "metadata": {
        "colab": {
          "base_uri": "https://localhost:8080/",
          "height": 337
        },
        "id": "i_sqVAH2CNes",
        "outputId": "81ad8d59-444e-41b4-a8bd-5113d5447a3c"
      },
      "source": [
        "plt.plot(sorted_explained_variances[:15])\r\n",
        "plt.grid()\r\n",
        "plt.ylabel(\"explained_variances\")\r\n",
        "plt.xlabel('number of components')\r\n",
        "\r\n",
        "plt.xticks(range(15), range(1, 16))\r\n",
        "plt.show()"
      ],
      "execution_count": 103,
      "outputs": [
        {
          "output_type": "stream",
          "text": [
            "/usr/local/lib/python3.6/dist-packages/numpy/core/_asarray.py:83: ComplexWarning: Casting complex values to real discards the imaginary part\n",
            "  return array(a, dtype, copy=False, order=order)\n"
          ],
          "name": "stderr"
        },
        {
          "output_type": "display_data",
          "data": {
            "image/png": "[encoded data removed]",
            "text/plain": [
              "<Figure size 432x288 with 1 Axes>"
            ]
          },
          "metadata": {
            "tags": [],
            "needs_background": "light"
          }
        }
      ]
    },
    {
      "cell_type": "markdown",
      "metadata": {
        "id": "SgM7FuvPDEn8"
      },
      "source": [
        "Check with PCA module"
      ]
    },
    {
      "cell_type": "code",
      "metadata": {
        "colab": {
          "base_uri": "https://localhost:8080/",
          "height": 279
        },
        "id": "kLynh-DpCbse",
        "outputId": "4f727deb-6fa6-46c4-c89c-99cb41feae41"
      },
      "source": [
        "pca = PCA().fit(X_train)\r\n",
        "plt.plot(pca.explained_variance_ratio_)\r\n",
        "plt.xlabel('number of components')\r\n",
        "plt.grid()\r\n",
        "plt.ylabel(\"explained_variances\")\r\n",
        "plt.xticks(range(13), range(1, 14))\r\n",
        "plt.show()"
      ],
      "execution_count": 100,
      "outputs": [
        {
          "output_type": "display_data",
          "data": {
            "image/png": "[encoded data removed]",
            "text/plain": [
              "<Figure size 432x288 with 1 Axes>"
            ]
          },
          "metadata": {
            "tags": [],
            "needs_background": "light"
          }
        }
      ]
    },
    {
      "cell_type": "markdown",
      "metadata": {
        "id": "Zziok6MDGFpF"
      },
      "source": [
        "### 2.6 "
      ]
    },
    {
      "cell_type": "markdown",
      "metadata": {
        "id": "eS-9VLMqGPwA"
      },
      "source": [
        "Based on plot above k was set to 4. There is no significant diffrence between explained variances for 4 and 5 \r\n"
      ]
    },
    {
      "cell_type": "code",
      "metadata": {
        "id": "-lb6hYStC-v6"
      },
      "source": [
        "k=4"
      ],
      "execution_count": 104,
      "outputs": []
    },
    {
      "cell_type": "code",
      "metadata": {
        "colab": {
          "base_uri": "https://localhost:8080/"
        },
        "id": "FsmlNOReGYWb",
        "outputId": "a7320dd1-1329-4115-fcd8-7f66a603ed1b"
      },
      "source": [
        "v_sorted[:k]"
      ],
      "execution_count": 112,
      "outputs": [
        {
          "output_type": "execute_result",
          "data": {
            "text/plain": [
              "[array([ 0.07090541+0.j        , -0.02045464+0.j        ,\n",
              "         0.00479487+0.j        , -0.06996347+0.j        ,\n",
              "         0.04634359+0.j        ,  0.10534902+0.j        ,\n",
              "        -0.05243251+0.j        ,  0.19412384+0.j        ,\n",
              "        -0.06240346+0.j        ,  0.05710851+0.j        ,\n",
              "         0.01188967+0.j        ,  0.00198655+0.j        ,\n",
              "         0.09921468+0.j        ,  0.00496073-0.05978643j,\n",
              "         0.00496073+0.05978643j, -0.06770671+0.03391356j,\n",
              "        -0.06770671-0.03391356j,  0.10370667+0.j        ,\n",
              "        -0.00656105-0.05083117j, -0.00656105+0.05083117j,\n",
              "         0.02411434+0.00657628j,  0.02411434-0.00657628j,\n",
              "         0.02436231+0.00227584j,  0.02436231-0.00227584j,\n",
              "         0.07933946-0.05950739j,  0.07933946+0.05950739j,\n",
              "         0.12986301+0.j        , -0.0304229 +0.06539493j,\n",
              "        -0.0304229 -0.06539493j,  0.06348451-0.0132709j ,\n",
              "         0.06348451+0.0132709j ,  0.0768047 +0.j        ,\n",
              "        -0.0566415 +0.0041881j , -0.0566415 -0.0041881j ,\n",
              "        -0.03936674+0.06605891j, -0.03936674-0.06605891j,\n",
              "        -0.05136199+0.j        ,  0.07816965+0.01716738j,\n",
              "         0.07816965-0.01716738j,  0.04633161+0.02698937j,\n",
              "         0.04633161-0.02698937j, -0.03073416+0.02262268j,\n",
              "        -0.03073416-0.02262268j,  0.1102994 -0.09149287j,\n",
              "         0.1102994 +0.09149287j,  0.04543548+0.j        ,\n",
              "         0.02167512-0.04715827j,  0.02167512+0.04715827j,\n",
              "         0.00244185+0.j        ,  0.03302078+0.0252116j ,\n",
              "         0.03302078-0.0252116j ,  0.02984588-0.03383231j,\n",
              "         0.02984588+0.03383231j,  0.04588837+0.06057263j,\n",
              "         0.04588837-0.06057263j, -0.01168195-0.05090656j,\n",
              "        -0.01168195+0.05090656j,  0.16835761+0.j        ,\n",
              "         0.00734782+0.j        ,  0.06548276-0.0048798j ,\n",
              "         0.06548276+0.0048798j , -0.04432816-0.00897641j,\n",
              "        -0.04432816+0.00897641j, -0.0319992 +0.03029464j,\n",
              "        -0.0319992 -0.03029464j,  0.06531901+0.j        ,\n",
              "         0.05498602-0.04532018j,  0.05498602+0.04532018j,\n",
              "        -0.01712114+0.02279961j, -0.01712114-0.02279961j,\n",
              "         0.05858594+0.j        ,  0.00866971+0.01256858j,\n",
              "         0.00866971-0.01256858j, -0.04570416+0.00614622j,\n",
              "        -0.04570416-0.00614622j,  0.0153635 -0.04286338j,\n",
              "         0.0153635 +0.04286338j,  0.08684116+0.02040018j,\n",
              "         0.08684116-0.02040018j, -0.08388575+0.0104419j ,\n",
              "        -0.08388575-0.0104419j , -0.11393374+0.j        ,\n",
              "        -0.00364122+0.04347419j, -0.00364122-0.04347419j,\n",
              "        -0.0928832 -0.08943706j, -0.0928832 +0.08943706j,\n",
              "         0.08503184-0.06616882j,  0.08503184+0.06616882j,\n",
              "        -0.06716027-0.01738736j, -0.06716027+0.01738736j,\n",
              "        -0.09618984-0.0294727j , -0.09618984+0.0294727j ,\n",
              "         0.01991994-0.02024785j,  0.01991994+0.02024785j,\n",
              "        -0.06434407+0.j        ,  0.06414769-0.01614755j,\n",
              "         0.06414769+0.01614755j,  0.00769587-0.05570618j,\n",
              "         0.00769587+0.05570618j,  0.04006122+0.04626877j,\n",
              "         0.04006122-0.04626877j, -0.03136745-0.03589245j,\n",
              "        -0.03136745+0.03589245j, -0.09006223+0.j        ,\n",
              "         0.09095169+0.j        , -0.10425583+0.02922086j,\n",
              "        -0.10425583-0.02922086j,  0.01088849-0.02703102j,\n",
              "         0.01088849+0.02703102j, -0.07629933+0.01003183j,\n",
              "        -0.07629933-0.01003183j, -0.00754969-0.02730002j,\n",
              "        -0.00754969+0.02730002j, -0.09995926-0.04963787j,\n",
              "        -0.09995926+0.04963787j, -0.14030263-0.00249262j,\n",
              "        -0.14030263+0.00249262j,  0.00539283+0.07787904j,\n",
              "         0.00539283-0.07787904j, -0.12396588+0.j        ,\n",
              "        -0.02997143-0.00734281j, -0.02997143+0.00734281j,\n",
              "         0.0216753 +0.04578441j,  0.0216753 -0.04578441j,\n",
              "        -0.11736866+0.0048226j , -0.11736866-0.0048226j ,\n",
              "         0.02661068+0.00954357j,  0.02661068-0.00954357j,\n",
              "        -0.04047843+0.00547313j, -0.04047843-0.00547313j,\n",
              "        -0.02945503-0.01609848j, -0.02945503+0.01609848j,\n",
              "        -0.04759842+0.j        ]),\n",
              " array([ 0.07274976+0.j        ,  0.04993852+0.j        ,\n",
              "        -0.05950305+0.j        ,  0.0239813 +0.j        ,\n",
              "        -0.15663321+0.j        , -0.10419807+0.j        ,\n",
              "         0.08307976+0.j        , -0.10529343+0.j        ,\n",
              "        -0.13747208+0.j        ,  0.07161048+0.j        ,\n",
              "         0.01504966+0.j        , -0.08194153+0.j        ,\n",
              "        -0.14690287+0.j        , -0.00648623-0.05340554j,\n",
              "        -0.00648623+0.05340554j,  0.02205179-0.01094931j,\n",
              "         0.02205179+0.01094931j, -0.02111171+0.j        ,\n",
              "        -0.03900615-0.03211492j, -0.03900615+0.03211492j,\n",
              "        -0.00826658-0.02058569j, -0.00826658+0.02058569j,\n",
              "        -0.00418753+0.04457808j, -0.00418753-0.04457808j,\n",
              "         0.02422785-0.04081829j,  0.02422785+0.04081829j,\n",
              "        -0.00360275+0.j        , -0.01027497+0.00528668j,\n",
              "        -0.01027497-0.00528668j,  0.00316573+0.01421425j,\n",
              "         0.00316573-0.01421425j,  0.00784486+0.j        ,\n",
              "        -0.01715827-0.02048686j, -0.01715827+0.02048686j,\n",
              "        -0.01411065+0.04431059j, -0.01411065-0.04431059j,\n",
              "         0.0006176 +0.j        ,  0.03503844-0.0273416j ,\n",
              "         0.03503844+0.0273416j ,  0.01912139+0.0214832j ,\n",
              "         0.01912139-0.0214832j , -0.00696557+0.01192498j,\n",
              "        -0.00696557-0.01192498j,  0.03029852-0.02329711j,\n",
              "         0.03029852+0.02329711j,  0.02037937+0.j        ,\n",
              "         0.01277774+0.00816668j,  0.01277774-0.00816668j,\n",
              "        -0.01267102+0.j        , -0.01116165-0.00270466j,\n",
              "        -0.01116165+0.00270466j,  0.00049704-0.00707708j,\n",
              "         0.00049704+0.00707708j,  0.03479405+0.00737486j,\n",
              "         0.03479405-0.00737486j, -0.02944769-0.02540342j,\n",
              "        -0.02944769+0.02540342j,  0.02940141+0.j        ,\n",
              "         0.02149723+0.j        ,  0.0234395 +0.00486329j,\n",
              "         0.0234395 -0.00486329j, -0.01474881+0.02164059j,\n",
              "        -0.01474881-0.02164059j, -0.01359298-0.01116325j,\n",
              "        -0.01359298+0.01116325j,  0.02549714+0.j        ,\n",
              "         0.02646012-0.0078544j ,  0.02646012+0.0078544j ,\n",
              "        -0.01471093-0.00224643j, -0.01471093+0.00224643j,\n",
              "         0.02887949+0.j        , -0.00953172+0.0056843j ,\n",
              "        -0.00953172-0.0056843j , -0.0097032 -0.00507288j,\n",
              "        -0.0097032 +0.00507288j,  0.0187747 -0.01814117j,\n",
              "         0.0187747 +0.01814117j,  0.01383503+0.01350633j,\n",
              "         0.01383503-0.01350633j, -0.01824549-0.00885971j,\n",
              "        -0.01824549+0.00885971j, -0.00756402+0.j        ,\n",
              "         0.01291238+0.0006216j ,  0.01291238-0.0006216j ,\n",
              "        -0.02452288-0.01483616j, -0.02452288+0.01483616j,\n",
              "         0.01462675-0.01804024j,  0.01462675+0.01804024j,\n",
              "        -0.00945757+0.00936996j, -0.00945757-0.00936996j,\n",
              "        -0.01284989-0.00573128j, -0.01284989+0.00573128j,\n",
              "        -0.00920477-0.01248044j, -0.00920477+0.01248044j,\n",
              "        -0.03447001+0.j        ,  0.01031345-0.01117801j,\n",
              "         0.01031345+0.01117801j, -0.00102165-0.01932548j,\n",
              "        -0.00102165+0.01932548j,  0.01394038+0.02739034j,\n",
              "         0.01394038-0.02739034j, -0.01663913-0.02178409j,\n",
              "        -0.01663913+0.02178409j,  0.00164804+0.j        ,\n",
              "        -0.00219938+0.j        , -0.02454298+0.02135055j,\n",
              "        -0.02454298-0.02135055j, -0.00306032-0.00502424j,\n",
              "        -0.00306032+0.00502424j, -0.03354625-0.00638347j,\n",
              "        -0.03354625+0.00638347j, -0.00607663-0.00146351j,\n",
              "        -0.00607663+0.00146351j, -0.00523291-0.02045716j,\n",
              "        -0.00523291+0.02045716j, -0.02234743-0.0018173j ,\n",
              "        -0.02234743+0.0018173j ,  0.01476216+0.00942325j,\n",
              "         0.01476216-0.00942325j, -0.03935299+0.j        ,\n",
              "        -0.00348797-0.00432816j, -0.00348797+0.00432816j,\n",
              "         0.0101376 +0.00467629j,  0.0101376 -0.00467629j,\n",
              "        -0.0241162 -0.00983682j, -0.0241162 +0.00983682j,\n",
              "         0.01073326+0.00617751j,  0.01073326-0.00617751j,\n",
              "        -0.00830591-0.0027025j , -0.00830591+0.0027025j ,\n",
              "        -0.00194049-0.0032744j , -0.00194049+0.0032744j ,\n",
              "        -0.01828956+0.j        ]),\n",
              " array([-0.0648994 +0.j        ,  0.15708905+0.j        ,\n",
              "         0.0436644 +0.j        , -0.12879487+0.j        ,\n",
              "         0.04170898+0.j        , -0.11622741+0.j        ,\n",
              "        -0.07529021+0.j        ,  0.05335993+0.j        ,\n",
              "         0.04667966+0.j        , -0.0679372 +0.j        ,\n",
              "        -0.03192051+0.j        , -0.03668902+0.j        ,\n",
              "         0.04321859+0.j        ,  0.17630441-0.04236348j,\n",
              "         0.17630441+0.04236348j, -0.00454987-0.0053399j ,\n",
              "        -0.00454987+0.0053399j ,  0.03104268+0.j        ,\n",
              "         0.0133558 +0.02122103j,  0.0133558 -0.02122103j,\n",
              "         0.05174093+0.01883353j,  0.05174093-0.01883353j,\n",
              "         0.07634603-0.04260433j,  0.07634603+0.04260433j,\n",
              "         0.06287292+0.00522425j,  0.06287292-0.00522425j,\n",
              "         0.00171057+0.j        , -0.03417317-0.05907139j,\n",
              "        -0.03417317+0.05907139j, -0.00707831-0.05787311j,\n",
              "        -0.00707831+0.05787311j, -0.04420011+0.j        ,\n",
              "         0.0027137 +0.06592808j,  0.0027137 -0.06592808j,\n",
              "        -0.02234113+0.07585422j, -0.02234113-0.07585422j,\n",
              "        -0.07917012+0.j        ,  0.02986048-0.0795692j ,\n",
              "         0.02986048+0.0795692j ,  0.01968359-0.08568138j,\n",
              "         0.01968359+0.08568138j, -0.02047241+0.01611741j,\n",
              "        -0.02047241-0.01611741j,  0.07155484-0.02067056j,\n",
              "         0.07155484+0.02067056j,  0.02273533+0.j        ,\n",
              "        -0.0376583 +0.01511735j, -0.0376583 -0.01511735j,\n",
              "         0.01452344+0.j        ,  0.04416524-0.03844042j,\n",
              "         0.04416524+0.03844042j, -0.02333746-0.02825899j,\n",
              "        -0.02333746+0.02825899j,  0.0158643 +0.0494869j ,\n",
              "         0.0158643 -0.0494869j ,  0.02671207-0.04891346j,\n",
              "         0.02671207+0.04891346j,  0.09344643+0.j        ,\n",
              "        -0.00161234+0.j        ,  0.02325011+0.00238619j,\n",
              "         0.02325011-0.00238619j, -0.03294481+0.00089717j,\n",
              "        -0.03294481-0.00089717j, -0.00231552+0.02908137j,\n",
              "        -0.00231552-0.02908137j,  0.02549297+0.j        ,\n",
              "         0.01594625+0.00529687j,  0.01594625-0.00529687j,\n",
              "         0.02004255-0.03677067j,  0.02004255+0.03677067j,\n",
              "        -0.0032166 +0.j        , -0.03123015+0.06371422j,\n",
              "        -0.03123015-0.06371422j,  0.02029139+0.04050848j,\n",
              "         0.02029139-0.04050848j, -0.03832472-0.05631088j,\n",
              "        -0.03832472+0.05631088j,  0.04482046+0.03004605j,\n",
              "         0.04482046-0.03004605j, -0.02414546+0.06904364j,\n",
              "        -0.02414546-0.06904364j, -0.00706327+0.j        ,\n",
              "         0.02791258+0.0319379j ,  0.02791258-0.0319379j ,\n",
              "        -0.06467056+0.01445277j, -0.06467056-0.01445277j,\n",
              "         0.02544357+0.00546796j,  0.02544357-0.00546796j,\n",
              "         0.01371453-0.05100305j,  0.01371453+0.05100305j,\n",
              "        -0.00661849-0.01782993j, -0.00661849+0.01782993j,\n",
              "        -0.04535644-0.01287817j, -0.04535644+0.01287817j,\n",
              "         0.00625548+0.j        ,  0.01947276+0.06770202j,\n",
              "         0.01947276-0.06770202j,  0.01304433-0.07102641j,\n",
              "         0.01304433+0.07102641j, -0.03263066+0.00986161j,\n",
              "        -0.03263066-0.00986161j,  0.01567394+0.03017761j,\n",
              "         0.01567394-0.03017761j, -0.09144735+0.j        ,\n",
              "         0.09195699+0.j        , -0.04063976+0.05794901j,\n",
              "        -0.04063976-0.05794901j,  0.00401413+0.00293753j,\n",
              "         0.00401413-0.00293753j,  0.02090942+0.00328312j,\n",
              "         0.02090942-0.00328312j,  0.00676708+0.03695372j,\n",
              "         0.00676708-0.03695372j, -0.04024784+0.03408553j,\n",
              "        -0.04024784-0.03408553j, -0.00810795-0.00710131j,\n",
              "        -0.00810795+0.00710131j,  0.02307686+0.01266449j,\n",
              "         0.02307686-0.01266449j,  0.02538785+0.j        ,\n",
              "        -0.05261814+0.0251539j , -0.05261814-0.0251539j ,\n",
              "        -0.05864725+0.00023545j, -0.05864725-0.00023545j,\n",
              "         0.01262656+0.03971866j,  0.01262656-0.03971866j,\n",
              "        -0.01068935-0.01236934j, -0.01068935+0.01236934j,\n",
              "         0.00229987+0.03262498j,  0.00229987-0.03262498j,\n",
              "        -0.06382928+0.00046487j, -0.06382928-0.00046487j,\n",
              "         0.00584975+0.j        ]),\n",
              " array([-0.09548824+0.j        , -0.05706215+0.j        ,\n",
              "         0.02323402+0.j        ,  0.04871965+0.j        ,\n",
              "        -0.10723954+0.j        ,  0.20134281+0.j        ,\n",
              "         0.04234777+0.j        , -0.04851997+0.j        ,\n",
              "        -0.0461051 +0.j        , -0.12645577+0.j        ,\n",
              "         0.02353684+0.j        ,  0.016163  +0.j        ,\n",
              "        -0.02929384+0.j        , -0.02317519-0.13632379j,\n",
              "        -0.02317519+0.13632379j, -0.0632416 +0.01481076j,\n",
              "        -0.0632416 -0.01481076j, -0.12773482+0.j        ,\n",
              "        -0.15045428-0.00721661j, -0.15045428+0.00721661j,\n",
              "         0.0656229 +0.00464935j,  0.0656229 -0.00464935j,\n",
              "         0.02446435+0.01172811j,  0.02446435-0.01172811j,\n",
              "        -0.01589916+0.05939192j, -0.01589916-0.05939192j,\n",
              "        -0.05182024+0.j        , -0.0971536 +0.03102539j,\n",
              "        -0.0971536 -0.03102539j,  0.00038235+0.04305268j,\n",
              "         0.00038235-0.04305268j, -0.01823945+0.j        ,\n",
              "         0.06261792+0.06425957j,  0.06261792-0.06425957j,\n",
              "        -0.04768782-0.03380182j, -0.04768782+0.03380182j,\n",
              "         0.10590063+0.j        ,  0.05475473+0.00833649j,\n",
              "         0.05475473-0.00833649j, -0.04060082+0.0298625j ,\n",
              "        -0.04060082-0.0298625j , -0.03577247-0.02008629j,\n",
              "        -0.03577247+0.02008629j, -0.07096021-0.03439633j,\n",
              "        -0.07096021+0.03439633j, -0.07193087+0.j        ,\n",
              "         0.03050015+0.0689792j ,  0.03050015-0.0689792j ,\n",
              "         0.06295489+0.j        ,  0.01058449-0.00840644j,\n",
              "         0.01058449+0.00840644j,  0.01897231+0.01074462j,\n",
              "         0.01897231-0.01074462j,  0.00102517-0.03064279j,\n",
              "         0.00102517+0.03064279j, -0.00428722+0.0065717j ,\n",
              "        -0.00428722-0.0065717j , -0.04127944+0.j        ,\n",
              "        -0.0542067 +0.j        , -0.01153519+0.02672404j,\n",
              "        -0.01153519-0.02672404j,  0.0055336 +0.02978789j,\n",
              "         0.0055336 -0.02978789j, -0.02125932-0.00234839j,\n",
              "        -0.02125932+0.00234839j, -0.02394735+0.j        ,\n",
              "        -0.02018911+0.04876455j, -0.02018911-0.04876455j,\n",
              "         0.00137252-0.03791644j,  0.00137252+0.03791644j,\n",
              "        -0.00118698+0.j        , -0.04450691-0.02760039j,\n",
              "        -0.04450691+0.02760039j, -0.03400188-0.02416199j,\n",
              "        -0.03400188+0.02416199j,  0.03246536+0.00838405j,\n",
              "         0.03246536-0.00838405j,  0.00623975-0.00569228j,\n",
              "         0.00623975+0.00569228j,  0.00952187-0.01610841j,\n",
              "         0.00952187+0.01610841j, -0.03552783+0.j        ,\n",
              "         0.03394867+0.01202438j,  0.03394867-0.01202438j,\n",
              "        -0.00674457+0.00658061j, -0.00674457-0.00658061j,\n",
              "         0.05083356+0.00788913j,  0.05083356-0.00788913j,\n",
              "         0.00236825+0.01637867j,  0.00236825-0.01637867j,\n",
              "         0.03559774+0.01548263j,  0.03559774-0.01548263j,\n",
              "        -0.00101883-0.03668727j, -0.00101883+0.03668727j,\n",
              "        -0.01487505+0.j        , -0.00528632-0.00654457j,\n",
              "        -0.00528632+0.00654457j,  0.00117318+0.0044049j ,\n",
              "         0.00117318-0.0044049j , -0.01656452-0.00654425j,\n",
              "        -0.01656452+0.00654425j,  0.00500727+0.01797247j,\n",
              "         0.00500727-0.01797247j,  0.00030221+0.j        ,\n",
              "        -0.00086038+0.j        , -0.00217968+0.00495408j,\n",
              "        -0.00217968-0.00495408j, -0.02276181+0.01503549j,\n",
              "        -0.02276181-0.01503549j, -0.01772517+0.00264853j,\n",
              "        -0.01772517-0.00264853j,  0.01028567+0.0084107j ,\n",
              "         0.01028567-0.0084107j ,  0.02799613-0.02449184j,\n",
              "         0.02799613+0.02449184j,  0.01244693-0.00917825j,\n",
              "         0.01244693+0.00917825j,  0.03301773-0.00787623j,\n",
              "         0.03301773+0.00787623j, -0.00876767+0.j        ,\n",
              "         0.02523032+0.00132411j,  0.02523032-0.00132411j,\n",
              "         0.01771814-0.00905508j,  0.01771814+0.00905508j,\n",
              "        -0.00944271+0.00416447j, -0.00944271-0.00416447j,\n",
              "         0.02026333+0.01878991j,  0.02026333-0.01878991j,\n",
              "        -0.01489479-0.00079395j, -0.01489479+0.00079395j,\n",
              "         0.02083309-0.00309701j,  0.02083309+0.00309701j,\n",
              "        -0.03229716+0.j        ])]"
            ]
          },
          "metadata": {
            "tags": []
          },
          "execution_count": 112
        }
      ]
    },
    {
      "cell_type": "code",
      "metadata": {
        "id": "sRgHyLhxGdcD"
      },
      "source": [
        ""
      ],
      "execution_count": null,
      "outputs": []
    }
  ]
}