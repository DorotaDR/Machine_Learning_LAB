{
  "nbformat": 4,
  "nbformat_minor": 0,
  "metadata": {
    "colab": {
      "name": "LAB6-Regularization.ipynb",
      "provenance": [],
      "collapsed_sections": []
    },
    "kernelspec": {
      "name": "python3",
      "display_name": "Python 3"
    }
  },
  "cells": [
    {
      "cell_type": "markdown",
      "metadata": {
        "id": "_eTskYbToWof"
      },
      "source": [
        "# LAB 6 Overfitting - regularization"
      ]
    },
    {
      "cell_type": "code",
      "metadata": {
        "id": "FAHdzTOSoRWh"
      },
      "source": [
        "import sklearn\n",
        "from sklearn.datasets import load_boston\n",
        "boston = load_boston() "
      ],
      "execution_count": 1,
      "outputs": []
    },
    {
      "cell_type": "code",
      "metadata": {
        "colab": {
          "base_uri": "https://localhost:8080/"
        },
        "id": "hSCcdyGvo9uH",
        "outputId": "a2a877d2-c213-47f3-a270-74a28f4b5835"
      },
      "source": [
        "print(boston.keys())\n",
        "print(boston.data.shape)"
      ],
      "execution_count": 2,
      "outputs": [
        {
          "output_type": "stream",
          "text": [
            "dict_keys(['data', 'target', 'feature_names', 'DESCR', 'filename'])\n",
            "(506, 13)\n"
          ],
          "name": "stdout"
        }
      ]
    },
    {
      "cell_type": "code",
      "metadata": {
        "colab": {
          "base_uri": "https://localhost:8080/"
        },
        "id": "xzDfb3n7pB59",
        "outputId": "901a917a-d40b-41b4-a15a-4d055816a678"
      },
      "source": [
        "print(boston.DESCR)\n"
      ],
      "execution_count": 3,
      "outputs": [
        {
          "output_type": "stream",
          "text": [
            ".. _boston_dataset:\n",
            "\n",
            "Boston house prices dataset\n",
            "---------------------------\n",
            "\n",
            "**Data Set Characteristics:**  \n",
            "\n",
            "    :Number of Instances: 506 \n",
            "\n",
            "    :Number of Attributes: 13 numeric/categorical predictive. Median Value (attribute 14) is usually the target.\n",
            "\n",
            "    :Attribute Information (in order):\n",
            "        - CRIM     per capita crime rate by town\n",
            "        - ZN       proportion of residential land zoned for lots over 25,000 sq.ft.\n",
            "        - INDUS    proportion of non-retail business acres per town\n",
            "        - CHAS     Charles River dummy variable (= 1 if tract bounds river; 0 otherwise)\n",
            "        - NOX      nitric oxides concentration (parts per 10 million)\n",
            "        - RM       average number of rooms per dwelling\n",
            "        - AGE      proportion of owner-occupied units built prior to 1940\n",
            "        - DIS      weighted distances to five Boston employment centres\n",
            "        - RAD      index of accessibility to radial highways\n",
            "        - TAX      full-value property-tax rate per $10,000\n",
            "        - PTRATIO  pupil-teacher ratio by town\n",
            "        - B        1000(Bk - 0.63)^2 where Bk is the proportion of blacks by town\n",
            "        - LSTAT    % lower status of the population\n",
            "        - MEDV     Median value of owner-occupied homes in $1000's\n",
            "\n",
            "    :Missing Attribute Values: None\n",
            "\n",
            "    :Creator: Harrison, D. and Rubinfeld, D.L.\n",
            "\n",
            "This is a copy of UCI ML housing dataset.\n",
            "https://archive.ics.uci.edu/ml/machine-learning-databases/housing/\n",
            "\n",
            "\n",
            "This dataset was taken from the StatLib library which is maintained at Carnegie Mellon University.\n",
            "\n",
            "The Boston house-price data of Harrison, D. and Rubinfeld, D.L. 'Hedonic\n",
            "prices and the demand for clean air', J. Environ. Economics & Management,\n",
            "vol.5, 81-102, 1978.   Used in Belsley, Kuh & Welsch, 'Regression diagnostics\n",
            "...', Wiley, 1980.   N.B. Various transformations are used in the table on\n",
            "pages 244-261 of the latter.\n",
            "\n",
            "The Boston house-price data has been used in many machine learning papers that address regression\n",
            "problems.   \n",
            "     \n",
            ".. topic:: References\n",
            "\n",
            "   - Belsley, Kuh & Welsch, 'Regression diagnostics: Identifying Influential Data and Sources of Collinearity', Wiley, 1980. 244-261.\n",
            "   - Quinlan,R. (1993). Combining Instance-Based and Model-Based Learning. In Proceedings on the Tenth International Conference of Machine Learning, 236-243, University of Massachusetts, Amherst. Morgan Kaufmann.\n",
            "\n"
          ],
          "name": "stdout"
        }
      ]
    },
    {
      "cell_type": "code",
      "metadata": {
        "colab": {
          "base_uri": "https://localhost:8080/"
        },
        "id": "Dcru1vJapDTk",
        "outputId": "5c7d8e62-5552-4205-c58c-d00534e93223"
      },
      "source": [
        "import numpy as np\n",
        "import pandas as pd\n",
        " \n",
        "bos = pd.DataFrame(boston.data)\n",
        "print(bos.head())"
      ],
      "execution_count": 4,
      "outputs": [
        {
          "output_type": "stream",
          "text": [
            "        0     1     2    3      4   ...   8      9     10      11    12\n",
            "0  0.00632  18.0  2.31  0.0  0.538  ...  1.0  296.0  15.3  396.90  4.98\n",
            "1  0.02731   0.0  7.07  0.0  0.469  ...  2.0  242.0  17.8  396.90  9.14\n",
            "2  0.02729   0.0  7.07  0.0  0.469  ...  2.0  242.0  17.8  392.83  4.03\n",
            "3  0.03237   0.0  2.18  0.0  0.458  ...  3.0  222.0  18.7  394.63  2.94\n",
            "4  0.06905   0.0  2.18  0.0  0.458  ...  3.0  222.0  18.7  396.90  5.33\n",
            "\n",
            "[5 rows x 13 columns]\n"
          ],
          "name": "stdout"
        }
      ]
    },
    {
      "cell_type": "markdown",
      "metadata": {
        "id": "WG3OAPwSpOMM"
      },
      "source": [
        "## Ex. 1 Split train-test dataset\n",
        "As there is no column called ‘PRICE’ in the data frame - the target values are available in other attribute called target.\n",
        "\n",
        "The goal of your next implementation is to shuffle the data into a random order when creating the training and testing subsets to remove any bias in the ordering of the dataset.\n",
        "\n",
        "For the code cell below, you will need to implement the following:\n",
        "\n",
        "Use train_test_split from sklearn.model_selection import train_test_split to shuffle and split the features and prices data into training and testing sets (please check version, can work for sklearn.cross_validation).\n",
        "from\n",
        "Split the data into 80% training and 20% testing.\n",
        "Set the random_state for train_test_split to a value of your choice. This ensures results are consistent.\n",
        "Assign the train and testing splits to 'X_train, X_test, y_train, and y_test.\n"
      ]
    },
    {
      "cell_type": "code",
      "metadata": {
        "id": "FX6XGeUwqRmT"
      },
      "source": [
        "# get the data\n",
        "boston_X = boston.data\n",
        "boston_Y = boston.target\n",
        "\n",
        "# #Normalization\n",
        "# boston_X_df = pd.DataFrame(boston_X)\n",
        "# boston_Y_df = pd.DataFrame(boston_Y)\n",
        "\n",
        "# boston_X_df = (boston_X_df - boston_X_df.mean())/boston_X_df.std()\n",
        "# boston_X = boston_X_df.values\n",
        "\n",
        "# boston_Y_df = (boston_Y_df - boston_Y_df.mean())/boston_Y_df.std()\n",
        "# boston_Y = boston_Y_df.values"
      ],
      "execution_count": 5,
      "outputs": []
    },
    {
      "cell_type": "code",
      "metadata": {
        "id": "n55ATjSLpGPZ"
      },
      "source": [
        "from sklearn.model_selection import train_test_split"
      ],
      "execution_count": 6,
      "outputs": []
    },
    {
      "cell_type": "code",
      "metadata": {
        "id": "yk0e3jx-peMj"
      },
      "source": [
        "X_train, X_test, y_train, y_test = train_test_split(boston_X, boston_Y, test_size = 0.2, random_state = 42)"
      ],
      "execution_count": 7,
      "outputs": []
    },
    {
      "cell_type": "code",
      "metadata": {
        "colab": {
          "base_uri": "https://localhost:8080/"
        },
        "id": "-oe2p2lPqBJ6",
        "outputId": "0ac9b358-5b22-409c-98b2-a8daa7655f9e"
      },
      "source": [
        "print(boston_X.shape[0])\n",
        "print(float(X_train.shape[0]) / float(boston_X.shape[0]))\n",
        "print(float(X_test.shape[0]) / float(boston_X.shape[0]))"
      ],
      "execution_count": 8,
      "outputs": [
        {
          "output_type": "stream",
          "text": [
            "506\n",
            "0.7984189723320159\n",
            "0.2015810276679842\n"
          ],
          "name": "stdout"
        }
      ]
    },
    {
      "cell_type": "markdown",
      "metadata": {
        "id": "7LBA76Gxrscl"
      },
      "source": [
        "## Ex. 2 Linear Regression"
      ]
    },
    {
      "cell_type": "code",
      "metadata": {
        "id": "h2hU6agrqCVa"
      },
      "source": [
        "from sklearn.linear_model import LinearRegression\n",
        "import matplotlib.pyplot as plt\n"
      ],
      "execution_count": 9,
      "outputs": []
    },
    {
      "cell_type": "code",
      "metadata": {
        "colab": {
          "base_uri": "https://localhost:8080/"
        },
        "id": "s_SdLOdDrxCg",
        "outputId": "7d10a4cf-975f-4f16-8167-2e85bb08f536"
      },
      "source": [
        "lr_model = LinearRegression()\n",
        "\n",
        "lr_model.fit(X_train, y_train)"
      ],
      "execution_count": 10,
      "outputs": [
        {
          "output_type": "execute_result",
          "data": {
            "text/plain": [
              "LinearRegression(copy_X=True, fit_intercept=True, n_jobs=None, normalize=False)"
            ]
          },
          "metadata": {
            "tags": []
          },
          "execution_count": 10
        }
      ]
    },
    {
      "cell_type": "code",
      "metadata": {
        "colab": {
          "base_uri": "https://localhost:8080/"
        },
        "id": "umRfqwlur7ld",
        "outputId": "b0af43a8-3038-4192-997a-7aa08eb32952"
      },
      "source": [
        "y_pred = lr_model.predict(X_test)\n",
        "print(y_pred[:5])"
      ],
      "execution_count": 11,
      "outputs": [
        {
          "output_type": "stream",
          "text": [
            "[28.99672362 36.02556534 14.81694405 25.03197915 18.76987992]\n"
          ],
          "name": "stdout"
        }
      ]
    },
    {
      "cell_type": "code",
      "metadata": {
        "colab": {
          "base_uri": "https://localhost:8080/",
          "height": 322
        },
        "id": "JbQLWOO6sCqs",
        "outputId": "7b6020f2-b302-495c-8d2d-d7b7692286b2"
      },
      "source": [
        "plt.scatter(y_test, y_pred)\n",
        "plt.xlabel(\"Prices: $Y_i$\")\n",
        "plt.ylabel(\"Predicted prices: $\\hat{Y}_i$\")\n",
        "plt.title(\"Prices vs Predicted prices: $Y_i$ vs $\\hat{Y}_i$\")"
      ],
      "execution_count": 12,
      "outputs": [
        {
          "output_type": "execute_result",
          "data": {
            "text/plain": [
              "Text(0.5, 1.0, 'Prices vs Predicted prices: $Y_i$ vs $\\\\hat{Y}_i$')"
            ]
          },
          "metadata": {
            "tags": []
          },
          "execution_count": 12
        },
        {
          "output_type": "display_data",
          "data": {
            "image/png": "[encoded data removed]",
            "text/plain": [
              "<Figure size 432x288 with 1 Axes>"
            ]
          },
          "metadata": {
            "tags": [],
            "needs_background": "light"
          }
        }
      ]
    },
    {
      "cell_type": "markdown",
      "metadata": {
        "id": "_DxIzs43szA1"
      },
      "source": [
        "*How should an ideal scatter look like?*  \n",
        "- Ideal scatter should look like a linear function y = x. Predicted prices should be equal to real (true) prices.  "
      ]
    },
    {
      "cell_type": "markdown",
      "metadata": {
        "id": "be0aShgJtmun"
      },
      "source": [
        "## Ex. 3: To check the level of error of a model calculate the Mean Squared Error.\n"
      ]
    },
    {
      "cell_type": "code",
      "metadata": {
        "colab": {
          "base_uri": "https://localhost:8080/"
        },
        "id": "QJDeDiZ-sKh0",
        "outputId": "ad6eb383-3a79-49b5-b11f-361a2dd3006c"
      },
      "source": [
        "from sklearn.metrics import  mean_squared_error\n",
        "\n",
        "mse = mean_squared_error(y_test, y_pred)\n",
        "print(f\"Mean Squared Error = {mse}\")"
      ],
      "execution_count": 13,
      "outputs": [
        {
          "output_type": "stream",
          "text": [
            "Mean Squared Error = 24.291119474973616\n"
          ],
          "name": "stdout"
        }
      ]
    },
    {
      "cell_type": "markdown",
      "metadata": {
        "id": "KxP9VDcmuhJB"
      },
      "source": [
        "## Ex. 4: Calculate the model.score. Check what it is for linear problems."
      ]
    },
    {
      "cell_type": "code",
      "metadata": {
        "id": "ktXmN3qzsxrb"
      },
      "source": [
        "from sklearn.preprocessing import StandardScaler\n"
      ],
      "execution_count": 14,
      "outputs": []
    },
    {
      "cell_type": "code",
      "metadata": {
        "id": "Y1VsqR4hvH-V"
      },
      "source": [
        "scaler = StandardScaler()\n",
        "\n",
        "boston_X_scaled = scaler.fit_transform(X = boston_X, y = boston_Y)"
      ],
      "execution_count": 15,
      "outputs": []
    },
    {
      "cell_type": "code",
      "metadata": {
        "id": "5ZGVCGLKv0re"
      },
      "source": [
        "from sklearn.preprocessing import PolynomialFeatures\n",
        " \n",
        "polynomial_features= PolynomialFeatures(degree=2)"
      ],
      "execution_count": 16,
      "outputs": []
    },
    {
      "cell_type": "code",
      "metadata": {
        "id": "XXLIiHRew6Zr"
      },
      "source": [
        "pol_features_X = polynomial_features.fit_transform(boston_X_scaled, boston_Y)\n"
      ],
      "execution_count": 17,
      "outputs": []
    },
    {
      "cell_type": "code",
      "metadata": {
        "colab": {
          "base_uri": "https://localhost:8080/"
        },
        "id": "mluHPDhSxbn_",
        "outputId": "f8c8f1aa-3c0d-4b26-8601-d9592e71cd0b"
      },
      "source": [
        "pol_features_X"
      ],
      "execution_count": 18,
      "outputs": [
        {
          "output_type": "execute_result",
          "data": {
            "text/plain": [
              "array([[ 1.        , -0.41978194,  0.28482986, ...,  0.19452681,\n",
              "        -0.47437883,  1.15683427],\n",
              "       [ 1.        , -0.41733926, -0.48772236, ...,  0.19452681,\n",
              "        -0.21719133,  0.24249653],\n",
              "       [ 1.        , -0.41734159, -0.48772236, ...,  0.15715436,\n",
              "        -0.47917217,  1.46102192],\n",
              "       ...,\n",
              "       [ 1.        , -0.41344658, -0.48772236, ...,  0.19452681,\n",
              "        -0.43357505,  0.9663826 ],\n",
              "       [ 1.        , -0.40776407, -0.48772236, ...,  0.16259032,\n",
              "        -0.34891116,  0.74874691],\n",
              "       [ 1.        , -0.41500016, -0.48772236, ...,  0.19452681,\n",
              "        -0.29508947,  0.44763905]])"
            ]
          },
          "metadata": {
            "tags": []
          },
          "execution_count": 18
        }
      ]
    },
    {
      "cell_type": "code",
      "metadata": {
        "id": "w1GTr_5ZHJr3"
      },
      "source": [
        "pol_features_X_train, pol_features_X_test, pol_features_y_train, pol_features_y_test = train_test_split(pol_features_X, boston_Y, test_size = 0.2, random_state = 42)"
      ],
      "execution_count": 19,
      "outputs": []
    },
    {
      "cell_type": "code",
      "metadata": {
        "id": "Gxb78nRQxlII",
        "colab": {
          "base_uri": "https://localhost:8080/"
        },
        "outputId": "894afa03-f717-4739-a396-ff44f50d0969"
      },
      "source": [
        "lr_model_pol_features = LinearRegression()\n",
        "\n",
        "lr_model_pol_features.fit(pol_features_X_train, pol_features_y_train)"
      ],
      "execution_count": 20,
      "outputs": [
        {
          "output_type": "execute_result",
          "data": {
            "text/plain": [
              "LinearRegression(copy_X=True, fit_intercept=True, n_jobs=None, normalize=False)"
            ]
          },
          "metadata": {
            "tags": []
          },
          "execution_count": 20
        }
      ]
    },
    {
      "cell_type": "code",
      "metadata": {
        "colab": {
          "base_uri": "https://localhost:8080/"
        },
        "id": "V0ErBNrEHlGL",
        "outputId": "797c08f7-ebec-46dc-c3f7-e722cbaf84e6"
      },
      "source": [
        "pol_features_y_pred = lr_model_pol_features.predict(pol_features_X_test)\n",
        "print(pol_features_y_pred[:5])"
      ],
      "execution_count": 21,
      "outputs": [
        {
          "output_type": "stream",
          "text": [
            "[27.02001953 34.87939453 14.37182617 21.01586914 16.33276367]\n"
          ],
          "name": "stdout"
        }
      ]
    },
    {
      "cell_type": "code",
      "metadata": {
        "colab": {
          "base_uri": "https://localhost:8080/",
          "height": 322
        },
        "id": "gWdIBkqRHq6X",
        "outputId": "349860fe-832c-4c0d-c2ac-975fe661a1a4"
      },
      "source": [
        "plt.scatter(pol_features_y_test, pol_features_y_pred)\n",
        "plt.xlabel(\"Prices: $Y_i$\")\n",
        "plt.ylabel(\"Predicted prices: $\\hat{Y}_i$\")\n",
        "plt.title(\"Polynomial FEATIRES USED: Prices vs Predicted prices: $Y_i$ vs $\\hat{Y}_i$\")"
      ],
      "execution_count": 22,
      "outputs": [
        {
          "output_type": "execute_result",
          "data": {
            "text/plain": [
              "Text(0.5, 1.0, 'Polynomial FEATIRES USED: Prices vs Predicted prices: $Y_i$ vs $\\\\hat{Y}_i$')"
            ]
          },
          "metadata": {
            "tags": []
          },
          "execution_count": 22
        },
        {
          "output_type": "display_data",
          "data": {
            "image/png": "[encoded data removed]",
            "text/plain": [
              "<Figure size 432x288 with 1 Axes>"
            ]
          },
          "metadata": {
            "tags": [],
            "needs_background": "light"
          }
        }
      ]
    },
    {
      "cell_type": "code",
      "metadata": {
        "colab": {
          "base_uri": "https://localhost:8080/"
        },
        "id": "q9rR9JPuHtMe",
        "outputId": "16f99d2c-3186-4636-880d-0293c639d8d5"
      },
      "source": [
        "pol_features_mse = mean_squared_error(pol_features_y_test, pol_features_y_pred)\n",
        "print(f\"Mean Squared Error = {pol_features_mse}\")"
      ],
      "execution_count": 23,
      "outputs": [
        {
          "output_type": "stream",
          "text": [
            "Mean Squared Error = 14.259416570242713\n"
          ],
          "name": "stdout"
        }
      ]
    },
    {
      "cell_type": "markdown",
      "metadata": {
        "id": "0g7Vhz7AIM3A"
      },
      "source": [
        "**NOTE:** The MSE has decreased from 24 to 14 after using `StandardScaler` and `PolynomialFeatures`"
      ]
    },
    {
      "cell_type": "markdown",
      "metadata": {
        "id": "zdryo9PGIktN"
      },
      "source": [
        "## Ex. 5: Lasso"
      ]
    },
    {
      "cell_type": "markdown",
      "metadata": {
        "id": "7hrEaU2EIkx6"
      },
      "source": [
        "Lasso Regression:\n",
        "Performs L1 regularization, i.e. adds penalty equivalent to absolute value of the magnitude of coefficients\n",
        "Minimization objective = LS Obj + α * (sum of absolute value of coefficients)\n",
        "\n"
      ]
    },
    {
      "cell_type": "code",
      "metadata": {
        "id": "-seHMb36IIUC"
      },
      "source": [
        "alpha = 1.0 "
      ],
      "execution_count": 24,
      "outputs": []
    },
    {
      "cell_type": "code",
      "metadata": {
        "colab": {
          "base_uri": "https://localhost:8080/"
        },
        "id": "ib44RQvyI7ep",
        "outputId": "472b0da4-f5cb-49b5-e4cd-c249732e0ba5"
      },
      "source": [
        "from sklearn.linear_model import Lasso\n",
        "\n",
        "reg_lasso = Lasso(alpha)\n",
        "reg_lasso.fit(pol_features_X_train, pol_features_y_train)\n",
        "reg_lasso.score(pol_features_X_train, pol_features_y_train)\n"
      ],
      "execution_count": 25,
      "outputs": [
        {
          "output_type": "execute_result",
          "data": {
            "text/plain": [
              "0.7721332716241069"
            ]
          },
          "metadata": {
            "tags": []
          },
          "execution_count": 25
        }
      ]
    },
    {
      "cell_type": "code",
      "metadata": {
        "colab": {
          "base_uri": "https://localhost:8080/"
        },
        "id": "qf23_6RbJ1P-",
        "outputId": "4d0cca0d-27d8-4ca7-bb89-7ff3f1ff75ad"
      },
      "source": [
        "reg_lasso.score(pol_features_X_test, pol_features_y_test)"
      ],
      "execution_count": 26,
      "outputs": [
        {
          "output_type": "execute_result",
          "data": {
            "text/plain": [
              "0.7352137474156291"
            ]
          },
          "metadata": {
            "tags": []
          },
          "execution_count": 26
        }
      ]
    },
    {
      "cell_type": "code",
      "metadata": {
        "id": "H9a5BK2pPjWK"
      },
      "source": [
        "import warnings\n",
        "warnings.filterwarnings('ignore')"
      ],
      "execution_count": 27,
      "outputs": []
    },
    {
      "cell_type": "code",
      "metadata": {
        "colab": {
          "base_uri": "https://localhost:8080/",
          "height": 301
        },
        "id": "Q4_EKNKoK3jL",
        "outputId": "f82a731f-dc30-40f7-8197-a19c57469487"
      },
      "source": [
        "alpha_lin = np.logspace(-3, 3, 200) # alpha from 0.001 to 1000\n",
        "train_scores = []\n",
        "test_scores = []\n",
        "\n",
        "for alpha in alpha_lin:\n",
        "  reg_lasso = Lasso(alpha)\n",
        "  reg_lasso.fit(pol_features_X_train, pol_features_y_train)\n",
        "  train_scores.append(reg_lasso.score(pol_features_X_train, pol_features_y_train))\n",
        "  test_scores.append(reg_lasso.score(pol_features_X_test, pol_features_y_test))\n",
        "plt.scatter(alpha_lin, train_scores, 10)\n",
        "plt.scatter(alpha_lin, test_scores, 10)\n",
        "plt.xlabel(r\"$\\alpha$\")\n",
        "plt.xscale(\"log\")\n",
        "plt.ylabel(\"Score\")\n",
        "plt.ylim((-0.05,1))\n",
        "plt.title(r\"Lasso Regularization: train and test score on the $\\alpha$ parameter\")\n",
        "plt.legend([\"train score\", \"test score\"])\n",
        "plt.grid(True)\n",
        "plt.show()"
      ],
      "execution_count": 28,
      "outputs": [
        {
          "output_type": "display_data",
          "data": {
            "image/png": "[encoded data removed]",
            "text/plain": [
              "<Figure size 432x288 with 1 Axes>"
            ]
          },
          "metadata": {
            "tags": [],
            "needs_background": "light"
          }
        }
      ]
    },
    {
      "cell_type": "markdown",
      "metadata": {
        "id": "a7OIB-kBOAXv"
      },
      "source": [
        "## Ex.6 Ridge"
      ]
    },
    {
      "cell_type": "markdown",
      "metadata": {
        "id": "08Qhyov8OAc0"
      },
      "source": [
        "Ridge Regression:\n",
        "\n",
        "*   Performs L2 regularization, i.e. adds penalty equivalent to square of the magnitude of coefficients\n",
        "*   Minimization objective = LS Obj + α * (sum of square of coefficients)\n",
        "\n"
      ]
    },
    {
      "cell_type": "code",
      "metadata": {
        "colab": {
          "base_uri": "https://localhost:8080/"
        },
        "id": "O8juTzzGMmYx",
        "outputId": "6f962458-bf5a-4e77-eaae-61a0b9ea9dcc"
      },
      "source": [
        "alpha = 1.0\n",
        "from sklearn.linear_model import Ridge\n",
        "\n",
        "reg_ridge = Ridge(alpha)\n",
        "reg_ridge.fit(pol_features_X_train, pol_features_y_train)\n",
        "reg_ridge.score(pol_features_X_train, pol_features_y_train)"
      ],
      "execution_count": 29,
      "outputs": [
        {
          "output_type": "execute_result",
          "data": {
            "text/plain": [
              "0.9378588799762277"
            ]
          },
          "metadata": {
            "tags": []
          },
          "execution_count": 29
        }
      ]
    },
    {
      "cell_type": "code",
      "metadata": {
        "colab": {
          "base_uri": "https://localhost:8080/",
          "height": 301
        },
        "id": "QnDpY33QMvCY",
        "outputId": "4d4a9aeb-1c3b-454f-a15d-eb3804c241dc"
      },
      "source": [
        "alpha_lin = np.logspace(-3, 3, 200) # alpha from 0.001 to 1000\n",
        "train_scores = []\n",
        "test_scores = []\n",
        "\n",
        "for alpha in alpha_lin:\n",
        "  reg_ridge = Ridge(alpha)\n",
        "  reg_ridge.fit(pol_features_X_train, pol_features_y_train)\n",
        "  train_scores.append(reg_ridge.score(pol_features_X_train, pol_features_y_train))\n",
        "  test_scores.append(reg_ridge.score(pol_features_X_test, pol_features_y_test))\n",
        "\n",
        "plt.scatter(alpha_lin, train_scores, 10)\n",
        "plt.scatter(alpha_lin, test_scores, 10)\n",
        "plt.xlabel(r\"$\\alpha$\")\n",
        "plt.xscale(\"log\")\n",
        "plt.ylabel(\"Score\")\n",
        "plt.ylim((-0.05,1))\n",
        "plt.title(r\"Ridge, Regularization: train and test score on the $\\alpha$ parameter\")\n",
        "plt.legend([\"train score\", \"test score\"])\n",
        "plt.grid(True)\n",
        "plt.show()"
      ],
      "execution_count": 30,
      "outputs": [
        {
          "output_type": "display_data",
          "data": {
            "image/png": "[encoded data removed]",
            "text/plain": [
              "<Figure size 432x288 with 1 Axes>"
            ]
          },
          "metadata": {
            "tags": [],
            "needs_background": "light"
          }
        }
      ]
    },
    {
      "cell_type": "markdown",
      "metadata": {
        "id": "FQwpkL6XQBFd"
      },
      "source": [
        "# Regularization for logistic regression\n"
      ]
    },
    {
      "cell_type": "code",
      "metadata": {
        "id": "J1R3j2KlOfJq"
      },
      "source": [
        "from sklearn.datasets import load_breast_cancer\n",
        "data = load_breast_cancer()"
      ],
      "execution_count": 31,
      "outputs": []
    },
    {
      "cell_type": "markdown",
      "metadata": {
        "id": "BqiSwZ6eTCnp"
      },
      "source": [
        "## Ex. 1"
      ]
    },
    {
      "cell_type": "code",
      "metadata": {
        "id": "lfmHX1X3QG2M"
      },
      "source": [
        "data_df =pd.DataFrame(data['data'], columns = data.feature_names)\n",
        "target_df = pd.DataFrame(data['target'])"
      ],
      "execution_count": 32,
      "outputs": []
    },
    {
      "cell_type": "code",
      "metadata": {
        "colab": {
          "base_uri": "https://localhost:8080/",
          "height": 251
        },
        "id": "4ZiZB36WRL88",
        "outputId": "bce5c7b5-3286-4aeb-8c85-202e55293766"
      },
      "source": [
        "data_df.head()"
      ],
      "execution_count": 33,
      "outputs": [
        {
          "output_type": "execute_result",
          "data": {
            "text/html": [
              "<div>\n",
              "<style scoped>\n",
              "    .dataframe tbody tr th:only-of-type {\n",
              "        vertical-align: middle;\n",
              "    }\n",
              "\n",
              "    .dataframe tbody tr th {\n",
              "        vertical-align: top;\n",
              "    }\n",
              "\n",
              "    .dataframe thead th {\n",
              "        text-align: right;\n",
              "    }\n",
              "</style>\n",
              "<table border=\"1\" class=\"dataframe\">\n",
              "  <thead>\n",
              "    <tr style=\"text-align: right;\">\n",
              "      <th></th>\n",
              "      <th>mean radius</th>\n",
              "      <th>mean texture</th>\n",
              "      <th>mean perimeter</th>\n",
              "      <th>mean area</th>\n",
              "      <th>mean smoothness</th>\n",
              "      <th>mean compactness</th>\n",
              "      <th>mean concavity</th>\n",
              "      <th>mean concave points</th>\n",
              "      <th>mean symmetry</th>\n",
              "      <th>mean fractal dimension</th>\n",
              "      <th>radius error</th>\n",
              "      <th>texture error</th>\n",
              "      <th>perimeter error</th>\n",
              "      <th>area error</th>\n",
              "      <th>smoothness error</th>\n",
              "      <th>compactness error</th>\n",
              "      <th>concavity error</th>\n",
              "      <th>concave points error</th>\n",
              "      <th>symmetry error</th>\n",
              "      <th>fractal dimension error</th>\n",
              "      <th>worst radius</th>\n",
              "      <th>worst texture</th>\n",
              "      <th>worst perimeter</th>\n",
              "      <th>worst area</th>\n",
              "      <th>worst smoothness</th>\n",
              "      <th>worst compactness</th>\n",
              "      <th>worst concavity</th>\n",
              "      <th>worst concave points</th>\n",
              "      <th>worst symmetry</th>\n",
              "      <th>worst fractal dimension</th>\n",
              "    </tr>\n",
              "  </thead>\n",
              "  <tbody>\n",
              "    <tr>\n",
              "      <th>0</th>\n",
              "      <td>17.99</td>\n",
              "      <td>10.38</td>\n",
              "      <td>122.80</td>\n",
              "      <td>1001.0</td>\n",
              "      <td>0.11840</td>\n",
              "      <td>0.27760</td>\n",
              "      <td>0.3001</td>\n",
              "      <td>0.14710</td>\n",
              "      <td>0.2419</td>\n",
              "      <td>0.07871</td>\n",
              "      <td>1.0950</td>\n",
              "      <td>0.9053</td>\n",
              "      <td>8.589</td>\n",
              "      <td>153.40</td>\n",
              "      <td>0.006399</td>\n",
              "      <td>0.04904</td>\n",
              "      <td>0.05373</td>\n",
              "      <td>0.01587</td>\n",
              "      <td>0.03003</td>\n",
              "      <td>0.006193</td>\n",
              "      <td>25.38</td>\n",
              "      <td>17.33</td>\n",
              "      <td>184.60</td>\n",
              "      <td>2019.0</td>\n",
              "      <td>0.1622</td>\n",
              "      <td>0.6656</td>\n",
              "      <td>0.7119</td>\n",
              "      <td>0.2654</td>\n",
              "      <td>0.4601</td>\n",
              "      <td>0.11890</td>\n",
              "    </tr>\n",
              "    <tr>\n",
              "      <th>1</th>\n",
              "      <td>20.57</td>\n",
              "      <td>17.77</td>\n",
              "      <td>132.90</td>\n",
              "      <td>1326.0</td>\n",
              "      <td>0.08474</td>\n",
              "      <td>0.07864</td>\n",
              "      <td>0.0869</td>\n",
              "      <td>0.07017</td>\n",
              "      <td>0.1812</td>\n",
              "      <td>0.05667</td>\n",
              "      <td>0.5435</td>\n",
              "      <td>0.7339</td>\n",
              "      <td>3.398</td>\n",
              "      <td>74.08</td>\n",
              "      <td>0.005225</td>\n",
              "      <td>0.01308</td>\n",
              "      <td>0.01860</td>\n",
              "      <td>0.01340</td>\n",
              "      <td>0.01389</td>\n",
              "      <td>0.003532</td>\n",
              "      <td>24.99</td>\n",
              "      <td>23.41</td>\n",
              "      <td>158.80</td>\n",
              "      <td>1956.0</td>\n",
              "      <td>0.1238</td>\n",
              "      <td>0.1866</td>\n",
              "      <td>0.2416</td>\n",
              "      <td>0.1860</td>\n",
              "      <td>0.2750</td>\n",
              "      <td>0.08902</td>\n",
              "    </tr>\n",
              "    <tr>\n",
              "      <th>2</th>\n",
              "      <td>19.69</td>\n",
              "      <td>21.25</td>\n",
              "      <td>130.00</td>\n",
              "      <td>1203.0</td>\n",
              "      <td>0.10960</td>\n",
              "      <td>0.15990</td>\n",
              "      <td>0.1974</td>\n",
              "      <td>0.12790</td>\n",
              "      <td>0.2069</td>\n",
              "      <td>0.05999</td>\n",
              "      <td>0.7456</td>\n",
              "      <td>0.7869</td>\n",
              "      <td>4.585</td>\n",
              "      <td>94.03</td>\n",
              "      <td>0.006150</td>\n",
              "      <td>0.04006</td>\n",
              "      <td>0.03832</td>\n",
              "      <td>0.02058</td>\n",
              "      <td>0.02250</td>\n",
              "      <td>0.004571</td>\n",
              "      <td>23.57</td>\n",
              "      <td>25.53</td>\n",
              "      <td>152.50</td>\n",
              "      <td>1709.0</td>\n",
              "      <td>0.1444</td>\n",
              "      <td>0.4245</td>\n",
              "      <td>0.4504</td>\n",
              "      <td>0.2430</td>\n",
              "      <td>0.3613</td>\n",
              "      <td>0.08758</td>\n",
              "    </tr>\n",
              "    <tr>\n",
              "      <th>3</th>\n",
              "      <td>11.42</td>\n",
              "      <td>20.38</td>\n",
              "      <td>77.58</td>\n",
              "      <td>386.1</td>\n",
              "      <td>0.14250</td>\n",
              "      <td>0.28390</td>\n",
              "      <td>0.2414</td>\n",
              "      <td>0.10520</td>\n",
              "      <td>0.2597</td>\n",
              "      <td>0.09744</td>\n",
              "      <td>0.4956</td>\n",
              "      <td>1.1560</td>\n",
              "      <td>3.445</td>\n",
              "      <td>27.23</td>\n",
              "      <td>0.009110</td>\n",
              "      <td>0.07458</td>\n",
              "      <td>0.05661</td>\n",
              "      <td>0.01867</td>\n",
              "      <td>0.05963</td>\n",
              "      <td>0.009208</td>\n",
              "      <td>14.91</td>\n",
              "      <td>26.50</td>\n",
              "      <td>98.87</td>\n",
              "      <td>567.7</td>\n",
              "      <td>0.2098</td>\n",
              "      <td>0.8663</td>\n",
              "      <td>0.6869</td>\n",
              "      <td>0.2575</td>\n",
              "      <td>0.6638</td>\n",
              "      <td>0.17300</td>\n",
              "    </tr>\n",
              "    <tr>\n",
              "      <th>4</th>\n",
              "      <td>20.29</td>\n",
              "      <td>14.34</td>\n",
              "      <td>135.10</td>\n",
              "      <td>1297.0</td>\n",
              "      <td>0.10030</td>\n",
              "      <td>0.13280</td>\n",
              "      <td>0.1980</td>\n",
              "      <td>0.10430</td>\n",
              "      <td>0.1809</td>\n",
              "      <td>0.05883</td>\n",
              "      <td>0.7572</td>\n",
              "      <td>0.7813</td>\n",
              "      <td>5.438</td>\n",
              "      <td>94.44</td>\n",
              "      <td>0.011490</td>\n",
              "      <td>0.02461</td>\n",
              "      <td>0.05688</td>\n",
              "      <td>0.01885</td>\n",
              "      <td>0.01756</td>\n",
              "      <td>0.005115</td>\n",
              "      <td>22.54</td>\n",
              "      <td>16.67</td>\n",
              "      <td>152.20</td>\n",
              "      <td>1575.0</td>\n",
              "      <td>0.1374</td>\n",
              "      <td>0.2050</td>\n",
              "      <td>0.4000</td>\n",
              "      <td>0.1625</td>\n",
              "      <td>0.2364</td>\n",
              "      <td>0.07678</td>\n",
              "    </tr>\n",
              "  </tbody>\n",
              "</table>\n",
              "</div>"
            ],
            "text/plain": [
              "   mean radius  mean texture  ...  worst symmetry  worst fractal dimension\n",
              "0        17.99         10.38  ...          0.4601                  0.11890\n",
              "1        20.57         17.77  ...          0.2750                  0.08902\n",
              "2        19.69         21.25  ...          0.3613                  0.08758\n",
              "3        11.42         20.38  ...          0.6638                  0.17300\n",
              "4        20.29         14.34  ...          0.2364                  0.07678\n",
              "\n",
              "[5 rows x 30 columns]"
            ]
          },
          "metadata": {
            "tags": []
          },
          "execution_count": 33
        }
      ]
    },
    {
      "cell_type": "code",
      "metadata": {
        "colab": {
          "base_uri": "https://localhost:8080/",
          "height": 341
        },
        "id": "VQeGy0uARPQe",
        "outputId": "fe65b666-67c3-4272-c6a6-5cfba200cede"
      },
      "source": [
        "data_df.describe()"
      ],
      "execution_count": 34,
      "outputs": [
        {
          "output_type": "execute_result",
          "data": {
            "text/html": [
              "<div>\n",
              "<style scoped>\n",
              "    .dataframe tbody tr th:only-of-type {\n",
              "        vertical-align: middle;\n",
              "    }\n",
              "\n",
              "    .dataframe tbody tr th {\n",
              "        vertical-align: top;\n",
              "    }\n",
              "\n",
              "    .dataframe thead th {\n",
              "        text-align: right;\n",
              "    }\n",
              "</style>\n",
              "<table border=\"1\" class=\"dataframe\">\n",
              "  <thead>\n",
              "    <tr style=\"text-align: right;\">\n",
              "      <th></th>\n",
              "      <th>mean radius</th>\n",
              "      <th>mean texture</th>\n",
              "      <th>mean perimeter</th>\n",
              "      <th>mean area</th>\n",
              "      <th>mean smoothness</th>\n",
              "      <th>mean compactness</th>\n",
              "      <th>mean concavity</th>\n",
              "      <th>mean concave points</th>\n",
              "      <th>mean symmetry</th>\n",
              "      <th>mean fractal dimension</th>\n",
              "      <th>radius error</th>\n",
              "      <th>texture error</th>\n",
              "      <th>perimeter error</th>\n",
              "      <th>area error</th>\n",
              "      <th>smoothness error</th>\n",
              "      <th>compactness error</th>\n",
              "      <th>concavity error</th>\n",
              "      <th>concave points error</th>\n",
              "      <th>symmetry error</th>\n",
              "      <th>fractal dimension error</th>\n",
              "      <th>worst radius</th>\n",
              "      <th>worst texture</th>\n",
              "      <th>worst perimeter</th>\n",
              "      <th>worst area</th>\n",
              "      <th>worst smoothness</th>\n",
              "      <th>worst compactness</th>\n",
              "      <th>worst concavity</th>\n",
              "      <th>worst concave points</th>\n",
              "      <th>worst symmetry</th>\n",
              "      <th>worst fractal dimension</th>\n",
              "    </tr>\n",
              "  </thead>\n",
              "  <tbody>\n",
              "    <tr>\n",
              "      <th>count</th>\n",
              "      <td>569.000000</td>\n",
              "      <td>569.000000</td>\n",
              "      <td>569.000000</td>\n",
              "      <td>569.000000</td>\n",
              "      <td>569.000000</td>\n",
              "      <td>569.000000</td>\n",
              "      <td>569.000000</td>\n",
              "      <td>569.000000</td>\n",
              "      <td>569.000000</td>\n",
              "      <td>569.000000</td>\n",
              "      <td>569.000000</td>\n",
              "      <td>569.000000</td>\n",
              "      <td>569.000000</td>\n",
              "      <td>569.000000</td>\n",
              "      <td>569.000000</td>\n",
              "      <td>569.000000</td>\n",
              "      <td>569.000000</td>\n",
              "      <td>569.000000</td>\n",
              "      <td>569.000000</td>\n",
              "      <td>569.000000</td>\n",
              "      <td>569.000000</td>\n",
              "      <td>569.000000</td>\n",
              "      <td>569.000000</td>\n",
              "      <td>569.000000</td>\n",
              "      <td>569.000000</td>\n",
              "      <td>569.000000</td>\n",
              "      <td>569.000000</td>\n",
              "      <td>569.000000</td>\n",
              "      <td>569.000000</td>\n",
              "      <td>569.000000</td>\n",
              "    </tr>\n",
              "    <tr>\n",
              "      <th>mean</th>\n",
              "      <td>14.127292</td>\n",
              "      <td>19.289649</td>\n",
              "      <td>91.969033</td>\n",
              "      <td>654.889104</td>\n",
              "      <td>0.096360</td>\n",
              "      <td>0.104341</td>\n",
              "      <td>0.088799</td>\n",
              "      <td>0.048919</td>\n",
              "      <td>0.181162</td>\n",
              "      <td>0.062798</td>\n",
              "      <td>0.405172</td>\n",
              "      <td>1.216853</td>\n",
              "      <td>2.866059</td>\n",
              "      <td>40.337079</td>\n",
              "      <td>0.007041</td>\n",
              "      <td>0.025478</td>\n",
              "      <td>0.031894</td>\n",
              "      <td>0.011796</td>\n",
              "      <td>0.020542</td>\n",
              "      <td>0.003795</td>\n",
              "      <td>16.269190</td>\n",
              "      <td>25.677223</td>\n",
              "      <td>107.261213</td>\n",
              "      <td>880.583128</td>\n",
              "      <td>0.132369</td>\n",
              "      <td>0.254265</td>\n",
              "      <td>0.272188</td>\n",
              "      <td>0.114606</td>\n",
              "      <td>0.290076</td>\n",
              "      <td>0.083946</td>\n",
              "    </tr>\n",
              "    <tr>\n",
              "      <th>std</th>\n",
              "      <td>3.524049</td>\n",
              "      <td>4.301036</td>\n",
              "      <td>24.298981</td>\n",
              "      <td>351.914129</td>\n",
              "      <td>0.014064</td>\n",
              "      <td>0.052813</td>\n",
              "      <td>0.079720</td>\n",
              "      <td>0.038803</td>\n",
              "      <td>0.027414</td>\n",
              "      <td>0.007060</td>\n",
              "      <td>0.277313</td>\n",
              "      <td>0.551648</td>\n",
              "      <td>2.021855</td>\n",
              "      <td>45.491006</td>\n",
              "      <td>0.003003</td>\n",
              "      <td>0.017908</td>\n",
              "      <td>0.030186</td>\n",
              "      <td>0.006170</td>\n",
              "      <td>0.008266</td>\n",
              "      <td>0.002646</td>\n",
              "      <td>4.833242</td>\n",
              "      <td>6.146258</td>\n",
              "      <td>33.602542</td>\n",
              "      <td>569.356993</td>\n",
              "      <td>0.022832</td>\n",
              "      <td>0.157336</td>\n",
              "      <td>0.208624</td>\n",
              "      <td>0.065732</td>\n",
              "      <td>0.061867</td>\n",
              "      <td>0.018061</td>\n",
              "    </tr>\n",
              "    <tr>\n",
              "      <th>min</th>\n",
              "      <td>6.981000</td>\n",
              "      <td>9.710000</td>\n",
              "      <td>43.790000</td>\n",
              "      <td>143.500000</td>\n",
              "      <td>0.052630</td>\n",
              "      <td>0.019380</td>\n",
              "      <td>0.000000</td>\n",
              "      <td>0.000000</td>\n",
              "      <td>0.106000</td>\n",
              "      <td>0.049960</td>\n",
              "      <td>0.111500</td>\n",
              "      <td>0.360200</td>\n",
              "      <td>0.757000</td>\n",
              "      <td>6.802000</td>\n",
              "      <td>0.001713</td>\n",
              "      <td>0.002252</td>\n",
              "      <td>0.000000</td>\n",
              "      <td>0.000000</td>\n",
              "      <td>0.007882</td>\n",
              "      <td>0.000895</td>\n",
              "      <td>7.930000</td>\n",
              "      <td>12.020000</td>\n",
              "      <td>50.410000</td>\n",
              "      <td>185.200000</td>\n",
              "      <td>0.071170</td>\n",
              "      <td>0.027290</td>\n",
              "      <td>0.000000</td>\n",
              "      <td>0.000000</td>\n",
              "      <td>0.156500</td>\n",
              "      <td>0.055040</td>\n",
              "    </tr>\n",
              "    <tr>\n",
              "      <th>25%</th>\n",
              "      <td>11.700000</td>\n",
              "      <td>16.170000</td>\n",
              "      <td>75.170000</td>\n",
              "      <td>420.300000</td>\n",
              "      <td>0.086370</td>\n",
              "      <td>0.064920</td>\n",
              "      <td>0.029560</td>\n",
              "      <td>0.020310</td>\n",
              "      <td>0.161900</td>\n",
              "      <td>0.057700</td>\n",
              "      <td>0.232400</td>\n",
              "      <td>0.833900</td>\n",
              "      <td>1.606000</td>\n",
              "      <td>17.850000</td>\n",
              "      <td>0.005169</td>\n",
              "      <td>0.013080</td>\n",
              "      <td>0.015090</td>\n",
              "      <td>0.007638</td>\n",
              "      <td>0.015160</td>\n",
              "      <td>0.002248</td>\n",
              "      <td>13.010000</td>\n",
              "      <td>21.080000</td>\n",
              "      <td>84.110000</td>\n",
              "      <td>515.300000</td>\n",
              "      <td>0.116600</td>\n",
              "      <td>0.147200</td>\n",
              "      <td>0.114500</td>\n",
              "      <td>0.064930</td>\n",
              "      <td>0.250400</td>\n",
              "      <td>0.071460</td>\n",
              "    </tr>\n",
              "    <tr>\n",
              "      <th>50%</th>\n",
              "      <td>13.370000</td>\n",
              "      <td>18.840000</td>\n",
              "      <td>86.240000</td>\n",
              "      <td>551.100000</td>\n",
              "      <td>0.095870</td>\n",
              "      <td>0.092630</td>\n",
              "      <td>0.061540</td>\n",
              "      <td>0.033500</td>\n",
              "      <td>0.179200</td>\n",
              "      <td>0.061540</td>\n",
              "      <td>0.324200</td>\n",
              "      <td>1.108000</td>\n",
              "      <td>2.287000</td>\n",
              "      <td>24.530000</td>\n",
              "      <td>0.006380</td>\n",
              "      <td>0.020450</td>\n",
              "      <td>0.025890</td>\n",
              "      <td>0.010930</td>\n",
              "      <td>0.018730</td>\n",
              "      <td>0.003187</td>\n",
              "      <td>14.970000</td>\n",
              "      <td>25.410000</td>\n",
              "      <td>97.660000</td>\n",
              "      <td>686.500000</td>\n",
              "      <td>0.131300</td>\n",
              "      <td>0.211900</td>\n",
              "      <td>0.226700</td>\n",
              "      <td>0.099930</td>\n",
              "      <td>0.282200</td>\n",
              "      <td>0.080040</td>\n",
              "    </tr>\n",
              "    <tr>\n",
              "      <th>75%</th>\n",
              "      <td>15.780000</td>\n",
              "      <td>21.800000</td>\n",
              "      <td>104.100000</td>\n",
              "      <td>782.700000</td>\n",
              "      <td>0.105300</td>\n",
              "      <td>0.130400</td>\n",
              "      <td>0.130700</td>\n",
              "      <td>0.074000</td>\n",
              "      <td>0.195700</td>\n",
              "      <td>0.066120</td>\n",
              "      <td>0.478900</td>\n",
              "      <td>1.474000</td>\n",
              "      <td>3.357000</td>\n",
              "      <td>45.190000</td>\n",
              "      <td>0.008146</td>\n",
              "      <td>0.032450</td>\n",
              "      <td>0.042050</td>\n",
              "      <td>0.014710</td>\n",
              "      <td>0.023480</td>\n",
              "      <td>0.004558</td>\n",
              "      <td>18.790000</td>\n",
              "      <td>29.720000</td>\n",
              "      <td>125.400000</td>\n",
              "      <td>1084.000000</td>\n",
              "      <td>0.146000</td>\n",
              "      <td>0.339100</td>\n",
              "      <td>0.382900</td>\n",
              "      <td>0.161400</td>\n",
              "      <td>0.317900</td>\n",
              "      <td>0.092080</td>\n",
              "    </tr>\n",
              "    <tr>\n",
              "      <th>max</th>\n",
              "      <td>28.110000</td>\n",
              "      <td>39.280000</td>\n",
              "      <td>188.500000</td>\n",
              "      <td>2501.000000</td>\n",
              "      <td>0.163400</td>\n",
              "      <td>0.345400</td>\n",
              "      <td>0.426800</td>\n",
              "      <td>0.201200</td>\n",
              "      <td>0.304000</td>\n",
              "      <td>0.097440</td>\n",
              "      <td>2.873000</td>\n",
              "      <td>4.885000</td>\n",
              "      <td>21.980000</td>\n",
              "      <td>542.200000</td>\n",
              "      <td>0.031130</td>\n",
              "      <td>0.135400</td>\n",
              "      <td>0.396000</td>\n",
              "      <td>0.052790</td>\n",
              "      <td>0.078950</td>\n",
              "      <td>0.029840</td>\n",
              "      <td>36.040000</td>\n",
              "      <td>49.540000</td>\n",
              "      <td>251.200000</td>\n",
              "      <td>4254.000000</td>\n",
              "      <td>0.222600</td>\n",
              "      <td>1.058000</td>\n",
              "      <td>1.252000</td>\n",
              "      <td>0.291000</td>\n",
              "      <td>0.663800</td>\n",
              "      <td>0.207500</td>\n",
              "    </tr>\n",
              "  </tbody>\n",
              "</table>\n",
              "</div>"
            ],
            "text/plain": [
              "       mean radius  mean texture  ...  worst symmetry  worst fractal dimension\n",
              "count   569.000000    569.000000  ...      569.000000               569.000000\n",
              "mean     14.127292     19.289649  ...        0.290076                 0.083946\n",
              "std       3.524049      4.301036  ...        0.061867                 0.018061\n",
              "min       6.981000      9.710000  ...        0.156500                 0.055040\n",
              "25%      11.700000     16.170000  ...        0.250400                 0.071460\n",
              "50%      13.370000     18.840000  ...        0.282200                 0.080040\n",
              "75%      15.780000     21.800000  ...        0.317900                 0.092080\n",
              "max      28.110000     39.280000  ...        0.663800                 0.207500\n",
              "\n",
              "[8 rows x 30 columns]"
            ]
          },
          "metadata": {
            "tags": []
          },
          "execution_count": 34
        }
      ]
    },
    {
      "cell_type": "code",
      "metadata": {
        "colab": {
          "base_uri": "https://localhost:8080/"
        },
        "id": "nUvD8uJVQKfT",
        "outputId": "bb404f7d-5a59-4598-dfa7-31b42fd9e199"
      },
      "source": [
        "print(f\"The dataset contains 0 nulls\")\n",
        "data_df.isnull().sum()\n"
      ],
      "execution_count": 35,
      "outputs": [
        {
          "output_type": "stream",
          "text": [
            "The dataset contains 0 nulls\n"
          ],
          "name": "stdout"
        },
        {
          "output_type": "execute_result",
          "data": {
            "text/plain": [
              "mean radius                0\n",
              "mean texture               0\n",
              "mean perimeter             0\n",
              "mean area                  0\n",
              "mean smoothness            0\n",
              "mean compactness           0\n",
              "mean concavity             0\n",
              "mean concave points        0\n",
              "mean symmetry              0\n",
              "mean fractal dimension     0\n",
              "radius error               0\n",
              "texture error              0\n",
              "perimeter error            0\n",
              "area error                 0\n",
              "smoothness error           0\n",
              "compactness error          0\n",
              "concavity error            0\n",
              "concave points error       0\n",
              "symmetry error             0\n",
              "fractal dimension error    0\n",
              "worst radius               0\n",
              "worst texture              0\n",
              "worst perimeter            0\n",
              "worst area                 0\n",
              "worst smoothness           0\n",
              "worst compactness          0\n",
              "worst concavity            0\n",
              "worst concave points       0\n",
              "worst symmetry             0\n",
              "worst fractal dimension    0\n",
              "dtype: int64"
            ]
          },
          "metadata": {
            "tags": []
          },
          "execution_count": 35
        }
      ]
    },
    {
      "cell_type": "markdown",
      "metadata": {
        "id": "RABcfPuGTFTX"
      },
      "source": [
        "## Ex. 2"
      ]
    },
    {
      "cell_type": "code",
      "metadata": {
        "colab": {
          "base_uri": "https://localhost:8080/"
        },
        "id": "Y8Bo56KqSTJI",
        "outputId": "bf2d1832-e527-4318-d725-4861c10b2e74"
      },
      "source": [
        "print(data.DESCR)"
      ],
      "execution_count": 36,
      "outputs": [
        {
          "output_type": "stream",
          "text": [
            ".. _breast_cancer_dataset:\n",
            "\n",
            "Breast cancer wisconsin (diagnostic) dataset\n",
            "--------------------------------------------\n",
            "\n",
            "**Data Set Characteristics:**\n",
            "\n",
            "    :Number of Instances: 569\n",
            "\n",
            "    :Number of Attributes: 30 numeric, predictive attributes and the class\n",
            "\n",
            "    :Attribute Information:\n",
            "        - radius (mean of distances from center to points on the perimeter)\n",
            "        - texture (standard deviation of gray-scale values)\n",
            "        - perimeter\n",
            "        - area\n",
            "        - smoothness (local variation in radius lengths)\n",
            "        - compactness (perimeter^2 / area - 1.0)\n",
            "        - concavity (severity of concave portions of the contour)\n",
            "        - concave points (number of concave portions of the contour)\n",
            "        - symmetry \n",
            "        - fractal dimension (\"coastline approximation\" - 1)\n",
            "\n",
            "        The mean, standard error, and \"worst\" or largest (mean of the three\n",
            "        largest values) of these features were computed for each image,\n",
            "        resulting in 30 features.  For instance, field 3 is Mean Radius, field\n",
            "        13 is Radius SE, field 23 is Worst Radius.\n",
            "\n",
            "        - class:\n",
            "                - WDBC-Malignant\n",
            "                - WDBC-Benign\n",
            "\n",
            "    :Summary Statistics:\n",
            "\n",
            "    ===================================== ====== ======\n",
            "                                           Min    Max\n",
            "    ===================================== ====== ======\n",
            "    radius (mean):                        6.981  28.11\n",
            "    texture (mean):                       9.71   39.28\n",
            "    perimeter (mean):                     43.79  188.5\n",
            "    area (mean):                          143.5  2501.0\n",
            "    smoothness (mean):                    0.053  0.163\n",
            "    compactness (mean):                   0.019  0.345\n",
            "    concavity (mean):                     0.0    0.427\n",
            "    concave points (mean):                0.0    0.201\n",
            "    symmetry (mean):                      0.106  0.304\n",
            "    fractal dimension (mean):             0.05   0.097\n",
            "    radius (standard error):              0.112  2.873\n",
            "    texture (standard error):             0.36   4.885\n",
            "    perimeter (standard error):           0.757  21.98\n",
            "    area (standard error):                6.802  542.2\n",
            "    smoothness (standard error):          0.002  0.031\n",
            "    compactness (standard error):         0.002  0.135\n",
            "    concavity (standard error):           0.0    0.396\n",
            "    concave points (standard error):      0.0    0.053\n",
            "    symmetry (standard error):            0.008  0.079\n",
            "    fractal dimension (standard error):   0.001  0.03\n",
            "    radius (worst):                       7.93   36.04\n",
            "    texture (worst):                      12.02  49.54\n",
            "    perimeter (worst):                    50.41  251.2\n",
            "    area (worst):                         185.2  4254.0\n",
            "    smoothness (worst):                   0.071  0.223\n",
            "    compactness (worst):                  0.027  1.058\n",
            "    concavity (worst):                    0.0    1.252\n",
            "    concave points (worst):               0.0    0.291\n",
            "    symmetry (worst):                     0.156  0.664\n",
            "    fractal dimension (worst):            0.055  0.208\n",
            "    ===================================== ====== ======\n",
            "\n",
            "    :Missing Attribute Values: None\n",
            "\n",
            "    :Class Distribution: 212 - Malignant, 357 - Benign\n",
            "\n",
            "    :Creator:  Dr. William H. Wolberg, W. Nick Street, Olvi L. Mangasarian\n",
            "\n",
            "    :Donor: Nick Street\n",
            "\n",
            "    :Date: November, 1995\n",
            "\n",
            "This is a copy of UCI ML Breast Cancer Wisconsin (Diagnostic) datasets.\n",
            "https://goo.gl/U2Uwz2\n",
            "\n",
            "Features are computed from a digitized image of a fine needle\n",
            "aspirate (FNA) of a breast mass.  They describe\n",
            "characteristics of the cell nuclei present in the image.\n",
            "\n",
            "Separating plane described above was obtained using\n",
            "Multisurface Method-Tree (MSM-T) [K. P. Bennett, \"Decision Tree\n",
            "Construction Via Linear Programming.\" Proceedings of the 4th\n",
            "Midwest Artificial Intelligence and Cognitive Science Society,\n",
            "pp. 97-101, 1992], a classification method which uses linear\n",
            "programming to construct a decision tree.  Relevant features\n",
            "were selected using an exhaustive search in the space of 1-4\n",
            "features and 1-3 separating planes.\n",
            "\n",
            "The actual linear program used to obtain the separating plane\n",
            "in the 3-dimensional space is that described in:\n",
            "[K. P. Bennett and O. L. Mangasarian: \"Robust Linear\n",
            "Programming Discrimination of Two Linearly Inseparable Sets\",\n",
            "Optimization Methods and Software 1, 1992, 23-34].\n",
            "\n",
            "This database is also available through the UW CS ftp server:\n",
            "\n",
            "ftp ftp.cs.wisc.edu\n",
            "cd math-prog/cpo-dataset/machine-learn/WDBC/\n",
            "\n",
            ".. topic:: References\n",
            "\n",
            "   - W.N. Street, W.H. Wolberg and O.L. Mangasarian. Nuclear feature extraction \n",
            "     for breast tumor diagnosis. IS&T/SPIE 1993 International Symposium on \n",
            "     Electronic Imaging: Science and Technology, volume 1905, pages 861-870,\n",
            "     San Jose, CA, 1993.\n",
            "   - O.L. Mangasarian, W.N. Street and W.H. Wolberg. Breast cancer diagnosis and \n",
            "     prognosis via linear programming. Operations Research, 43(4), pages 570-577, \n",
            "     July-August 1995.\n",
            "   - W.H. Wolberg, W.N. Street, and O.L. Mangasarian. Machine learning techniques\n",
            "     to diagnose breast cancer from fine-needle aspirates. Cancer Letters 77 (1994) \n",
            "     163-171.\n"
          ],
          "name": "stdout"
        }
      ]
    },
    {
      "cell_type": "markdown",
      "metadata": {
        "id": "HYU0EzjyTXnV"
      },
      "source": [
        "**NOTE:** According to dataset description there is no feature desribes ID of examined person. There is no need to delete the first column"
      ]
    },
    {
      "cell_type": "code",
      "metadata": {
        "id": "poQdQ_DiShR3"
      },
      "source": [
        "X_train, X_test, y_train, y_test = train_test_split(data.data, data.target, test_size = 0.2, random_state = 42)"
      ],
      "execution_count": 37,
      "outputs": []
    },
    {
      "cell_type": "markdown",
      "metadata": {
        "id": "d_eEmh2IUJw9"
      },
      "source": [
        "## Ex. 3"
      ]
    },
    {
      "cell_type": "code",
      "metadata": {
        "id": "50Gj__61UEX8"
      },
      "source": [
        "from sklearn.linear_model import LogisticRegression\n",
        "logReg_l1_model = LogisticRegression(C=1, penalty='l1')"
      ],
      "execution_count": 38,
      "outputs": []
    },
    {
      "cell_type": "markdown",
      "metadata": {
        "id": "iFQLQxTcUphh"
      },
      "source": [
        "## Ex.4 "
      ]
    },
    {
      "cell_type": "code",
      "metadata": {
        "colab": {
          "base_uri": "https://localhost:8080/",
          "height": 298
        },
        "id": "IYaLQQsmUHdk",
        "outputId": "e750edce-9007-4f8f-a4d8-c06e052e30d1"
      },
      "source": [
        "C_lin = np.logspace(-4, 0, 10) # alpha from 0.0001 to 1\n",
        "train_scores = []\n",
        "test_scores = []\n",
        "\n",
        "for c in C_lin:\n",
        "  logReg_model = LogisticRegression(C=c, penalty='l2')\n",
        "  logReg_model.fit(X_train, y_train)\n",
        "  train_scores.append(logReg_model.score(X_train, y_train))\n",
        "  test_scores.append(logReg_model.score(X_test, y_test))\n",
        "\n",
        "plt.scatter(C_lin, train_scores, 20)\n",
        "plt.scatter(C_lin, test_scores, 20)\n",
        "plt.xlabel(\"c\")\n",
        "plt.xscale(\"log\")\n",
        "plt.ylabel(\"Accuracy\")\n",
        "# plt.ylim((-0.05,1))\n",
        "plt.title(r\" L2 regularization: acuuracy\")\n",
        "plt.legend([\"train score\", \"test score\"])\n",
        "plt.grid(True)\n",
        "plt.show()"
      ],
      "execution_count": 39,
      "outputs": [
        {
          "output_type": "display_data",
          "data": {
            "image/png": "[encoded data removed]",
            "text/plain": [
              "<Figure size 432x288 with 1 Axes>"
            ]
          },
          "metadata": {
            "tags": [],
            "needs_background": "light"
          }
        }
      ]
    },
    {
      "cell_type": "markdown",
      "metadata": {
        "id": "Uns1QVyeWFtl"
      },
      "source": [
        "# Regularization for kNN method"
      ]
    },
    {
      "cell_type": "code",
      "metadata": {
        "id": "LItTPaKmVvYA"
      },
      "source": [
        "from scipy.spatial import distance\n",
        "from sklearn.metrics import accuracy_score\n",
        "\n",
        "def calculate_dist(record, set_of_records):\n",
        "  records_cloned = [record] * len(set_of_records)\n",
        "  result = map(lambda a, b:distance.euclidean(a, b), records_cloned, set_of_records)\n",
        "  return list(result)\n",
        "\n",
        "def _knn_per_record(k, test_record, X_true, y_true):\n",
        "  df = pd.DataFrame(X_true)\n",
        "  df['label'] = y_true\n",
        "  df['distance'] = calculate_dist(test_record, X_true)\n",
        "  df.sort_values(['distance'], ascending=True, inplace=True)\n",
        "\n",
        "  df_k_nearest = df[:k]\n",
        "\n",
        "  label_frequency =  df_k_nearest['label'].value_counts(sort=True)\n",
        "  \n",
        "  if len(label_frequency.where(label_frequency == max(label_frequency)).dropna()) >1: \n",
        "     # if many labels are the most feequent take k+1 nearest values under consideration \n",
        "     if k+1 < len(X_true)/2 :\n",
        "       # stop condition\n",
        "        predicted_class = _knn_per_record(k+1, test_record, X_true, y_true)\n",
        "     else:\n",
        "       predicted_class = list(label_frequency.index)[0]          \n",
        "  else:\n",
        "    # take the most frequest label for the nearest points\n",
        "    predicted_class = list(label_frequency.index)[0]   \n",
        "\n",
        "  return predicted_class "
      ],
      "execution_count": 40,
      "outputs": []
    },
    {
      "cell_type": "code",
      "metadata": {
        "id": "-Sfp7EH8YRWP"
      },
      "source": [
        "def knn_predict (X, X_true, y_true, k=5):\n",
        "  y_predicted = []\n",
        "\n",
        "  for x_record in X:\n",
        "    y_predicted.append(_knn_per_record(k, x_record, X_true, y_true))\n",
        "  \n",
        "  return y_predicted"
      ],
      "execution_count": 41,
      "outputs": []
    },
    {
      "cell_type": "code",
      "metadata": {
        "id": "BQmOvy6TZWAm"
      },
      "source": [
        "from sklearn import datasets\n",
        "\n",
        "iris = datasets.load_iris()\n",
        " \n",
        "#Podziel zbiór na uczący i testowy, test_size - procentowy udział (przykład 50 % uczący i testowy)\n",
        "features_train, features_test, labels_train, labels_test = train_test_split(iris.data, iris.target, test_size=0.5)"
      ],
      "execution_count": 42,
      "outputs": []
    },
    {
      "cell_type": "code",
      "metadata": {
        "colab": {
          "base_uri": "https://localhost:8080/",
          "height": 294
        },
        "id": "KK5I8vENZvZU",
        "outputId": "cceb08d1-f756-464a-9937-36e48c78ddde"
      },
      "source": [
        "accuracy = []\n",
        "accuracy_train = []\n",
        "for k in range(1, 20):\n",
        "    predictions = knn_predict(features_train, features_train, labels_train, k=k)\n",
        "    accuracy_train.append(accuracy_score(labels_train, predictions))\n",
        "    predictions = knn_predict(features_test, features_train, labels_train, k=k)\n",
        "    accuracy.append(accuracy_score(labels_test, predictions))\n",
        "\n",
        "plt.plot(range(1, 20), accuracy_train, 'x-')\n",
        "plt.plot(range(1, 20), accuracy, 'x-')\n",
        "plt.xlabel(\"k\")\n",
        "plt.ylabel(\"Accuracy\")\n",
        "# plt.ylim((-0.05,1))\n",
        "plt.title(r\"KNN Accuracy\")\n",
        "plt.legend([\"train score\", \"test score\"])\n",
        "plt.grid(True)\n",
        "plt.show()"
      ],
      "execution_count": 43,
      "outputs": [
        {
          "output_type": "display_data",
          "data": {
            "image/png": "[encoded data removed]",
            "text/plain": [
              "<Figure size 432x288 with 1 Axes>"
            ]
          },
          "metadata": {
            "tags": [],
            "needs_background": "light"
          }
        }
      ]
    },
    {
      "cell_type": "code",
      "metadata": {
        "id": "9FCSRC51a51o"
      },
      "source": [
        "# accuracy.index(max(accuracy))\n",
        "best_k = [k for k, acc in zip(range(1, 20), accuracy) if acc==max(accuracy)]"
      ],
      "execution_count": 44,
      "outputs": []
    },
    {
      "cell_type": "code",
      "metadata": {
        "colab": {
          "base_uri": "https://localhost:8080/"
        },
        "id": "uAFXKjcXcwYk",
        "outputId": "d07edcf5-4567-47c4-9807-54dd0b707c22"
      },
      "source": [
        "best_k"
      ],
      "execution_count": 45,
      "outputs": [
        {
          "output_type": "execute_result",
          "data": {
            "text/plain": [
              "[2, 3, 4, 5, 6, 7, 8, 9, 10, 11, 12, 13]"
            ]
          },
          "metadata": {
            "tags": []
          },
          "execution_count": 45
        }
      ]
    },
    {
      "cell_type": "markdown",
      "metadata": {
        "id": "zgraiYwTewZL"
      },
      "source": [
        "# Decistion trees optimalization"
      ]
    },
    {
      "cell_type": "code",
      "metadata": {
        "id": "wf_vAhIUegQ4"
      },
      "source": [
        "import matplotlib.pyplot as plt\n",
        "import numpy as np\n",
        "from sklearn.metrics import classification_report, confusion_matrix, f1_score\n",
        "from sklearn import tree\n",
        "from sklearn.model_selection import train_test_split\n",
        "from scipy.io import loadmat\n",
        " \n",
        " \n",
        " \n",
        "# wczytywanie danych\n",
        "dane = loadmat('mnist.mat')\n",
        " \n",
        "#Zad 1. Podziel dane na parametry X oraz odpowiedź y:\n",
        " \n",
        "X = dane['X']\n",
        "y = dane['y']\n",
        " \n",
        "# Standaryzacja\n",
        "for i in range(X.shape[0]):\n",
        "    X[i,:] = X[i,:]/np.std(X[i,:])\n",
        " \n",
        "# Zamiana cyfry 10 -> 0 (błąd w zbiorze danych)    \n",
        "y[np.where(y==10)]=0\n",
        " \n",
        "# wysokość i szerokość obrazka z cyfrą \n",
        "h = 20\n",
        "w = 20\n",
        " \n",
        "\n"
      ],
      "execution_count": 46,
      "outputs": []
    },
    {
      "cell_type": "code",
      "metadata": {
        "id": "5kEqJkl-fxLV"
      },
      "source": [
        "X_train, X_test, y_train, y_test = train_test_split(X, y, test_size=0.3)\n"
      ],
      "execution_count": 47,
      "outputs": []
    },
    {
      "cell_type": "code",
      "metadata": {
        "colab": {
          "base_uri": "https://localhost:8080/",
          "height": 294
        },
        "id": "PtuMY4nNf97k",
        "outputId": "2906cc19-65db-45cb-aa50-b50ca64936e4"
      },
      "source": [
        "deph_range = range(1, 20)\n",
        "accuracy_test = []\n",
        "accuracy_train = []\n",
        "\n",
        "\n",
        "for deph in deph_range:\n",
        "  tree_classifier = tree.DecisionTreeClassifier(max_depth=deph)\n",
        "  tree_classifier.fit(X_train, y_train)\n",
        "  y_predicted = tree_classifier.predict(X_train)\n",
        "  accuracy_train.append(accuracy_score(y_train, y_predicted))\n",
        "\n",
        "  y_predicted = tree_classifier.predict(X_test)\n",
        "  accuracy_test.append(accuracy_score(y_test, y_predicted))\n",
        "\n",
        "\n",
        "plt.plot(deph_range, accuracy_train, 'x-')\n",
        "plt.plot(deph_range, accuracy_test, 'x-')\n",
        "plt.xlabel(\"deph\")\n",
        "plt.ylabel(\"Accuracy\")\n",
        "# plt.ylim((-0.05,1))\n",
        "plt.title(r\"Ttree Accuracy\")\n",
        "plt.legend([\"train score\", \"test score\"])\n",
        "plt.grid(True)\n",
        "plt.show()"
      ],
      "execution_count": 48,
      "outputs": [
        {
          "output_type": "display_data",
          "data": {
            "image/png": "[encoded data removed]",
            "text/plain": [
              "<Figure size 432x288 with 1 Axes>"
            ]
          },
          "metadata": {
            "tags": [],
            "needs_background": "light"
          }
        }
      ]
    },
    {
      "cell_type": "code",
      "metadata": {
        "colab": {
          "base_uri": "https://localhost:8080/"
        },
        "id": "1R_PTXF8g17V",
        "outputId": "5707d8a3-0e75-4489-985c-596298e8e9d5"
      },
      "source": [
        "best_deph = [deph for deph, acc in zip(deph_range, accuracy_test) if acc==max(accuracy_test)]\n",
        "best_deph"
      ],
      "execution_count": 49,
      "outputs": [
        {
          "output_type": "execute_result",
          "data": {
            "text/plain": [
              "[15]"
            ]
          },
          "metadata": {
            "tags": []
          },
          "execution_count": 49
        }
      ]
    },
    {
      "cell_type": "markdown",
      "metadata": {
        "id": "5uuLiNjzidUF"
      },
      "source": [
        "Optimal tree deph is from 10 or 15."
      ]
    },
    {
      "cell_type": "code",
      "metadata": {
        "id": "z0FbvPFLiT__"
      },
      "source": [
        ""
      ],
      "execution_count": 49,
      "outputs": []
    }
  ]
}