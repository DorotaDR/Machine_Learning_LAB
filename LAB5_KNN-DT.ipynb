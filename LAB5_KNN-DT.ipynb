{
  "nbformat": 4,
  "nbformat_minor": 0,
  "metadata": {
    "colab": {
      "name": "LAB-KNN.ipynb",
      "provenance": [],
      "collapsed_sections": [],
      "toc_visible": true
    },
    "kernelspec": {
      "name": "python3",
      "display_name": "Python 3"
    }
  },
  "cells": [
    {
      "cell_type": "markdown",
      "metadata": {
        "id": "KCZ5qVzsl_eF"
      },
      "source": [
        "## Zadanie 1 - kNN - własna implementacja\n"
      ]
    },
    {
      "cell_type": "code",
      "metadata": {
        "id": "kU9OaqRYkepK"
      },
      "source": [
        "from sklearn import datasets\n",
        "from sklearn.model_selection import train_test_split\n",
        "from scipy.spatial import distance\n",
        "from sklearn.metrics import accuracy_score\n",
        "\n",
        "import pandas as pd\n"
      ],
      "execution_count": 1,
      "outputs": []
    },
    {
      "cell_type": "code",
      "metadata": {
        "id": "4Ket1SHT5eXR"
      },
      "source": [
        "def calculate_dist(record, set_of_records):\n",
        "  records_cloned = [record] * len(set_of_records)\n",
        "  result = map(lambda a, b:distance.euclidean(a, b), records_cloned, set_of_records)\n",
        "  return list(result)\n",
        "\n"
      ],
      "execution_count": 2,
      "outputs": []
    },
    {
      "cell_type": "code",
      "metadata": {
        "id": "qhQ9dydw-3Rz"
      },
      "source": [
        "def _knn_per_record(k, test_record, X_true, y_true):\n",
        "  df = pd.DataFrame(X_true)\n",
        "  df['label'] = y_true\n",
        "  df['distance'] = calculate_dist(test_record, X_true)\n",
        "  df.sort_values(['distance'], ascending=True, inplace=True)\n",
        "\n",
        "  df_k_nearest = df[:k]\n",
        "\n",
        "  label_frequency =  df_k_nearest['label'].value_counts(sort=True)\n",
        "  \n",
        "  if len(label_frequency.where(label_frequency == max(label_frequency)).dropna()) >1: \n",
        "     # if many labels are the most feequent take k+1 nearest values under consideration \n",
        "     if k+1 < len(X_true)/2 :\n",
        "       # stop condition\n",
        "        predicted_class = _knn_per_record(k+1, test_record, X_true, y_true)\n",
        "     else:\n",
        "       predicted_class = list(label_frequency.index)[0]          \n",
        "  else:\n",
        "    # take the most frequest label for the nearest points\n",
        "    predicted_class = list(label_frequency.index)[0]   \n",
        "\n",
        "  return predicted_class"
      ],
      "execution_count": 3,
      "outputs": []
    },
    {
      "cell_type": "code",
      "metadata": {
        "id": "cyYJ-jPxE9NP"
      },
      "source": [
        "def knn_predict (X, X_true, y_true, k=5):\n",
        "  y_predicted = []\n",
        "\n",
        "  for x_record in X:\n",
        "    y_predicted.append(_knn_per_record(k, x_record, X_true, y_true))\n",
        "  \n",
        "  return y_predicted"
      ],
      "execution_count": 4,
      "outputs": []
    },
    {
      "cell_type": "code",
      "metadata": {
        "colab": {
          "base_uri": "https://localhost:8080/"
        },
        "id": "3lfbf0XtmAq_",
        "outputId": "195ed0c6-a181-4d55-b8ee-b7ae9b4f7df5"
      },
      "source": [
        "iris = datasets.load_iris()\n",
        " \n",
        "#Podziel zbiór na uczący i testowy, test_size - procentowy udział (przykład 50 % uczący i testowy)\n",
        "features_train, features_test, labels_train, labels_test = train_test_split(iris.data, iris.target, test_size=0.5)\n",
        " \n",
        "#Przykład użycia odległości euklidesowej\n",
        "a = (1, 2, 3)\n",
        "b = (4, 5, 6)\n",
        "dst = distance.euclidean(a, b)\n",
        " \n",
        "# Use KNN to test values\n",
        "predictions = knn_predict(features_test, features_train, labels_train, k=5)\n",
        "\n",
        "# # Sprawdzanie skuteczności klasyfikatora\n",
        "output = accuracy_score(labels_test, predictions)\n",
        "print(output)"
      ],
      "execution_count": 5,
      "outputs": [
        {
          "output_type": "stream",
          "text": [
            "0.96\n"
          ],
          "name": "stdout"
        }
      ]
    },
    {
      "cell_type": "markdown",
      "metadata": {
        "id": "6jwI3Ka7Nrms"
      },
      "source": [
        "## Zad2. kNN - Python (sklearn)"
      ]
    },
    {
      "cell_type": "code",
      "metadata": {
        "id": "S7VGVCn_JyDQ"
      },
      "source": [
        "from sklearn import datasets\n",
        "from sklearn.metrics import accuracy_score\n",
        "from sklearn.model_selection import train_test_split\n",
        "from sklearn.neighbors import KNeighborsClassifier"
      ],
      "execution_count": 6,
      "outputs": []
    },
    {
      "cell_type": "code",
      "metadata": {
        "id": "ZclnWXfqLaJN"
      },
      "source": [
        "features_train, features_test, labels_train, labels_test = train_test_split(iris.data, iris.target, test_size=0.3)\n"
      ],
      "execution_count": 7,
      "outputs": []
    },
    {
      "cell_type": "code",
      "metadata": {
        "colab": {
          "base_uri": "https://localhost:8080/"
        },
        "id": "-EDghAMON58p",
        "outputId": "1e54091d-b3f5-422b-bbce-c8eb7525212d"
      },
      "source": [
        "knn = KNeighborsClassifier(n_neighbors=5)\n",
        "\n",
        "knn.fit(features_train, labels_train)"
      ],
      "execution_count": 8,
      "outputs": [
        {
          "output_type": "execute_result",
          "data": {
            "text/plain": [
              "KNeighborsClassifier(algorithm='auto', leaf_size=30, metric='minkowski',\n",
              "                     metric_params=None, n_jobs=None, n_neighbors=5, p=2,\n",
              "                     weights='uniform')"
            ]
          },
          "metadata": {
            "tags": []
          },
          "execution_count": 8
        }
      ]
    },
    {
      "cell_type": "code",
      "metadata": {
        "colab": {
          "base_uri": "https://localhost:8080/"
        },
        "id": "V-mBscm9OFdB",
        "outputId": "a437d0e9-41d5-4e09-f077-784f12d0ff8f"
      },
      "source": [
        "knn.predict(features_test[:10])"
      ],
      "execution_count": 9,
      "outputs": [
        {
          "output_type": "execute_result",
          "data": {
            "text/plain": [
              "array([1, 1, 2, 0, 1, 0, 2, 1, 1, 0])"
            ]
          },
          "metadata": {
            "tags": []
          },
          "execution_count": 9
        }
      ]
    },
    {
      "cell_type": "code",
      "metadata": {
        "colab": {
          "base_uri": "https://localhost:8080/"
        },
        "id": "KmUSDUx3OPiJ",
        "outputId": "b33aa23d-8fb7-4ce6-f99d-f7e80a3e582c"
      },
      "source": [
        "labels_predicted = knn.predict(features_test)\n",
        "\n",
        "knn_scikit_output = accuracy_score(labels_test, labels_predicted)\n",
        "print(f\"Accuracy : {knn_scikit_output}\")"
      ],
      "execution_count": 10,
      "outputs": [
        {
          "output_type": "stream",
          "text": [
            "Accuracy : 0.9555555555555556\n"
          ],
          "name": "stdout"
        }
      ]
    },
    {
      "cell_type": "markdown",
      "metadata": {
        "id": "maozItqmO_R1"
      },
      "source": [
        "## Zadanie 3"
      ]
    },
    {
      "cell_type": "code",
      "metadata": {
        "colab": {
          "base_uri": "https://localhost:8080/"
        },
        "id": "m-LYj67xOkKq",
        "outputId": "396e80f2-4ba9-4f1b-9fd4-c9c1b67ce4bd"
      },
      "source": [
        "from sklearn.datasets import load_iris\n",
        "from sklearn import tree\n",
        "iris = load_iris()\n",
        "clf = tree.DecisionTreeClassifier()\n",
        "clf.fit(iris.data, iris.target)"
      ],
      "execution_count": 11,
      "outputs": [
        {
          "output_type": "execute_result",
          "data": {
            "text/plain": [
              "DecisionTreeClassifier(ccp_alpha=0.0, class_weight=None, criterion='gini',\n",
              "                       max_depth=None, max_features=None, max_leaf_nodes=None,\n",
              "                       min_impurity_decrease=0.0, min_impurity_split=None,\n",
              "                       min_samples_leaf=1, min_samples_split=2,\n",
              "                       min_weight_fraction_leaf=0.0, presort='deprecated',\n",
              "                       random_state=None, splitter='best')"
            ]
          },
          "metadata": {
            "tags": []
          },
          "execution_count": 11
        }
      ]
    },
    {
      "cell_type": "code",
      "metadata": {
        "colab": {
          "base_uri": "https://localhost:8080/"
        },
        "id": "2CWAB-_0Otfn",
        "outputId": "4d1f4109-1163-48cf-cbb2-c1c20f70763a"
      },
      "source": [
        "clf.predict(iris.data[:1, :])\n"
      ],
      "execution_count": 12,
      "outputs": [
        {
          "output_type": "execute_result",
          "data": {
            "text/plain": [
              "array([0])"
            ]
          },
          "metadata": {
            "tags": []
          },
          "execution_count": 12
        }
      ]
    },
    {
      "cell_type": "code",
      "metadata": {
        "colab": {
          "base_uri": "https://localhost:8080/"
        },
        "id": "Rz4BrN47OvvZ",
        "outputId": "6e6ecc4c-e97c-41f9-c68c-6475c795656f"
      },
      "source": [
        "clf.predict_proba(iris.data[:1, :])\n"
      ],
      "execution_count": 13,
      "outputs": [
        {
          "output_type": "execute_result",
          "data": {
            "text/plain": [
              "array([[1., 0., 0.]])"
            ]
          },
          "metadata": {
            "tags": []
          },
          "execution_count": 13
        }
      ]
    },
    {
      "cell_type": "code",
      "metadata": {
        "colab": {
          "base_uri": "https://localhost:8080/"
        },
        "id": "ZjosBLJQOxnf",
        "outputId": "024d872c-8ba3-4168-fd80-6260c85ac86a"
      },
      "source": [
        "from sklearn.externals.six import StringIO  \n",
        "import pydot \n",
        "dot_data = StringIO() \n",
        "tree.export_graphviz(clf, out_file=dot_data) \n",
        "graph = pydot.graph_from_dot_data(dot_data.getvalue()) \n",
        "graph[0].write_pdf(\"iris.pdf\")"
      ],
      "execution_count": 14,
      "outputs": [
        {
          "output_type": "stream",
          "text": [
            "/usr/local/lib/python3.6/dist-packages/sklearn/externals/six.py:31: FutureWarning: The module is deprecated in version 0.21 and will be removed in version 0.23 since we've dropped support for Python 2.7. Please rely on the official version of six (https://pypi.org/project/six/).\n",
            "  \"(https://pypi.org/project/six/).\", FutureWarning)\n"
          ],
          "name": "stderr"
        }
      ]
    },
    {
      "cell_type": "code",
      "metadata": {
        "id": "Q0NvI1AQPuto"
      },
      "source": [
        "graph[0].write_png(\"iris.png\")"
      ],
      "execution_count": 15,
      "outputs": []
    },
    {
      "cell_type": "code",
      "metadata": {
        "colab": {
          "base_uri": "https://localhost:8080/",
          "height": 792
        },
        "id": "dh158R7MP17e",
        "outputId": "1e0f9288-fcd6-4827-efa0-6292f2d88dd6"
      },
      "source": [
        "from IPython.display import Image\n",
        "Image(filename='iris.png') "
      ],
      "execution_count": 16,
      "outputs": [
        {
          "output_type": "execute_result",
          "data": {
            "image/png": "[encoded data removed]",
            "text/plain": [
              "<IPython.core.display.Image object>"
            ]
          },
          "metadata": {
            "tags": []
          },
          "execution_count": 16
        }
      ]
    },
    {
      "cell_type": "markdown",
      "metadata": {
        "id": "6RSiABesPZBp"
      },
      "source": [
        "## Ex. 4. MNIST "
      ]
    },
    {
      "cell_type": "code",
      "metadata": {
        "id": "8pHF02NTPhxi"
      },
      "source": [
        "def plot_mnist(images, titles, h, w, n_row=3, n_col=4):\n",
        "    plt.figure(figsize=(1.8 * n_col, 2.4 * n_row))\n",
        "    plt.subplots_adjust(bottom=0, left=.01, right=.99, top=.90, hspace=.05)\n",
        "    for i in range(n_row * n_col):\n",
        "        plt.subplot(n_row, n_col, i + 1)\n",
        "        plt.imshow(images[i].reshape((h, w)).T, cmap=plt.cm.gray)\n",
        "        plt.title(titles[i], size=12)\n",
        "        plt.xticks(())\n",
        "        plt.yticks(())"
      ],
      "execution_count": 17,
      "outputs": []
    },
    {
      "cell_type": "code",
      "metadata": {
        "colab": {
          "base_uri": "https://localhost:8080/"
        },
        "id": "0hr7YnVCO1_P",
        "outputId": "5601f21f-3874-4011-85fc-82eb713c1691"
      },
      "source": [
        "# -*- coding: utf-8 -*-\n",
        "import matplotlib.pyplot as plt\n",
        "import numpy as np\n",
        "from sklearn.metrics import classification_report, confusion_matrix, f1_score\n",
        "from sklearn import tree\n",
        "from sklearn.model_selection import train_test_split\n",
        "from scipy.io import loadmat\n",
        " \n",
        " \n",
        " \n",
        "# wczytywanie danych\n",
        "dane = loadmat('mnist.mat')\n",
        " \n",
        "#Zad 1. Podziel dane na parametry X oraz odpowiedź y:\n",
        " \n",
        "X = dane['X']\n",
        "y = dane['y']\n",
        " \n",
        "# Standaryzacja\n",
        "for i in range(X.shape[0]):\n",
        "    X[i,:] = X[i,:]/np.std(X[i,:])\n",
        " \n",
        "# Zamiana cyfry 10 -> 0 (błąd w zbiorze danych)    \n",
        "y[np.where(y==10)]=0\n",
        " \n",
        "# wysokość i szerokość obrazka z cyfrą \n",
        "h = 20\n",
        "w = 20\n",
        " \n",
        "# # Zad 2. Proszę wyświetlić liczbę cyfr oraz liczbę pikseli przypadającą na jeden obraz\n",
        "# \n",
        "print(\"Number of piksel per one image: \", X[0].shape)\n",
        " "
      ],
      "execution_count": 18,
      "outputs": [
        {
          "output_type": "stream",
          "text": [
            "Number of piksel per one image:  (400,)\n"
          ],
          "name": "stdout"
        }
      ]
    },
    {
      "cell_type": "code",
      "metadata": {
        "colab": {
          "base_uri": "https://localhost:8080/"
        },
        "id": "eSCXAtltqibq",
        "outputId": "8f45715c-635c-43b3-b654-dc1bc84e3187"
      },
      "source": [
        "X[:10].shape"
      ],
      "execution_count": 19,
      "outputs": [
        {
          "output_type": "execute_result",
          "data": {
            "text/plain": [
              "(10, 400)"
            ]
          },
          "metadata": {
            "tags": []
          },
          "execution_count": 19
        }
      ]
    },
    {
      "cell_type": "markdown",
      "metadata": {
        "id": "p7pv2MYWqOYG"
      },
      "source": [
        "### Zad 3. Proszę wyświetlić przykładowe cyfry ze zbioru danych (funkcja plot_mnist)."
      ]
    },
    {
      "cell_type": "code",
      "metadata": {
        "colab": {
          "base_uri": "https://localhost:8080/"
        },
        "id": "rPxw2-Fh0bux",
        "outputId": "865ef813-fd88-4cbe-c3aa-5cad51b2bdfe"
      },
      "source": [
        "unique_labels = list(np.unique(y))\n",
        "unique_numbers_X = []\n",
        "for label in unique_labels:\n",
        "  idx = list(y).index(label)\n",
        "  unique_numbers_X.append(X[idx])\n",
        "print(np.array(unique_numbers_X).shape)"
      ],
      "execution_count": 46,
      "outputs": [
        {
          "output_type": "stream",
          "text": [
            "(10, 400)\n"
          ],
          "name": "stdout"
        }
      ]
    },
    {
      "cell_type": "code",
      "metadata": {
        "colab": {
          "base_uri": "https://localhost:8080/",
          "height": 794
        },
        "id": "n-7aJYl2pOyV",
        "outputId": "b21c54e4-601c-4912-da6e-42a2f6300381"
      },
      "source": [
        "plot_mnist(unique_numbers_X, unique_labels, h, w, n_row=5, n_col=2)"
      ],
      "execution_count": 47,
      "outputs": [
        {
          "output_type": "display_data",
          "data": {
            "image/png": "[encoded data removed]",
            "text/plain": [
              "<Figure size 259.2x864 with 10 Axes>"
            ]
          },
          "metadata": {
            "tags": []
          }
        }
      ]
    },
    {
      "cell_type": "markdown",
      "metadata": {
        "id": "msNGXBo_rNcN"
      },
      "source": [
        "### Zad 4. Proszę podzielić zbiór danych na uczący (70 %) i treningowy.."
      ]
    },
    {
      "cell_type": "code",
      "metadata": {
        "id": "DA0G7QdzrOvj"
      },
      "source": [
        "X_train, X_test, y_train, y_test = train_test_split(X, y, test_size=0.3)\n"
      ],
      "execution_count": 22,
      "outputs": []
    },
    {
      "cell_type": "code",
      "metadata": {
        "colab": {
          "base_uri": "https://localhost:8080/"
        },
        "id": "z88QnOfFrtDR",
        "outputId": "e3f4564c-ca67-4324-cc61-05645da57f2b"
      },
      "source": [
        "X_train.shape, y_train.shape, X_test.shape, y_test.shape"
      ],
      "execution_count": 23,
      "outputs": [
        {
          "output_type": "execute_result",
          "data": {
            "text/plain": [
              "((3500, 400), (3500, 1), (1500, 400), (1500, 1))"
            ]
          },
          "metadata": {
            "tags": []
          },
          "execution_count": 23
        }
      ]
    },
    {
      "cell_type": "markdown",
      "metadata": {
        "id": "LKlNM694r3eJ"
      },
      "source": [
        "\n",
        "### Zad 5. Proszę stworzyć instancję klasyfikatora, następnie uczenie oraz predykcja dla danych testowych.\n",
        "Parametry drzewa:DEPTH = 10"
      ]
    },
    {
      "cell_type": "code",
      "metadata": {
        "id": "zU3rvnezr83_"
      },
      "source": [
        "DEPTH = 10"
      ],
      "execution_count": 24,
      "outputs": []
    },
    {
      "cell_type": "code",
      "metadata": {
        "colab": {
          "base_uri": "https://localhost:8080/"
        },
        "id": "lx-6ipnQr9-2",
        "outputId": "026a00c2-69c9-4935-bbb8-1ca72441edaf"
      },
      "source": [
        "tree_classifier = tree.DecisionTreeClassifier(max_depth=DEPTH)\n",
        "tree_classifier.fit(X_train, y_train)"
      ],
      "execution_count": 25,
      "outputs": [
        {
          "output_type": "execute_result",
          "data": {
            "text/plain": [
              "DecisionTreeClassifier(ccp_alpha=0.0, class_weight=None, criterion='gini',\n",
              "                       max_depth=10, max_features=None, max_leaf_nodes=None,\n",
              "                       min_impurity_decrease=0.0, min_impurity_split=None,\n",
              "                       min_samples_leaf=1, min_samples_split=2,\n",
              "                       min_weight_fraction_leaf=0.0, presort='deprecated',\n",
              "                       random_state=None, splitter='best')"
            ]
          },
          "metadata": {
            "tags": []
          },
          "execution_count": 25
        }
      ]
    },
    {
      "cell_type": "code",
      "metadata": {
        "id": "cJkR7xQ3tcsH"
      },
      "source": [
        "y_predicted = tree_classifier.predict(X_test)"
      ],
      "execution_count": 26,
      "outputs": []
    },
    {
      "cell_type": "code",
      "metadata": {
        "colab": {
          "base_uri": "https://localhost:8080/"
        },
        "id": "zI7vsHrQtkd3",
        "outputId": "27a01cb1-d256-457b-a806-85c400365f32"
      },
      "source": [
        "y_predicted"
      ],
      "execution_count": 27,
      "outputs": [
        {
          "output_type": "execute_result",
          "data": {
            "text/plain": [
              "array([6, 2, 9, ..., 6, 8, 1], dtype=uint8)"
            ]
          },
          "metadata": {
            "tags": []
          },
          "execution_count": 27
        }
      ]
    },
    {
      "cell_type": "markdown",
      "metadata": {
        "id": "tmPDEddhPmXI"
      },
      "source": [
        "\n",
        "\n",
        "### Zad 6. Proszę przedstawić wynik F1, macierz błędów (confusion matrix) oraz raport klasyfikacji."
      ]
    },
    {
      "cell_type": "code",
      "metadata": {
        "id": "fl0y9yrxuJN6"
      },
      "source": [
        "from sklearn.metrics import confusion_matrix, classification_report, plot_confusion_matrix, f1_score, multilabel_confusion_matrix"
      ],
      "execution_count": 28,
      "outputs": []
    },
    {
      "cell_type": "markdown",
      "metadata": {
        "id": "OVLzWAf_xw5C"
      },
      "source": [
        "#### Accuracy and F1 score"
      ]
    },
    {
      "cell_type": "code",
      "metadata": {
        "colab": {
          "base_uri": "https://localhost:8080/"
        },
        "id": "6dFh3LjotmYv",
        "outputId": "1933aab4-1f6e-478e-f611-46a9df3547b8"
      },
      "source": [
        "accuracy  = accuracy_score(y_test, y_predicted)\n",
        "f1_w  = f1_score(y_test, y_predicted, average='weighted')\n",
        "f1_micro  = f1_score(y_test, y_predicted, average='micro')\n",
        "f1_macro  = f1_score(y_test, y_predicted, average='macro')\n",
        "\n",
        "print(f\"accuracy: \\t\\t {accuracy}\")\n",
        "print(f\"f1_score (weighted): \\t {f1_w}\")\n",
        "print(f\"f1_score (micro): \\t {f1_micro}\")\n",
        "print(f\"f1_score (micro): \\t {f1_macro}\")"
      ],
      "execution_count": 29,
      "outputs": [
        {
          "output_type": "stream",
          "text": [
            "accuracy: \t\t 0.7913333333333333\n",
            "f1_score (weighted): \t 0.7921207418542199\n",
            "f1_score (micro): \t 0.7913333333333333\n",
            "f1_score (micro): \t 0.7929517134285684\n"
          ],
          "name": "stdout"
        }
      ]
    },
    {
      "cell_type": "code",
      "metadata": {
        "colab": {
          "base_uri": "https://localhost:8080/"
        },
        "id": "kkXDDl8_xAmK",
        "outputId": "036c0c05-1372-47b4-df27-ea123fbdae07"
      },
      "source": [
        "f1  = f1_score(y_test, y_predicted, average='weighted')\n",
        "print(f1)"
      ],
      "execution_count": 30,
      "outputs": [
        {
          "output_type": "stream",
          "text": [
            "0.7921207418542199\n"
          ],
          "name": "stdout"
        }
      ]
    },
    {
      "cell_type": "markdown",
      "metadata": {
        "id": "AoaovKHNx3tC"
      },
      "source": [
        "#### Confusion Matrix"
      ]
    },
    {
      "cell_type": "code",
      "metadata": {
        "colab": {
          "base_uri": "https://localhost:8080/"
        },
        "id": "PPEqSbOCyDTS",
        "outputId": "c59e52fc-07d6-441b-ec42-86b726a13ad3"
      },
      "source": [
        "labels=list(np.unique(y))\n",
        "labels"
      ],
      "execution_count": 31,
      "outputs": [
        {
          "output_type": "execute_result",
          "data": {
            "text/plain": [
              "[0, 1, 2, 3, 4, 5, 6, 7, 8, 9]"
            ]
          },
          "metadata": {
            "tags": []
          },
          "execution_count": 31
        }
      ]
    },
    {
      "cell_type": "code",
      "metadata": {
        "id": "POy9ZjJdt-jN"
      },
      "source": [
        "conf_matrix = confusion_matrix(y_true=y_test, y_pred=y_predicted)"
      ],
      "execution_count": 32,
      "outputs": []
    },
    {
      "cell_type": "code",
      "metadata": {
        "colab": {
          "base_uri": "https://localhost:8080/",
          "height": 363
        },
        "id": "VzO2sBzEub7B",
        "outputId": "a1ad1283-e95a-46d1-de53-b088d4276ee4"
      },
      "source": [
        "pd.DataFrame(conf_matrix, columns = labels, index = labels)"
      ],
      "execution_count": 33,
      "outputs": [
        {
          "output_type": "execute_result",
          "data": {
            "text/html": [
              "<div>\n",
              "<style scoped>\n",
              "    .dataframe tbody tr th:only-of-type {\n",
              "        vertical-align: middle;\n",
              "    }\n",
              "\n",
              "    .dataframe tbody tr th {\n",
              "        vertical-align: top;\n",
              "    }\n",
              "\n",
              "    .dataframe thead th {\n",
              "        text-align: right;\n",
              "    }\n",
              "</style>\n",
              "<table border=\"1\" class=\"dataframe\">\n",
              "  <thead>\n",
              "    <tr style=\"text-align: right;\">\n",
              "      <th></th>\n",
              "      <th>0</th>\n",
              "      <th>1</th>\n",
              "      <th>2</th>\n",
              "      <th>3</th>\n",
              "      <th>4</th>\n",
              "      <th>5</th>\n",
              "      <th>6</th>\n",
              "      <th>7</th>\n",
              "      <th>8</th>\n",
              "      <th>9</th>\n",
              "    </tr>\n",
              "  </thead>\n",
              "  <tbody>\n",
              "    <tr>\n",
              "      <th>0</th>\n",
              "      <td>119</td>\n",
              "      <td>0</td>\n",
              "      <td>1</td>\n",
              "      <td>0</td>\n",
              "      <td>0</td>\n",
              "      <td>2</td>\n",
              "      <td>1</td>\n",
              "      <td>0</td>\n",
              "      <td>5</td>\n",
              "      <td>0</td>\n",
              "    </tr>\n",
              "    <tr>\n",
              "      <th>1</th>\n",
              "      <td>0</td>\n",
              "      <td>139</td>\n",
              "      <td>4</td>\n",
              "      <td>6</td>\n",
              "      <td>1</td>\n",
              "      <td>2</td>\n",
              "      <td>1</td>\n",
              "      <td>2</td>\n",
              "      <td>4</td>\n",
              "      <td>1</td>\n",
              "    </tr>\n",
              "    <tr>\n",
              "      <th>2</th>\n",
              "      <td>3</td>\n",
              "      <td>5</td>\n",
              "      <td>116</td>\n",
              "      <td>10</td>\n",
              "      <td>3</td>\n",
              "      <td>1</td>\n",
              "      <td>11</td>\n",
              "      <td>4</td>\n",
              "      <td>5</td>\n",
              "      <td>3</td>\n",
              "    </tr>\n",
              "    <tr>\n",
              "      <th>3</th>\n",
              "      <td>1</td>\n",
              "      <td>0</td>\n",
              "      <td>7</td>\n",
              "      <td>100</td>\n",
              "      <td>3</td>\n",
              "      <td>11</td>\n",
              "      <td>3</td>\n",
              "      <td>3</td>\n",
              "      <td>7</td>\n",
              "      <td>7</td>\n",
              "    </tr>\n",
              "    <tr>\n",
              "      <th>4</th>\n",
              "      <td>1</td>\n",
              "      <td>4</td>\n",
              "      <td>2</td>\n",
              "      <td>3</td>\n",
              "      <td>114</td>\n",
              "      <td>4</td>\n",
              "      <td>3</td>\n",
              "      <td>2</td>\n",
              "      <td>3</td>\n",
              "      <td>9</td>\n",
              "    </tr>\n",
              "    <tr>\n",
              "      <th>5</th>\n",
              "      <td>2</td>\n",
              "      <td>0</td>\n",
              "      <td>6</td>\n",
              "      <td>12</td>\n",
              "      <td>1</td>\n",
              "      <td>120</td>\n",
              "      <td>2</td>\n",
              "      <td>5</td>\n",
              "      <td>7</td>\n",
              "      <td>4</td>\n",
              "    </tr>\n",
              "    <tr>\n",
              "      <th>6</th>\n",
              "      <td>5</td>\n",
              "      <td>1</td>\n",
              "      <td>1</td>\n",
              "      <td>3</td>\n",
              "      <td>3</td>\n",
              "      <td>8</td>\n",
              "      <td>127</td>\n",
              "      <td>0</td>\n",
              "      <td>7</td>\n",
              "      <td>4</td>\n",
              "    </tr>\n",
              "    <tr>\n",
              "      <th>7</th>\n",
              "      <td>0</td>\n",
              "      <td>2</td>\n",
              "      <td>3</td>\n",
              "      <td>2</td>\n",
              "      <td>1</td>\n",
              "      <td>2</td>\n",
              "      <td>0</td>\n",
              "      <td>118</td>\n",
              "      <td>2</td>\n",
              "      <td>13</td>\n",
              "    </tr>\n",
              "    <tr>\n",
              "      <th>8</th>\n",
              "      <td>0</td>\n",
              "      <td>1</td>\n",
              "      <td>7</td>\n",
              "      <td>7</td>\n",
              "      <td>3</td>\n",
              "      <td>5</td>\n",
              "      <td>5</td>\n",
              "      <td>1</td>\n",
              "      <td>105</td>\n",
              "      <td>5</td>\n",
              "    </tr>\n",
              "    <tr>\n",
              "      <th>9</th>\n",
              "      <td>3</td>\n",
              "      <td>0</td>\n",
              "      <td>0</td>\n",
              "      <td>7</td>\n",
              "      <td>2</td>\n",
              "      <td>3</td>\n",
              "      <td>1</td>\n",
              "      <td>10</td>\n",
              "      <td>9</td>\n",
              "      <td>129</td>\n",
              "    </tr>\n",
              "  </tbody>\n",
              "</table>\n",
              "</div>"
            ],
            "text/plain": [
              "     0    1    2    3    4    5    6    7    8    9\n",
              "0  119    0    1    0    0    2    1    0    5    0\n",
              "1    0  139    4    6    1    2    1    2    4    1\n",
              "2    3    5  116   10    3    1   11    4    5    3\n",
              "3    1    0    7  100    3   11    3    3    7    7\n",
              "4    1    4    2    3  114    4    3    2    3    9\n",
              "5    2    0    6   12    1  120    2    5    7    4\n",
              "6    5    1    1    3    3    8  127    0    7    4\n",
              "7    0    2    3    2    1    2    0  118    2   13\n",
              "8    0    1    7    7    3    5    5    1  105    5\n",
              "9    3    0    0    7    2    3    1   10    9  129"
            ]
          },
          "metadata": {
            "tags": []
          },
          "execution_count": 33
        }
      ]
    },
    {
      "cell_type": "markdown",
      "metadata": {
        "id": "BsCF21zPyLpR"
      },
      "source": [
        "Plot the confusion matrix"
      ]
    },
    {
      "cell_type": "code",
      "metadata": {
        "colab": {
          "base_uri": "https://localhost:8080/",
          "height": 689
        },
        "id": "Oz3l4gh1uegh",
        "outputId": "a8b6272e-50e3-4320-82cd-fd0d45adc803"
      },
      "source": [
        "fig, ax = plt.subplots(figsize=(12,12))\n",
        "plot_confusion_matrix(tree_classifier, X_test, y_test, labels=labels,values_format= 'd', ax = ax )\n",
        "plt.show()"
      ],
      "execution_count": 34,
      "outputs": [
        {
          "output_type": "display_data",
          "data": {
            "image/png": "[encoded data removed]",
            "text/plain": [
              "<Figure size 864x864 with 2 Axes>"
            ]
          },
          "metadata": {
            "tags": [],
            "needs_background": "light"
          }
        }
      ]
    },
    {
      "cell_type": "markdown",
      "metadata": {
        "id": "ilAp6h1JzD2r"
      },
      "source": [
        "### Classification raport: precision, recall, f1-score"
      ]
    },
    {
      "cell_type": "code",
      "metadata": {
        "colab": {
          "base_uri": "https://localhost:8080/"
        },
        "id": "r-tfNeiju5Xl",
        "outputId": "1743e417-cbcf-4e55-abfe-1c5f7e3375a4"
      },
      "source": [
        "print(classification_report(y_true=y_test, y_pred = y_predicted))"
      ],
      "execution_count": 35,
      "outputs": [
        {
          "output_type": "stream",
          "text": [
            "              precision    recall  f1-score   support\n",
            "\n",
            "           0       0.89      0.93      0.91       128\n",
            "           1       0.91      0.87      0.89       160\n",
            "           2       0.79      0.72      0.75       161\n",
            "           3       0.67      0.70      0.68       142\n",
            "           4       0.87      0.79      0.83       145\n",
            "           5       0.76      0.75      0.76       159\n",
            "           6       0.82      0.80      0.81       159\n",
            "           7       0.81      0.83      0.82       143\n",
            "           8       0.68      0.76      0.72       139\n",
            "           9       0.74      0.79      0.76       164\n",
            "\n",
            "    accuracy                           0.79      1500\n",
            "   macro avg       0.79      0.79      0.79      1500\n",
            "weighted avg       0.79      0.79      0.79      1500\n",
            "\n"
          ],
          "name": "stdout"
        }
      ]
    },
    {
      "cell_type": "code",
      "metadata": {
        "id": "VPeGAZ0g0KJw"
      },
      "source": [
        ""
      ],
      "execution_count": 35,
      "outputs": []
    }
  ]
}